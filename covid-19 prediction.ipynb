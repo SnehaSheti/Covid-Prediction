{
 "cells": [
  {
   "cell_type": "code",
   "execution_count": 1,
   "id": "0abe7f3a",
   "metadata": {},
   "outputs": [],
   "source": [
    "import numpy as np\n",
    "import pandas as pd \n",
    "import matplotlib.pyplot as plt \n",
    "import matplotlib.colors as mcolors\n",
    "import random\n",
    "import math\n",
    "import time\n",
    "from sklearn.model_selection import RandomizedSearchCV, train_test_split\n",
    "from sklearn.svm import SVR\n",
    "from sklearn.metrics import mean_squared_error, mean_absolute_error\n",
    "import datetime\n",
    "import operator\n",
    "plt.style.use('seaborn')\n",
    "%matplotlib inline "
   ]
  },
  {
   "cell_type": "code",
   "execution_count": 2,
   "id": "c664c533",
   "metadata": {},
   "outputs": [],
   "source": [
    "confirmed_df=pd.read_csv('time_series_covid19_confirmed_global.csv',)\n",
    "deaths_df=pd.read_csv('time_series_covid19_deaths_global.csv')\n",
    "recoveries_df=pd.read_csv('time_series_covid19_recovered_global.csv')"
   ]
  },
  {
   "cell_type": "markdown",
   "id": "c992eb1e",
   "metadata": {},
   "source": [
    "### BASIC CHECK"
   ]
  },
  {
   "cell_type": "code",
   "execution_count": 3,
   "id": "a0c03fb8",
   "metadata": {},
   "outputs": [
    {
     "data": {
      "text/html": [
       "<div>\n",
       "<style scoped>\n",
       "    .dataframe tbody tr th:only-of-type {\n",
       "        vertical-align: middle;\n",
       "    }\n",
       "\n",
       "    .dataframe tbody tr th {\n",
       "        vertical-align: top;\n",
       "    }\n",
       "\n",
       "    .dataframe thead th {\n",
       "        text-align: right;\n",
       "    }\n",
       "</style>\n",
       "<table border=\"1\" class=\"dataframe\">\n",
       "  <thead>\n",
       "    <tr style=\"text-align: right;\">\n",
       "      <th></th>\n",
       "      <th>Province/State</th>\n",
       "      <th>Country/Region</th>\n",
       "      <th>Lat</th>\n",
       "      <th>Long</th>\n",
       "      <th>1/22/20</th>\n",
       "      <th>1/23/20</th>\n",
       "      <th>1/24/20</th>\n",
       "      <th>1/25/20</th>\n",
       "      <th>1/26/20</th>\n",
       "      <th>1/27/20</th>\n",
       "      <th>...</th>\n",
       "      <th>9/12/20</th>\n",
       "      <th>9/13/20</th>\n",
       "      <th>9/14/20</th>\n",
       "      <th>9/15/20</th>\n",
       "      <th>9/16/20</th>\n",
       "      <th>9/17/20</th>\n",
       "      <th>9/18/20</th>\n",
       "      <th>9/19/20</th>\n",
       "      <th>9/20/20</th>\n",
       "      <th>9/21/20</th>\n",
       "    </tr>\n",
       "  </thead>\n",
       "  <tbody>\n",
       "    <tr>\n",
       "      <th>0</th>\n",
       "      <td>NaN</td>\n",
       "      <td>Afghanistan</td>\n",
       "      <td>33.93911</td>\n",
       "      <td>67.709953</td>\n",
       "      <td>0</td>\n",
       "      <td>0</td>\n",
       "      <td>0</td>\n",
       "      <td>0</td>\n",
       "      <td>0</td>\n",
       "      <td>0</td>\n",
       "      <td>...</td>\n",
       "      <td>38641</td>\n",
       "      <td>38716</td>\n",
       "      <td>38772</td>\n",
       "      <td>38815</td>\n",
       "      <td>38855</td>\n",
       "      <td>38872</td>\n",
       "      <td>38883</td>\n",
       "      <td>38919</td>\n",
       "      <td>39044</td>\n",
       "      <td>39074</td>\n",
       "    </tr>\n",
       "    <tr>\n",
       "      <th>1</th>\n",
       "      <td>NaN</td>\n",
       "      <td>Albania</td>\n",
       "      <td>41.15330</td>\n",
       "      <td>20.168300</td>\n",
       "      <td>0</td>\n",
       "      <td>0</td>\n",
       "      <td>0</td>\n",
       "      <td>0</td>\n",
       "      <td>0</td>\n",
       "      <td>0</td>\n",
       "      <td>...</td>\n",
       "      <td>11185</td>\n",
       "      <td>11353</td>\n",
       "      <td>11520</td>\n",
       "      <td>11672</td>\n",
       "      <td>11816</td>\n",
       "      <td>11948</td>\n",
       "      <td>12073</td>\n",
       "      <td>12226</td>\n",
       "      <td>12385</td>\n",
       "      <td>12535</td>\n",
       "    </tr>\n",
       "    <tr>\n",
       "      <th>2</th>\n",
       "      <td>NaN</td>\n",
       "      <td>Algeria</td>\n",
       "      <td>28.03390</td>\n",
       "      <td>1.659600</td>\n",
       "      <td>0</td>\n",
       "      <td>0</td>\n",
       "      <td>0</td>\n",
       "      <td>0</td>\n",
       "      <td>0</td>\n",
       "      <td>0</td>\n",
       "      <td>...</td>\n",
       "      <td>48007</td>\n",
       "      <td>48254</td>\n",
       "      <td>48496</td>\n",
       "      <td>48734</td>\n",
       "      <td>48966</td>\n",
       "      <td>49194</td>\n",
       "      <td>49413</td>\n",
       "      <td>49623</td>\n",
       "      <td>49826</td>\n",
       "      <td>50023</td>\n",
       "    </tr>\n",
       "    <tr>\n",
       "      <th>3</th>\n",
       "      <td>NaN</td>\n",
       "      <td>Andorra</td>\n",
       "      <td>42.50630</td>\n",
       "      <td>1.521800</td>\n",
       "      <td>0</td>\n",
       "      <td>0</td>\n",
       "      <td>0</td>\n",
       "      <td>0</td>\n",
       "      <td>0</td>\n",
       "      <td>0</td>\n",
       "      <td>...</td>\n",
       "      <td>1344</td>\n",
       "      <td>1344</td>\n",
       "      <td>1438</td>\n",
       "      <td>1438</td>\n",
       "      <td>1483</td>\n",
       "      <td>1483</td>\n",
       "      <td>1564</td>\n",
       "      <td>1564</td>\n",
       "      <td>1564</td>\n",
       "      <td>1681</td>\n",
       "    </tr>\n",
       "    <tr>\n",
       "      <th>4</th>\n",
       "      <td>NaN</td>\n",
       "      <td>Angola</td>\n",
       "      <td>-11.20270</td>\n",
       "      <td>17.873900</td>\n",
       "      <td>0</td>\n",
       "      <td>0</td>\n",
       "      <td>0</td>\n",
       "      <td>0</td>\n",
       "      <td>0</td>\n",
       "      <td>0</td>\n",
       "      <td>...</td>\n",
       "      <td>3335</td>\n",
       "      <td>3388</td>\n",
       "      <td>3439</td>\n",
       "      <td>3569</td>\n",
       "      <td>3675</td>\n",
       "      <td>3789</td>\n",
       "      <td>3848</td>\n",
       "      <td>3901</td>\n",
       "      <td>3991</td>\n",
       "      <td>4117</td>\n",
       "    </tr>\n",
       "  </tbody>\n",
       "</table>\n",
       "<p>5 rows × 248 columns</p>\n",
       "</div>"
      ],
      "text/plain": [
       "  Province/State Country/Region       Lat       Long  1/22/20  1/23/20  \\\n",
       "0            NaN    Afghanistan  33.93911  67.709953        0        0   \n",
       "1            NaN        Albania  41.15330  20.168300        0        0   \n",
       "2            NaN        Algeria  28.03390   1.659600        0        0   \n",
       "3            NaN        Andorra  42.50630   1.521800        0        0   \n",
       "4            NaN         Angola -11.20270  17.873900        0        0   \n",
       "\n",
       "   1/24/20  1/25/20  1/26/20  1/27/20  ...  9/12/20  9/13/20  9/14/20  \\\n",
       "0        0        0        0        0  ...    38641    38716    38772   \n",
       "1        0        0        0        0  ...    11185    11353    11520   \n",
       "2        0        0        0        0  ...    48007    48254    48496   \n",
       "3        0        0        0        0  ...     1344     1344     1438   \n",
       "4        0        0        0        0  ...     3335     3388     3439   \n",
       "\n",
       "   9/15/20  9/16/20  9/17/20  9/18/20  9/19/20  9/20/20  9/21/20  \n",
       "0    38815    38855    38872    38883    38919    39044    39074  \n",
       "1    11672    11816    11948    12073    12226    12385    12535  \n",
       "2    48734    48966    49194    49413    49623    49826    50023  \n",
       "3     1438     1483     1483     1564     1564     1564     1681  \n",
       "4     3569     3675     3789     3848     3901     3991     4117  \n",
       "\n",
       "[5 rows x 248 columns]"
      ]
     },
     "execution_count": 3,
     "metadata": {},
     "output_type": "execute_result"
    }
   ],
   "source": [
    "confirmed_df.head()"
   ]
  },
  {
   "cell_type": "code",
   "execution_count": 4,
   "id": "992776cd",
   "metadata": {},
   "outputs": [
    {
     "data": {
      "text/plain": [
       "array([nan, 'Australian Capital Territory', 'New South Wales',\n",
       "       'Northern Territory', 'Queensland', 'South Australia', 'Tasmania',\n",
       "       'Victoria', 'Western Australia', 'Alberta', 'British Columbia',\n",
       "       'Diamond Princess', 'Grand Princess', 'Manitoba', 'New Brunswick',\n",
       "       'Newfoundland and Labrador', 'Northwest Territories',\n",
       "       'Nova Scotia', 'Ontario', 'Prince Edward Island', 'Quebec',\n",
       "       'Saskatchewan', 'Yukon', 'Anhui', 'Beijing', 'Chongqing', 'Fujian',\n",
       "       'Gansu', 'Guangdong', 'Guangxi', 'Guizhou', 'Hainan', 'Hebei',\n",
       "       'Heilongjiang', 'Henan', 'Hong Kong', 'Hubei', 'Hunan',\n",
       "       'Inner Mongolia', 'Jiangsu', 'Jiangxi', 'Jilin', 'Liaoning',\n",
       "       'Macau', 'Ningxia', 'Qinghai', 'Shaanxi', 'Shandong', 'Shanghai',\n",
       "       'Shanxi', 'Sichuan', 'Tianjin', 'Tibet', 'Xinjiang', 'Yunnan',\n",
       "       'Zhejiang', 'Faroe Islands', 'Greenland', 'French Guiana',\n",
       "       'French Polynesia', 'Guadeloupe', 'Martinique', 'Mayotte',\n",
       "       'New Caledonia', 'Reunion', 'Saint Barthelemy',\n",
       "       'Saint Pierre and Miquelon', 'St Martin', 'Aruba',\n",
       "       'Bonaire, Sint Eustatius and Saba', 'Curacao', 'Sint Maarten',\n",
       "       'Anguilla', 'Bermuda', 'British Virgin Islands', 'Cayman Islands',\n",
       "       'Channel Islands', 'Falkland Islands (Malvinas)', 'Gibraltar',\n",
       "       'Isle of Man', 'Montserrat', 'Turks and Caicos Islands'],\n",
       "      dtype=object)"
      ]
     },
     "execution_count": 4,
     "metadata": {},
     "output_type": "execute_result"
    }
   ],
   "source": [
    "confirmed_df['Province/State'].unique()"
   ]
  },
  {
   "cell_type": "code",
   "execution_count": 5,
   "id": "2fd8cfb2",
   "metadata": {},
   "outputs": [
    {
     "data": {
      "text/plain": [
       "array(['Afghanistan', 'Albania', 'Algeria', 'Andorra', 'Angola',\n",
       "       'Antigua and Barbuda', 'Argentina', 'Armenia', 'Australia',\n",
       "       'Austria', 'Azerbaijan', 'Bahamas', 'Bahrain', 'Bangladesh',\n",
       "       'Barbados', 'Belarus', 'Belgium', 'Belize', 'Benin', 'Bhutan',\n",
       "       'Bolivia', 'Bosnia and Herzegovina', 'Botswana', 'Brazil',\n",
       "       'Brunei', 'Bulgaria', 'Burkina Faso', 'Burma', 'Burundi',\n",
       "       'Cabo Verde', 'Cambodia', 'Cameroon', 'Canada',\n",
       "       'Central African Republic', 'Chad', 'Chile', 'China', 'Colombia',\n",
       "       'Comoros', 'Congo (Brazzaville)', 'Congo (Kinshasa)', 'Costa Rica',\n",
       "       \"Cote d'Ivoire\", 'Croatia', 'Cuba', 'Cyprus', 'Czechia', 'Denmark',\n",
       "       'Diamond Princess', 'Djibouti', 'Dominica', 'Dominican Republic',\n",
       "       'Ecuador', 'Egypt', 'El Salvador', 'Equatorial Guinea', 'Eritrea',\n",
       "       'Estonia', 'Eswatini', 'Ethiopia', 'Fiji', 'Finland', 'France',\n",
       "       'Gabon', 'Gambia', 'Georgia', 'Germany', 'Ghana', 'Greece',\n",
       "       'Grenada', 'Guatemala', 'Guinea', 'Guinea-Bissau', 'Guyana',\n",
       "       'Haiti', 'Holy See', 'Honduras', 'Hungary', 'Iceland', 'India',\n",
       "       'Indonesia', 'Iran', 'Iraq', 'Ireland', 'Israel', 'Italy',\n",
       "       'Jamaica', 'Japan', 'Jordan', 'Kazakhstan', 'Kenya',\n",
       "       'Korea, South', 'Kosovo', 'Kuwait', 'Kyrgyzstan', 'Laos', 'Latvia',\n",
       "       'Lebanon', 'Lesotho', 'Liberia', 'Libya', 'Liechtenstein',\n",
       "       'Lithuania', 'Luxembourg', 'MS Zaandam', 'Madagascar', 'Malawi',\n",
       "       'Malaysia', 'Maldives', 'Mali', 'Malta', 'Mauritania', 'Mauritius',\n",
       "       'Mexico', 'Moldova', 'Monaco', 'Mongolia', 'Montenegro', 'Morocco',\n",
       "       'Mozambique', 'Namibia', 'Nepal', 'Netherlands', 'New Zealand',\n",
       "       'Nicaragua', 'Niger', 'Nigeria', 'North Macedonia', 'Norway',\n",
       "       'Oman', 'Pakistan', 'Panama', 'Papua New Guinea', 'Paraguay',\n",
       "       'Peru', 'Philippines', 'Poland', 'Portugal', 'Qatar', 'Romania',\n",
       "       'Russia', 'Rwanda', 'Saint Kitts and Nevis', 'Saint Lucia',\n",
       "       'Saint Vincent and the Grenadines', 'San Marino',\n",
       "       'Sao Tome and Principe', 'Saudi Arabia', 'Senegal', 'Serbia',\n",
       "       'Seychelles', 'Sierra Leone', 'Singapore', 'Slovakia', 'Slovenia',\n",
       "       'Somalia', 'South Africa', 'South Sudan', 'Spain', 'Sri Lanka',\n",
       "       'Sudan', 'Suriname', 'Sweden', 'Switzerland', 'Syria', 'Taiwan*',\n",
       "       'Tajikistan', 'Tanzania', 'Thailand', 'Timor-Leste', 'Togo',\n",
       "       'Trinidad and Tobago', 'Tunisia', 'Turkey', 'US', 'Uganda',\n",
       "       'Ukraine', 'United Arab Emirates', 'United Kingdom', 'Uruguay',\n",
       "       'Uzbekistan', 'Venezuela', 'Vietnam', 'West Bank and Gaza',\n",
       "       'Western Sahara', 'Yemen', 'Zambia', 'Zimbabwe'], dtype=object)"
      ]
     },
     "execution_count": 5,
     "metadata": {},
     "output_type": "execute_result"
    }
   ],
   "source": [
    "confirmed_df['Country/Region'].unique()"
   ]
  },
  {
   "cell_type": "code",
   "execution_count": 6,
   "id": "a3f7c00b",
   "metadata": {},
   "outputs": [
    {
     "name": "stdout",
     "output_type": "stream",
     "text": [
      "<class 'pandas.core.frame.DataFrame'>\n",
      "RangeIndex: 266 entries, 0 to 265\n",
      "Columns: 248 entries, Province/State to 9/21/20\n",
      "dtypes: float64(2), int64(244), object(2)\n",
      "memory usage: 515.5+ KB\n"
     ]
    }
   ],
   "source": [
    "confirmed_df.info()"
   ]
  },
  {
   "cell_type": "code",
   "execution_count": 7,
   "id": "2a4e9429",
   "metadata": {},
   "outputs": [
    {
     "data": {
      "text/html": [
       "<div>\n",
       "<style scoped>\n",
       "    .dataframe tbody tr th:only-of-type {\n",
       "        vertical-align: middle;\n",
       "    }\n",
       "\n",
       "    .dataframe tbody tr th {\n",
       "        vertical-align: top;\n",
       "    }\n",
       "\n",
       "    .dataframe thead th {\n",
       "        text-align: right;\n",
       "    }\n",
       "</style>\n",
       "<table border=\"1\" class=\"dataframe\">\n",
       "  <thead>\n",
       "    <tr style=\"text-align: right;\">\n",
       "      <th></th>\n",
       "      <th>Lat</th>\n",
       "      <th>Long</th>\n",
       "      <th>1/22/20</th>\n",
       "      <th>1/23/20</th>\n",
       "      <th>1/24/20</th>\n",
       "      <th>1/25/20</th>\n",
       "      <th>1/26/20</th>\n",
       "      <th>1/27/20</th>\n",
       "      <th>1/28/20</th>\n",
       "      <th>1/29/20</th>\n",
       "      <th>...</th>\n",
       "      <th>9/12/20</th>\n",
       "      <th>9/13/20</th>\n",
       "      <th>9/14/20</th>\n",
       "      <th>9/15/20</th>\n",
       "      <th>9/16/20</th>\n",
       "      <th>9/17/20</th>\n",
       "      <th>9/18/20</th>\n",
       "      <th>9/19/20</th>\n",
       "      <th>9/20/20</th>\n",
       "      <th>9/21/20</th>\n",
       "    </tr>\n",
       "  </thead>\n",
       "  <tbody>\n",
       "    <tr>\n",
       "      <th>count</th>\n",
       "      <td>266.000000</td>\n",
       "      <td>266.000000</td>\n",
       "      <td>266.000000</td>\n",
       "      <td>266.000000</td>\n",
       "      <td>266.000000</td>\n",
       "      <td>266.000000</td>\n",
       "      <td>266.000000</td>\n",
       "      <td>266.000000</td>\n",
       "      <td>266.000000</td>\n",
       "      <td>266.000000</td>\n",
       "      <td>...</td>\n",
       "      <td>2.660000e+02</td>\n",
       "      <td>2.660000e+02</td>\n",
       "      <td>2.660000e+02</td>\n",
       "      <td>2.660000e+02</td>\n",
       "      <td>2.660000e+02</td>\n",
       "      <td>2.660000e+02</td>\n",
       "      <td>2.660000e+02</td>\n",
       "      <td>2.660000e+02</td>\n",
       "      <td>2.660000e+02</td>\n",
       "      <td>2.660000e+02</td>\n",
       "    </tr>\n",
       "    <tr>\n",
       "      <th>mean</th>\n",
       "      <td>21.076624</td>\n",
       "      <td>22.829441</td>\n",
       "      <td>2.086466</td>\n",
       "      <td>2.458647</td>\n",
       "      <td>3.537594</td>\n",
       "      <td>5.390977</td>\n",
       "      <td>7.962406</td>\n",
       "      <td>11.003759</td>\n",
       "      <td>20.969925</td>\n",
       "      <td>23.180451</td>\n",
       "      <td>...</td>\n",
       "      <td>1.081163e+05</td>\n",
       "      <td>1.090052e+05</td>\n",
       "      <td>1.100551e+05</td>\n",
       "      <td>1.111201e+05</td>\n",
       "      <td>1.122630e+05</td>\n",
       "      <td>1.134410e+05</td>\n",
       "      <td>1.146599e+05</td>\n",
       "      <td>1.157171e+05</td>\n",
       "      <td>1.166240e+05</td>\n",
       "      <td>1.174654e+05</td>\n",
       "    </tr>\n",
       "    <tr>\n",
       "      <th>std</th>\n",
       "      <td>24.904600</td>\n",
       "      <td>70.191330</td>\n",
       "      <td>27.279200</td>\n",
       "      <td>27.377862</td>\n",
       "      <td>34.083035</td>\n",
       "      <td>47.434934</td>\n",
       "      <td>66.289178</td>\n",
       "      <td>89.313757</td>\n",
       "      <td>219.187744</td>\n",
       "      <td>220.524977</td>\n",
       "      <td>...</td>\n",
       "      <td>5.678329e+05</td>\n",
       "      <td>5.727452e+05</td>\n",
       "      <td>5.774877e+05</td>\n",
       "      <td>5.831820e+05</td>\n",
       "      <td>5.891235e+05</td>\n",
       "      <td>5.953081e+05</td>\n",
       "      <td>6.017349e+05</td>\n",
       "      <td>6.076737e+05</td>\n",
       "      <td>6.126599e+05</td>\n",
       "      <td>6.154886e+05</td>\n",
       "    </tr>\n",
       "    <tr>\n",
       "      <th>min</th>\n",
       "      <td>-51.796300</td>\n",
       "      <td>-135.000000</td>\n",
       "      <td>0.000000</td>\n",
       "      <td>0.000000</td>\n",
       "      <td>0.000000</td>\n",
       "      <td>0.000000</td>\n",
       "      <td>0.000000</td>\n",
       "      <td>0.000000</td>\n",
       "      <td>0.000000</td>\n",
       "      <td>0.000000</td>\n",
       "      <td>...</td>\n",
       "      <td>0.000000e+00</td>\n",
       "      <td>0.000000e+00</td>\n",
       "      <td>0.000000e+00</td>\n",
       "      <td>0.000000e+00</td>\n",
       "      <td>0.000000e+00</td>\n",
       "      <td>0.000000e+00</td>\n",
       "      <td>0.000000e+00</td>\n",
       "      <td>0.000000e+00</td>\n",
       "      <td>0.000000e+00</td>\n",
       "      <td>0.000000e+00</td>\n",
       "    </tr>\n",
       "    <tr>\n",
       "      <th>25%</th>\n",
       "      <td>6.677575</td>\n",
       "      <td>-15.277675</td>\n",
       "      <td>0.000000</td>\n",
       "      <td>0.000000</td>\n",
       "      <td>0.000000</td>\n",
       "      <td>0.000000</td>\n",
       "      <td>0.000000</td>\n",
       "      <td>0.000000</td>\n",
       "      <td>0.000000</td>\n",
       "      <td>0.000000</td>\n",
       "      <td>...</td>\n",
       "      <td>4.672500e+02</td>\n",
       "      <td>4.675000e+02</td>\n",
       "      <td>4.675000e+02</td>\n",
       "      <td>4.682500e+02</td>\n",
       "      <td>4.682500e+02</td>\n",
       "      <td>4.707500e+02</td>\n",
       "      <td>4.707500e+02</td>\n",
       "      <td>4.707500e+02</td>\n",
       "      <td>4.707500e+02</td>\n",
       "      <td>4.710000e+02</td>\n",
       "    </tr>\n",
       "    <tr>\n",
       "      <th>50%</th>\n",
       "      <td>22.820850</td>\n",
       "      <td>20.921188</td>\n",
       "      <td>0.000000</td>\n",
       "      <td>0.000000</td>\n",
       "      <td>0.000000</td>\n",
       "      <td>0.000000</td>\n",
       "      <td>0.000000</td>\n",
       "      <td>0.000000</td>\n",
       "      <td>0.000000</td>\n",
       "      <td>0.000000</td>\n",
       "      <td>...</td>\n",
       "      <td>3.354500e+03</td>\n",
       "      <td>3.381000e+03</td>\n",
       "      <td>3.397000e+03</td>\n",
       "      <td>3.459000e+03</td>\n",
       "      <td>3.466000e+03</td>\n",
       "      <td>3.522500e+03</td>\n",
       "      <td>3.608000e+03</td>\n",
       "      <td>3.714500e+03</td>\n",
       "      <td>3.772000e+03</td>\n",
       "      <td>3.823500e+03</td>\n",
       "    </tr>\n",
       "    <tr>\n",
       "      <th>75%</th>\n",
       "      <td>41.143200</td>\n",
       "      <td>77.913685</td>\n",
       "      <td>0.000000</td>\n",
       "      <td>0.000000</td>\n",
       "      <td>0.000000</td>\n",
       "      <td>0.000000</td>\n",
       "      <td>0.000000</td>\n",
       "      <td>0.000000</td>\n",
       "      <td>0.000000</td>\n",
       "      <td>0.000000</td>\n",
       "      <td>...</td>\n",
       "      <td>3.472475e+04</td>\n",
       "      <td>3.540750e+04</td>\n",
       "      <td>3.553900e+04</td>\n",
       "      <td>3.580200e+04</td>\n",
       "      <td>3.599400e+04</td>\n",
       "      <td>3.639525e+04</td>\n",
       "      <td>3.670825e+04</td>\n",
       "      <td>3.731275e+04</td>\n",
       "      <td>3.781650e+04</td>\n",
       "      <td>3.826325e+04</td>\n",
       "    </tr>\n",
       "    <tr>\n",
       "      <th>max</th>\n",
       "      <td>71.706900</td>\n",
       "      <td>178.065000</td>\n",
       "      <td>444.000000</td>\n",
       "      <td>444.000000</td>\n",
       "      <td>549.000000</td>\n",
       "      <td>761.000000</td>\n",
       "      <td>1058.000000</td>\n",
       "      <td>1423.000000</td>\n",
       "      <td>3554.000000</td>\n",
       "      <td>3554.000000</td>\n",
       "      <td>...</td>\n",
       "      <td>6.485123e+06</td>\n",
       "      <td>6.520122e+06</td>\n",
       "      <td>6.553652e+06</td>\n",
       "      <td>6.592342e+06</td>\n",
       "      <td>6.630051e+06</td>\n",
       "      <td>6.674411e+06</td>\n",
       "      <td>6.723933e+06</td>\n",
       "      <td>6.768119e+06</td>\n",
       "      <td>6.804814e+06</td>\n",
       "      <td>6.856884e+06</td>\n",
       "    </tr>\n",
       "  </tbody>\n",
       "</table>\n",
       "<p>8 rows × 246 columns</p>\n",
       "</div>"
      ],
      "text/plain": [
       "              Lat        Long     1/22/20     1/23/20     1/24/20     1/25/20  \\\n",
       "count  266.000000  266.000000  266.000000  266.000000  266.000000  266.000000   \n",
       "mean    21.076624   22.829441    2.086466    2.458647    3.537594    5.390977   \n",
       "std     24.904600   70.191330   27.279200   27.377862   34.083035   47.434934   \n",
       "min    -51.796300 -135.000000    0.000000    0.000000    0.000000    0.000000   \n",
       "25%      6.677575  -15.277675    0.000000    0.000000    0.000000    0.000000   \n",
       "50%     22.820850   20.921188    0.000000    0.000000    0.000000    0.000000   \n",
       "75%     41.143200   77.913685    0.000000    0.000000    0.000000    0.000000   \n",
       "max     71.706900  178.065000  444.000000  444.000000  549.000000  761.000000   \n",
       "\n",
       "           1/26/20      1/27/20      1/28/20      1/29/20  ...       9/12/20  \\\n",
       "count   266.000000   266.000000   266.000000   266.000000  ...  2.660000e+02   \n",
       "mean      7.962406    11.003759    20.969925    23.180451  ...  1.081163e+05   \n",
       "std      66.289178    89.313757   219.187744   220.524977  ...  5.678329e+05   \n",
       "min       0.000000     0.000000     0.000000     0.000000  ...  0.000000e+00   \n",
       "25%       0.000000     0.000000     0.000000     0.000000  ...  4.672500e+02   \n",
       "50%       0.000000     0.000000     0.000000     0.000000  ...  3.354500e+03   \n",
       "75%       0.000000     0.000000     0.000000     0.000000  ...  3.472475e+04   \n",
       "max    1058.000000  1423.000000  3554.000000  3554.000000  ...  6.485123e+06   \n",
       "\n",
       "            9/13/20       9/14/20       9/15/20       9/16/20       9/17/20  \\\n",
       "count  2.660000e+02  2.660000e+02  2.660000e+02  2.660000e+02  2.660000e+02   \n",
       "mean   1.090052e+05  1.100551e+05  1.111201e+05  1.122630e+05  1.134410e+05   \n",
       "std    5.727452e+05  5.774877e+05  5.831820e+05  5.891235e+05  5.953081e+05   \n",
       "min    0.000000e+00  0.000000e+00  0.000000e+00  0.000000e+00  0.000000e+00   \n",
       "25%    4.675000e+02  4.675000e+02  4.682500e+02  4.682500e+02  4.707500e+02   \n",
       "50%    3.381000e+03  3.397000e+03  3.459000e+03  3.466000e+03  3.522500e+03   \n",
       "75%    3.540750e+04  3.553900e+04  3.580200e+04  3.599400e+04  3.639525e+04   \n",
       "max    6.520122e+06  6.553652e+06  6.592342e+06  6.630051e+06  6.674411e+06   \n",
       "\n",
       "            9/18/20       9/19/20       9/20/20       9/21/20  \n",
       "count  2.660000e+02  2.660000e+02  2.660000e+02  2.660000e+02  \n",
       "mean   1.146599e+05  1.157171e+05  1.166240e+05  1.174654e+05  \n",
       "std    6.017349e+05  6.076737e+05  6.126599e+05  6.154886e+05  \n",
       "min    0.000000e+00  0.000000e+00  0.000000e+00  0.000000e+00  \n",
       "25%    4.707500e+02  4.707500e+02  4.707500e+02  4.710000e+02  \n",
       "50%    3.608000e+03  3.714500e+03  3.772000e+03  3.823500e+03  \n",
       "75%    3.670825e+04  3.731275e+04  3.781650e+04  3.826325e+04  \n",
       "max    6.723933e+06  6.768119e+06  6.804814e+06  6.856884e+06  \n",
       "\n",
       "[8 rows x 246 columns]"
      ]
     },
     "execution_count": 7,
     "metadata": {},
     "output_type": "execute_result"
    }
   ],
   "source": [
    "confirmed_df.describe()"
   ]
  },
  {
   "cell_type": "code",
   "execution_count": 8,
   "id": "82ce2850",
   "metadata": {},
   "outputs": [
    {
     "data": {
      "text/plain": [
       "Index(['Province/State', 'Country/Region', 'Lat', 'Long', '1/22/20', '1/23/20',\n",
       "       '1/24/20', '1/25/20', '1/26/20', '1/27/20',\n",
       "       ...\n",
       "       '9/12/20', '9/13/20', '9/14/20', '9/15/20', '9/16/20', '9/17/20',\n",
       "       '9/18/20', '9/19/20', '9/20/20', '9/21/20'],\n",
       "      dtype='object', length=248)"
      ]
     },
     "execution_count": 8,
     "metadata": {},
     "output_type": "execute_result"
    }
   ],
   "source": [
    "#Extracting all colunmns name .keys() function\n",
    "cols = confirmed_df.keys()\n",
    "cols"
   ]
  },
  {
   "cell_type": "code",
   "execution_count": 9,
   "id": "a5fe1c51",
   "metadata": {},
   "outputs": [],
   "source": [
    "confirmed = confirmed_df.loc[:, cols[4]:cols[-1]]\n",
    "deaths = deaths_df.loc[:, cols[4]:cols[-1]]\n",
    "recovered = recoveries_df.loc[:, cols[4]:cols[-1]]"
   ]
  },
  {
   "cell_type": "code",
   "execution_count": 10,
   "id": "6276b339",
   "metadata": {},
   "outputs": [
    {
     "data": {
      "text/html": [
       "<div>\n",
       "<style scoped>\n",
       "    .dataframe tbody tr th:only-of-type {\n",
       "        vertical-align: middle;\n",
       "    }\n",
       "\n",
       "    .dataframe tbody tr th {\n",
       "        vertical-align: top;\n",
       "    }\n",
       "\n",
       "    .dataframe thead th {\n",
       "        text-align: right;\n",
       "    }\n",
       "</style>\n",
       "<table border=\"1\" class=\"dataframe\">\n",
       "  <thead>\n",
       "    <tr style=\"text-align: right;\">\n",
       "      <th></th>\n",
       "      <th>1/22/20</th>\n",
       "      <th>1/23/20</th>\n",
       "      <th>1/24/20</th>\n",
       "      <th>1/25/20</th>\n",
       "      <th>1/26/20</th>\n",
       "      <th>1/27/20</th>\n",
       "      <th>1/28/20</th>\n",
       "      <th>1/29/20</th>\n",
       "      <th>1/30/20</th>\n",
       "      <th>1/31/20</th>\n",
       "      <th>...</th>\n",
       "      <th>9/12/20</th>\n",
       "      <th>9/13/20</th>\n",
       "      <th>9/14/20</th>\n",
       "      <th>9/15/20</th>\n",
       "      <th>9/16/20</th>\n",
       "      <th>9/17/20</th>\n",
       "      <th>9/18/20</th>\n",
       "      <th>9/19/20</th>\n",
       "      <th>9/20/20</th>\n",
       "      <th>9/21/20</th>\n",
       "    </tr>\n",
       "  </thead>\n",
       "  <tbody>\n",
       "    <tr>\n",
       "      <th>0</th>\n",
       "      <td>0</td>\n",
       "      <td>0</td>\n",
       "      <td>0</td>\n",
       "      <td>0</td>\n",
       "      <td>0</td>\n",
       "      <td>0</td>\n",
       "      <td>0</td>\n",
       "      <td>0</td>\n",
       "      <td>0</td>\n",
       "      <td>0</td>\n",
       "      <td>...</td>\n",
       "      <td>38641</td>\n",
       "      <td>38716</td>\n",
       "      <td>38772</td>\n",
       "      <td>38815</td>\n",
       "      <td>38855</td>\n",
       "      <td>38872</td>\n",
       "      <td>38883</td>\n",
       "      <td>38919</td>\n",
       "      <td>39044</td>\n",
       "      <td>39074</td>\n",
       "    </tr>\n",
       "    <tr>\n",
       "      <th>1</th>\n",
       "      <td>0</td>\n",
       "      <td>0</td>\n",
       "      <td>0</td>\n",
       "      <td>0</td>\n",
       "      <td>0</td>\n",
       "      <td>0</td>\n",
       "      <td>0</td>\n",
       "      <td>0</td>\n",
       "      <td>0</td>\n",
       "      <td>0</td>\n",
       "      <td>...</td>\n",
       "      <td>11185</td>\n",
       "      <td>11353</td>\n",
       "      <td>11520</td>\n",
       "      <td>11672</td>\n",
       "      <td>11816</td>\n",
       "      <td>11948</td>\n",
       "      <td>12073</td>\n",
       "      <td>12226</td>\n",
       "      <td>12385</td>\n",
       "      <td>12535</td>\n",
       "    </tr>\n",
       "    <tr>\n",
       "      <th>2</th>\n",
       "      <td>0</td>\n",
       "      <td>0</td>\n",
       "      <td>0</td>\n",
       "      <td>0</td>\n",
       "      <td>0</td>\n",
       "      <td>0</td>\n",
       "      <td>0</td>\n",
       "      <td>0</td>\n",
       "      <td>0</td>\n",
       "      <td>0</td>\n",
       "      <td>...</td>\n",
       "      <td>48007</td>\n",
       "      <td>48254</td>\n",
       "      <td>48496</td>\n",
       "      <td>48734</td>\n",
       "      <td>48966</td>\n",
       "      <td>49194</td>\n",
       "      <td>49413</td>\n",
       "      <td>49623</td>\n",
       "      <td>49826</td>\n",
       "      <td>50023</td>\n",
       "    </tr>\n",
       "    <tr>\n",
       "      <th>3</th>\n",
       "      <td>0</td>\n",
       "      <td>0</td>\n",
       "      <td>0</td>\n",
       "      <td>0</td>\n",
       "      <td>0</td>\n",
       "      <td>0</td>\n",
       "      <td>0</td>\n",
       "      <td>0</td>\n",
       "      <td>0</td>\n",
       "      <td>0</td>\n",
       "      <td>...</td>\n",
       "      <td>1344</td>\n",
       "      <td>1344</td>\n",
       "      <td>1438</td>\n",
       "      <td>1438</td>\n",
       "      <td>1483</td>\n",
       "      <td>1483</td>\n",
       "      <td>1564</td>\n",
       "      <td>1564</td>\n",
       "      <td>1564</td>\n",
       "      <td>1681</td>\n",
       "    </tr>\n",
       "    <tr>\n",
       "      <th>4</th>\n",
       "      <td>0</td>\n",
       "      <td>0</td>\n",
       "      <td>0</td>\n",
       "      <td>0</td>\n",
       "      <td>0</td>\n",
       "      <td>0</td>\n",
       "      <td>0</td>\n",
       "      <td>0</td>\n",
       "      <td>0</td>\n",
       "      <td>0</td>\n",
       "      <td>...</td>\n",
       "      <td>3335</td>\n",
       "      <td>3388</td>\n",
       "      <td>3439</td>\n",
       "      <td>3569</td>\n",
       "      <td>3675</td>\n",
       "      <td>3789</td>\n",
       "      <td>3848</td>\n",
       "      <td>3901</td>\n",
       "      <td>3991</td>\n",
       "      <td>4117</td>\n",
       "    </tr>\n",
       "  </tbody>\n",
       "</table>\n",
       "<p>5 rows × 244 columns</p>\n",
       "</div>"
      ],
      "text/plain": [
       "   1/22/20  1/23/20  1/24/20  1/25/20  1/26/20  1/27/20  1/28/20  1/29/20  \\\n",
       "0        0        0        0        0        0        0        0        0   \n",
       "1        0        0        0        0        0        0        0        0   \n",
       "2        0        0        0        0        0        0        0        0   \n",
       "3        0        0        0        0        0        0        0        0   \n",
       "4        0        0        0        0        0        0        0        0   \n",
       "\n",
       "   1/30/20  1/31/20  ...  9/12/20  9/13/20  9/14/20  9/15/20  9/16/20  \\\n",
       "0        0        0  ...    38641    38716    38772    38815    38855   \n",
       "1        0        0  ...    11185    11353    11520    11672    11816   \n",
       "2        0        0  ...    48007    48254    48496    48734    48966   \n",
       "3        0        0  ...     1344     1344     1438     1438     1483   \n",
       "4        0        0  ...     3335     3388     3439     3569     3675   \n",
       "\n",
       "   9/17/20  9/18/20  9/19/20  9/20/20  9/21/20  \n",
       "0    38872    38883    38919    39044    39074  \n",
       "1    11948    12073    12226    12385    12535  \n",
       "2    49194    49413    49623    49826    50023  \n",
       "3     1483     1564     1564     1564     1681  \n",
       "4     3789     3848     3901     3991     4117  \n",
       "\n",
       "[5 rows x 244 columns]"
      ]
     },
     "execution_count": 10,
     "metadata": {},
     "output_type": "execute_result"
    }
   ],
   "source": [
    "confirmed.head()"
   ]
  },
  {
   "cell_type": "code",
   "execution_count": 11,
   "id": "58f34033",
   "metadata": {},
   "outputs": [
    {
     "data": {
      "text/plain": [
       "Index(['1/22/20', '1/23/20', '1/24/20', '1/25/20', '1/26/20', '1/27/20',\n",
       "       '1/28/20', '1/29/20', '1/30/20', '1/31/20',\n",
       "       ...\n",
       "       '9/12/20', '9/13/20', '9/14/20', '9/15/20', '9/16/20', '9/17/20',\n",
       "       '9/18/20', '9/19/20', '9/20/20', '9/21/20'],\n",
       "      dtype='object', length=244)"
      ]
     },
     "execution_count": 11,
     "metadata": {},
     "output_type": "execute_result"
    }
   ],
   "source": [
    "confirmed.keys()"
   ]
  },
  {
   "cell_type": "code",
   "execution_count": 12,
   "id": "0c5f81b8",
   "metadata": {},
   "outputs": [],
   "source": [
    "dates = confirmed.keys()\n",
    "world_cases = []\n",
    "total_deaths = [] \n",
    "mortality_rate = []\n",
    "total_recovered = [] \n",
    "\n",
    "for i in dates:\n",
    "    confirmed_sum = confirmed[i].sum()\n",
    "    death_sum = deaths[i].sum()\n",
    "    recovered_sum = recovered[i].sum()\n",
    "    world_cases.append(confirmed_sum)\n",
    "    total_deaths.append(death_sum)\n",
    "    total_recovered.append(recovered_sum)\n",
    "    mortality_rate.append(death_sum/confirmed_sum)"
   ]
  },
  {
   "cell_type": "code",
   "execution_count": 13,
   "id": "cbc8c06e",
   "metadata": {},
   "outputs": [
    {
     "data": {
      "text/plain": [
       "244"
      ]
     },
     "execution_count": 13,
     "metadata": {},
     "output_type": "execute_result"
    }
   ],
   "source": [
    "len(total_deaths)"
   ]
  },
  {
   "cell_type": "code",
   "execution_count": 14,
   "id": "7fec7598",
   "metadata": {},
   "outputs": [
    {
     "data": {
      "text/plain": [
       "963693"
      ]
     },
     "execution_count": 14,
     "metadata": {},
     "output_type": "execute_result"
    }
   ],
   "source": [
    "death_sum"
   ]
  },
  {
   "cell_type": "code",
   "execution_count": 15,
   "id": "8e169fc4",
   "metadata": {},
   "outputs": [
    {
     "data": {
      "text/plain": [
       "31245797"
      ]
     },
     "execution_count": 15,
     "metadata": {},
     "output_type": "execute_result"
    }
   ],
   "source": [
    "confirmed_sum"
   ]
  },
  {
   "cell_type": "code",
   "execution_count": 16,
   "id": "02653e99",
   "metadata": {},
   "outputs": [
    {
     "data": {
      "text/plain": [
       "21394593"
      ]
     },
     "execution_count": 16,
     "metadata": {},
     "output_type": "execute_result"
    }
   ],
   "source": [
    "recovered_sum"
   ]
  },
  {
   "cell_type": "code",
   "execution_count": 17,
   "id": "2fcf83f4",
   "metadata": {},
   "outputs": [
    {
     "data": {
      "text/plain": [
       "[555,\n",
       " 654,\n",
       " 941,\n",
       " 1434,\n",
       " 2118,\n",
       " 2927,\n",
       " 5578,\n",
       " 6166,\n",
       " 8234,\n",
       " 9926,\n",
       " 12038,\n",
       " 16787,\n",
       " 19887,\n",
       " 23898,\n",
       " 27643,\n",
       " 30802,\n",
       " 34395,\n",
       " 37129,\n",
       " 40159,\n",
       " 42768,\n",
       " 44810,\n",
       " 45228,\n",
       " 60381,\n",
       " 66908,\n",
       " 69050,\n",
       " 71234,\n",
       " 73269,\n",
       " 75151,\n",
       " 75651,\n",
       " 76211,\n",
       " 76840,\n",
       " 78601,\n",
       " 78981,\n",
       " 79545,\n",
       " 80398,\n",
       " 81375,\n",
       " 82735,\n",
       " 84120,\n",
       " 86013,\n",
       " 88395,\n",
       " 90372,\n",
       " 92957,\n",
       " 95272,\n",
       " 98028,\n",
       " 102018,\n",
       " 106036,\n",
       " 109993,\n",
       " 113946,\n",
       " 118967,\n",
       " 126675,\n",
       " 132450,\n",
       " 146783,\n",
       " 157801,\n",
       " 169032,\n",
       " 183677,\n",
       " 199391,\n",
       " 218683,\n",
       " 245633,\n",
       " 275963,\n",
       " 307709,\n",
       " 341784,\n",
       " 384630,\n",
       " 425787,\n",
       " 476680,\n",
       " 539069,\n",
       " 603910,\n",
       " 671653,\n",
       " 731267,\n",
       " 795997,\n",
       " 872495,\n",
       " 948663,\n",
       " 1030010,\n",
       " 1113203,\n",
       " 1193711,\n",
       " 1265377,\n",
       " 1338067,\n",
       " 1415186,\n",
       " 1498895,\n",
       " 1585483,\n",
       " 1672988,\n",
       " 1749872,\n",
       " 1846819,\n",
       " 1916464,\n",
       " 1986284,\n",
       " 2067245,\n",
       " 2163941,\n",
       " 2251672,\n",
       " 2325485,\n",
       " 2406054,\n",
       " 2479522,\n",
       " 2554727,\n",
       " 2631781,\n",
       " 2720583,\n",
       " 2807495,\n",
       " 2892296,\n",
       " 2965076,\n",
       " 3034072,\n",
       " 3109425,\n",
       " 3186589,\n",
       " 3270117,\n",
       " 3357276,\n",
       " 3438689,\n",
       " 3516333,\n",
       " 3592506,\n",
       " 3672660,\n",
       " 3762727,\n",
       " 3851894,\n",
       " 3943470,\n",
       " 4029169,\n",
       " 4105292,\n",
       " 4181640,\n",
       " 4265367,\n",
       " 4350206,\n",
       " 4447281,\n",
       " 4543711,\n",
       " 4639021,\n",
       " 4717335,\n",
       " 4805823,\n",
       " 4902461,\n",
       " 5005574,\n",
       " 5111869,\n",
       " 5218664,\n",
       " 5323977,\n",
       " 5419242,\n",
       " 5506311,\n",
       " 5598982,\n",
       " 5701734,\n",
       " 5821183,\n",
       " 5942378,\n",
       " 6080002,\n",
       " 6187396,\n",
       " 6282981,\n",
       " 6403944,\n",
       " 6522099,\n",
       " 6649014,\n",
       " 6779972,\n",
       " 6915760,\n",
       " 7027674,\n",
       " 7130092,\n",
       " 7254608,\n",
       " 7389151,\n",
       " 7527086,\n",
       " 7656149,\n",
       " 7791901,\n",
       " 7925110,\n",
       " 8044663,\n",
       " 8186473,\n",
       " 8328685,\n",
       " 8468705,\n",
       " 8648774,\n",
       " 8806595,\n",
       " 8935273,\n",
       " 9073260,\n",
       " 9238052,\n",
       " 9409498,\n",
       " 9587195,\n",
       " 9778566,\n",
       " 9957498,\n",
       " 10119644,\n",
       " 10275992,\n",
       " 10449832,\n",
       " 10666930,\n",
       " 10874417,\n",
       " 11077903,\n",
       " 11271954,\n",
       " 11454850,\n",
       " 11620802,\n",
       " 11831641,\n",
       " 12043466,\n",
       " 12271553,\n",
       " 12503942,\n",
       " 12720381,\n",
       " 12913142,\n",
       " 13105192,\n",
       " 13326971,\n",
       " 13557898,\n",
       " 13810459,\n",
       " 14052261,\n",
       " 14290096,\n",
       " 14504853,\n",
       " 14710995,\n",
       " 14944726,\n",
       " 15225164,\n",
       " 15507881,\n",
       " 15789074,\n",
       " 16044757,\n",
       " 16258079,\n",
       " 16484206,\n",
       " 16736727,\n",
       " 17025889,\n",
       " 17306523,\n",
       " 17596559,\n",
       " 17847574,\n",
       " 18076718,\n",
       " 18278778,\n",
       " 18537524,\n",
       " 18808754,\n",
       " 19093901,\n",
       " 19374812,\n",
       " 19634542,\n",
       " 19858792,\n",
       " 20086280,\n",
       " 20341107,\n",
       " 20618174,\n",
       " 20904123,\n",
       " 21208474,\n",
       " 21456826,\n",
       " 21669376,\n",
       " 21878471,\n",
       " 22134679,\n",
       " 22408212,\n",
       " 22675329,\n",
       " 22946050,\n",
       " 23211563,\n",
       " 23417506,\n",
       " 23643854,\n",
       " 23885885,\n",
       " 24173746,\n",
       " 24452944,\n",
       " 24734448,\n",
       " 24996456,\n",
       " 25222709,\n",
       " 25484767,\n",
       " 25749642,\n",
       " 26031410,\n",
       " 26304856,\n",
       " 26617971,\n",
       " 26881547,\n",
       " 27103845,\n",
       " 27337760,\n",
       " 27570742,\n",
       " 27862680,\n",
       " 28161434,\n",
       " 28481322,\n",
       " 28758945,\n",
       " 28995373,\n",
       " 29274650,\n",
       " 29557942,\n",
       " 29861949,\n",
       " 30175313,\n",
       " 30499534,\n",
       " 30780755,\n",
       " 31021972,\n",
       " 31245797]"
      ]
     },
     "execution_count": 17,
     "metadata": {},
     "output_type": "execute_result"
    }
   ],
   "source": [
    "world_cases"
   ]
  },
  {
   "cell_type": "code",
   "execution_count": 18,
   "id": "01b0f518",
   "metadata": {},
   "outputs": [],
   "source": [
    "day_since_1_22=np.array([i for i in range(len(dates))]).reshape(-1,1)\n",
    "world_cases= np.array(world_cases).reshape(-1,1)\n",
    "total_deaths= np.array(total_deaths).reshape(-1,1)\n",
    "total_recovered= np.array(total_recovered).reshape(-1,1)"
   ]
  },
  {
   "cell_type": "code",
   "execution_count": 19,
   "id": "42ca9f08",
   "metadata": {},
   "outputs": [
    {
     "data": {
      "text/plain": [
       "array([[  0],\n",
       "       [  1],\n",
       "       [  2],\n",
       "       [  3],\n",
       "       [  4],\n",
       "       [  5],\n",
       "       [  6],\n",
       "       [  7],\n",
       "       [  8],\n",
       "       [  9],\n",
       "       [ 10],\n",
       "       [ 11],\n",
       "       [ 12],\n",
       "       [ 13],\n",
       "       [ 14],\n",
       "       [ 15],\n",
       "       [ 16],\n",
       "       [ 17],\n",
       "       [ 18],\n",
       "       [ 19],\n",
       "       [ 20],\n",
       "       [ 21],\n",
       "       [ 22],\n",
       "       [ 23],\n",
       "       [ 24],\n",
       "       [ 25],\n",
       "       [ 26],\n",
       "       [ 27],\n",
       "       [ 28],\n",
       "       [ 29],\n",
       "       [ 30],\n",
       "       [ 31],\n",
       "       [ 32],\n",
       "       [ 33],\n",
       "       [ 34],\n",
       "       [ 35],\n",
       "       [ 36],\n",
       "       [ 37],\n",
       "       [ 38],\n",
       "       [ 39],\n",
       "       [ 40],\n",
       "       [ 41],\n",
       "       [ 42],\n",
       "       [ 43],\n",
       "       [ 44],\n",
       "       [ 45],\n",
       "       [ 46],\n",
       "       [ 47],\n",
       "       [ 48],\n",
       "       [ 49],\n",
       "       [ 50],\n",
       "       [ 51],\n",
       "       [ 52],\n",
       "       [ 53],\n",
       "       [ 54],\n",
       "       [ 55],\n",
       "       [ 56],\n",
       "       [ 57],\n",
       "       [ 58],\n",
       "       [ 59],\n",
       "       [ 60],\n",
       "       [ 61],\n",
       "       [ 62],\n",
       "       [ 63],\n",
       "       [ 64],\n",
       "       [ 65],\n",
       "       [ 66],\n",
       "       [ 67],\n",
       "       [ 68],\n",
       "       [ 69],\n",
       "       [ 70],\n",
       "       [ 71],\n",
       "       [ 72],\n",
       "       [ 73],\n",
       "       [ 74],\n",
       "       [ 75],\n",
       "       [ 76],\n",
       "       [ 77],\n",
       "       [ 78],\n",
       "       [ 79],\n",
       "       [ 80],\n",
       "       [ 81],\n",
       "       [ 82],\n",
       "       [ 83],\n",
       "       [ 84],\n",
       "       [ 85],\n",
       "       [ 86],\n",
       "       [ 87],\n",
       "       [ 88],\n",
       "       [ 89],\n",
       "       [ 90],\n",
       "       [ 91],\n",
       "       [ 92],\n",
       "       [ 93],\n",
       "       [ 94],\n",
       "       [ 95],\n",
       "       [ 96],\n",
       "       [ 97],\n",
       "       [ 98],\n",
       "       [ 99],\n",
       "       [100],\n",
       "       [101],\n",
       "       [102],\n",
       "       [103],\n",
       "       [104],\n",
       "       [105],\n",
       "       [106],\n",
       "       [107],\n",
       "       [108],\n",
       "       [109],\n",
       "       [110],\n",
       "       [111],\n",
       "       [112],\n",
       "       [113],\n",
       "       [114],\n",
       "       [115],\n",
       "       [116],\n",
       "       [117],\n",
       "       [118],\n",
       "       [119],\n",
       "       [120],\n",
       "       [121],\n",
       "       [122],\n",
       "       [123],\n",
       "       [124],\n",
       "       [125],\n",
       "       [126],\n",
       "       [127],\n",
       "       [128],\n",
       "       [129],\n",
       "       [130],\n",
       "       [131],\n",
       "       [132],\n",
       "       [133],\n",
       "       [134],\n",
       "       [135],\n",
       "       [136],\n",
       "       [137],\n",
       "       [138],\n",
       "       [139],\n",
       "       [140],\n",
       "       [141],\n",
       "       [142],\n",
       "       [143],\n",
       "       [144],\n",
       "       [145],\n",
       "       [146],\n",
       "       [147],\n",
       "       [148],\n",
       "       [149],\n",
       "       [150],\n",
       "       [151],\n",
       "       [152],\n",
       "       [153],\n",
       "       [154],\n",
       "       [155],\n",
       "       [156],\n",
       "       [157],\n",
       "       [158],\n",
       "       [159],\n",
       "       [160],\n",
       "       [161],\n",
       "       [162],\n",
       "       [163],\n",
       "       [164],\n",
       "       [165],\n",
       "       [166],\n",
       "       [167],\n",
       "       [168],\n",
       "       [169],\n",
       "       [170],\n",
       "       [171],\n",
       "       [172],\n",
       "       [173],\n",
       "       [174],\n",
       "       [175],\n",
       "       [176],\n",
       "       [177],\n",
       "       [178],\n",
       "       [179],\n",
       "       [180],\n",
       "       [181],\n",
       "       [182],\n",
       "       [183],\n",
       "       [184],\n",
       "       [185],\n",
       "       [186],\n",
       "       [187],\n",
       "       [188],\n",
       "       [189],\n",
       "       [190],\n",
       "       [191],\n",
       "       [192],\n",
       "       [193],\n",
       "       [194],\n",
       "       [195],\n",
       "       [196],\n",
       "       [197],\n",
       "       [198],\n",
       "       [199],\n",
       "       [200],\n",
       "       [201],\n",
       "       [202],\n",
       "       [203],\n",
       "       [204],\n",
       "       [205],\n",
       "       [206],\n",
       "       [207],\n",
       "       [208],\n",
       "       [209],\n",
       "       [210],\n",
       "       [211],\n",
       "       [212],\n",
       "       [213],\n",
       "       [214],\n",
       "       [215],\n",
       "       [216],\n",
       "       [217],\n",
       "       [218],\n",
       "       [219],\n",
       "       [220],\n",
       "       [221],\n",
       "       [222],\n",
       "       [223],\n",
       "       [224],\n",
       "       [225],\n",
       "       [226],\n",
       "       [227],\n",
       "       [228],\n",
       "       [229],\n",
       "       [230],\n",
       "       [231],\n",
       "       [232],\n",
       "       [233],\n",
       "       [234],\n",
       "       [235],\n",
       "       [236],\n",
       "       [237],\n",
       "       [238],\n",
       "       [239],\n",
       "       [240],\n",
       "       [241],\n",
       "       [242],\n",
       "       [243]])"
      ]
     },
     "execution_count": 19,
     "metadata": {},
     "output_type": "execute_result"
    }
   ],
   "source": [
    "day_since_1_22"
   ]
  },
  {
   "cell_type": "code",
   "execution_count": 20,
   "id": "d76e237f",
   "metadata": {},
   "outputs": [
    {
     "data": {
      "text/plain": [
       "array([[      28],\n",
       "       [      30],\n",
       "       [      36],\n",
       "       [      39],\n",
       "       [      52],\n",
       "       [      61],\n",
       "       [     107],\n",
       "       [     126],\n",
       "       [     143],\n",
       "       [     222],\n",
       "       [     284],\n",
       "       [     472],\n",
       "       [     623],\n",
       "       [     852],\n",
       "       [    1124],\n",
       "       [    1487],\n",
       "       [    2011],\n",
       "       [    2616],\n",
       "       [    3244],\n",
       "       [    3946],\n",
       "       [    4683],\n",
       "       [    5150],\n",
       "       [    6295],\n",
       "       [    8058],\n",
       "       [    9395],\n",
       "       [   10865],\n",
       "       [   12583],\n",
       "       [   14352],\n",
       "       [   16121],\n",
       "       [   18177],\n",
       "       [   18890],\n",
       "       [   22886],\n",
       "       [   23394],\n",
       "       [   25227],\n",
       "       [   27905],\n",
       "       [   30384],\n",
       "       [   33277],\n",
       "       [   36711],\n",
       "       [   39782],\n",
       "       [   42716],\n",
       "       [   45602],\n",
       "       [   48228],\n",
       "       [   51170],\n",
       "       [   53796],\n",
       "       [   55865],\n",
       "       [   58359],\n",
       "       [   60694],\n",
       "       [   62493],\n",
       "       [   64404],\n",
       "       [   67002],\n",
       "       [   68324],\n",
       "       [   70251],\n",
       "       [   72622],\n",
       "       [   76032],\n",
       "       [   78086],\n",
       "       [   80838],\n",
       "       [   83321],\n",
       "       [   84958],\n",
       "       [   87403],\n",
       "       [   91670],\n",
       "       [   97885],\n",
       "       [   98351],\n",
       "       [  107992],\n",
       "       [  113775],\n",
       "       [  122145],\n",
       "       [  130921],\n",
       "       [  139424],\n",
       "       [  148891],\n",
       "       [  164337],\n",
       "       [  177825],\n",
       "       [  192918],\n",
       "       [  209967],\n",
       "       [  225415],\n",
       "       [  245832],\n",
       "       [  259672],\n",
       "       [  276252],\n",
       "       [  299643],\n",
       "       [  328359],\n",
       "       [  353707],\n",
       "       [  375509],\n",
       "       [  401766],\n",
       "       [  421180],\n",
       "       [  448347],\n",
       "       [  473436],\n",
       "       [  510106],\n",
       "       [  540926],\n",
       "       [  567049],\n",
       "       [  590968],\n",
       "       [  622623],\n",
       "       [  644613],\n",
       "       [  679456],\n",
       "       [  709881],\n",
       "       [  738661],\n",
       "       [  788712],\n",
       "       [  816491],\n",
       "       [  845096],\n",
       "       [  872865],\n",
       "       [  906136],\n",
       "       [  948318],\n",
       "       [ 1013284],\n",
       "       [ 1051537],\n",
       "       [ 1092416],\n",
       "       [ 1124732],\n",
       "       [ 1158819],\n",
       "       [ 1195359],\n",
       "       [ 1241365],\n",
       "       [ 1280833],\n",
       "       [ 1317383],\n",
       "       [ 1370933],\n",
       "       [ 1404527],\n",
       "       [ 1451521],\n",
       "       [ 1488542],\n",
       "       [ 1544398],\n",
       "       [ 1584114],\n",
       "       [ 1632122],\n",
       "       [ 1688714],\n",
       "       [ 1729621],\n",
       "       [ 1782542],\n",
       "       [ 1834647],\n",
       "       [ 1893575],\n",
       "       [ 1944840],\n",
       "       [ 2053491],\n",
       "       [ 2108462],\n",
       "       [ 2163902],\n",
       "       [ 2227625],\n",
       "       [ 2282839],\n",
       "       [ 2346232],\n",
       "       [ 2413089],\n",
       "       [ 2490435],\n",
       "       [ 2560888],\n",
       "       [ 2637208],\n",
       "       [ 2692105],\n",
       "       [ 2796228],\n",
       "       [ 2875332],\n",
       "       [ 2945385],\n",
       "       [ 3014544],\n",
       "       [ 3086748],\n",
       "       [ 3141849],\n",
       "       [ 3293412],\n",
       "       [ 3375694],\n",
       "       [ 3454832],\n",
       "       [ 3540714],\n",
       "       [ 3620438],\n",
       "       [ 3706372],\n",
       "       [ 3777157],\n",
       "       [ 3857365],\n",
       "       [ 3955205],\n",
       "       [ 4073992],\n",
       "       [ 4155134],\n",
       "       [ 4250149],\n",
       "       [ 4365974],\n",
       "       [ 4434711],\n",
       "       [ 4526337],\n",
       "       [ 4630412],\n",
       "       [ 4746172],\n",
       "       [ 4839028],\n",
       "       [ 4945742],\n",
       "       [ 5052107],\n",
       "       [ 5141227],\n",
       "       [ 5235793],\n",
       "       [ 5353115],\n",
       "       [ 5469041],\n",
       "       [ 5753918],\n",
       "       [ 5863818],\n",
       "       [ 6059651],\n",
       "       [ 6178973],\n",
       "       [ 6302585],\n",
       "       [ 6447610],\n",
       "       [ 6605559],\n",
       "       [ 6740073],\n",
       "       [ 6879465],\n",
       "       [ 7005174],\n",
       "       [ 7116853],\n",
       "       [ 7257197],\n",
       "       [ 7399397],\n",
       "       [ 7559178],\n",
       "       [ 7711548],\n",
       "       [ 7894858],\n",
       "       [ 8045815],\n",
       "       [ 8133692],\n",
       "       [ 8292688],\n",
       "       [ 8467335],\n",
       "       [ 8643722],\n",
       "       [ 8813886],\n",
       "       [ 9043203],\n",
       "       [ 9262520],\n",
       "       [ 9402996],\n",
       "       [ 9572619],\n",
       "       [ 9746473],\n",
       "       [ 9948163],\n",
       "       [10170650],\n",
       "       [10369140],\n",
       "       [10553585],\n",
       "       [10690555],\n",
       "       [10913000],\n",
       "       [11134735],\n",
       "       [11356275],\n",
       "       [11545401],\n",
       "       [11737927],\n",
       "       [11939109],\n",
       "       [12115825],\n",
       "       [12280520],\n",
       "       [12585473],\n",
       "       [12826815],\n",
       "       [12992176],\n",
       "       [13276831],\n",
       "       [13445842],\n",
       "       [13676868],\n",
       "       [13888301],\n",
       "       [14116451],\n",
       "       [14333914],\n",
       "       [14541573],\n",
       "       [14712252],\n",
       "       [14922177],\n",
       "       [15137610],\n",
       "       [15337659],\n",
       "       [15570598],\n",
       "       [15794947],\n",
       "       [15996510],\n",
       "       [16196934],\n",
       "       [16408559],\n",
       "       [16616995],\n",
       "       [16818436],\n",
       "       [17073236],\n",
       "       [17291874],\n",
       "       [17512585],\n",
       "       [17726336],\n",
       "       [17927195],\n",
       "       [18137310],\n",
       "       [18336112],\n",
       "       [18524391],\n",
       "       [18776723],\n",
       "       [18992383],\n",
       "       [19215800],\n",
       "       [19439157],\n",
       "       [19624935],\n",
       "       [19854392],\n",
       "       [20078979],\n",
       "       [20307938],\n",
       "       [20527185],\n",
       "       [20778990],\n",
       "       [21016801],\n",
       "       [21252815],\n",
       "       [21394593]], dtype=int64)"
      ]
     },
     "execution_count": 20,
     "metadata": {},
     "output_type": "execute_result"
    }
   ],
   "source": [
    "total_recovered"
   ]
  },
  {
   "cell_type": "markdown",
   "id": "8ee08727",
   "metadata": {},
   "source": [
    "### confirmed data"
   ]
  },
  {
   "cell_type": "code",
   "execution_count": 21,
   "id": "5cb277f0",
   "metadata": {},
   "outputs": [
    {
     "data": {
      "text/html": [
       "<div>\n",
       "<style scoped>\n",
       "    .dataframe tbody tr th:only-of-type {\n",
       "        vertical-align: middle;\n",
       "    }\n",
       "\n",
       "    .dataframe tbody tr th {\n",
       "        vertical-align: top;\n",
       "    }\n",
       "\n",
       "    .dataframe thead th {\n",
       "        text-align: right;\n",
       "    }\n",
       "</style>\n",
       "<table border=\"1\" class=\"dataframe\">\n",
       "  <thead>\n",
       "    <tr style=\"text-align: right;\">\n",
       "      <th></th>\n",
       "      <th>1/22/20</th>\n",
       "      <th>1/23/20</th>\n",
       "      <th>1/24/20</th>\n",
       "      <th>1/25/20</th>\n",
       "      <th>1/26/20</th>\n",
       "      <th>1/27/20</th>\n",
       "      <th>1/28/20</th>\n",
       "      <th>1/29/20</th>\n",
       "      <th>1/30/20</th>\n",
       "      <th>1/31/20</th>\n",
       "      <th>...</th>\n",
       "      <th>9/12/20</th>\n",
       "      <th>9/13/20</th>\n",
       "      <th>9/14/20</th>\n",
       "      <th>9/15/20</th>\n",
       "      <th>9/16/20</th>\n",
       "      <th>9/17/20</th>\n",
       "      <th>9/18/20</th>\n",
       "      <th>9/19/20</th>\n",
       "      <th>9/20/20</th>\n",
       "      <th>9/21/20</th>\n",
       "    </tr>\n",
       "  </thead>\n",
       "  <tbody>\n",
       "    <tr>\n",
       "      <th>0</th>\n",
       "      <td>0</td>\n",
       "      <td>0</td>\n",
       "      <td>0</td>\n",
       "      <td>0</td>\n",
       "      <td>0</td>\n",
       "      <td>0</td>\n",
       "      <td>0</td>\n",
       "      <td>0</td>\n",
       "      <td>0</td>\n",
       "      <td>0</td>\n",
       "      <td>...</td>\n",
       "      <td>38641</td>\n",
       "      <td>38716</td>\n",
       "      <td>38772</td>\n",
       "      <td>38815</td>\n",
       "      <td>38855</td>\n",
       "      <td>38872</td>\n",
       "      <td>38883</td>\n",
       "      <td>38919</td>\n",
       "      <td>39044</td>\n",
       "      <td>39074</td>\n",
       "    </tr>\n",
       "    <tr>\n",
       "      <th>1</th>\n",
       "      <td>0</td>\n",
       "      <td>0</td>\n",
       "      <td>0</td>\n",
       "      <td>0</td>\n",
       "      <td>0</td>\n",
       "      <td>0</td>\n",
       "      <td>0</td>\n",
       "      <td>0</td>\n",
       "      <td>0</td>\n",
       "      <td>0</td>\n",
       "      <td>...</td>\n",
       "      <td>11185</td>\n",
       "      <td>11353</td>\n",
       "      <td>11520</td>\n",
       "      <td>11672</td>\n",
       "      <td>11816</td>\n",
       "      <td>11948</td>\n",
       "      <td>12073</td>\n",
       "      <td>12226</td>\n",
       "      <td>12385</td>\n",
       "      <td>12535</td>\n",
       "    </tr>\n",
       "    <tr>\n",
       "      <th>2</th>\n",
       "      <td>0</td>\n",
       "      <td>0</td>\n",
       "      <td>0</td>\n",
       "      <td>0</td>\n",
       "      <td>0</td>\n",
       "      <td>0</td>\n",
       "      <td>0</td>\n",
       "      <td>0</td>\n",
       "      <td>0</td>\n",
       "      <td>0</td>\n",
       "      <td>...</td>\n",
       "      <td>48007</td>\n",
       "      <td>48254</td>\n",
       "      <td>48496</td>\n",
       "      <td>48734</td>\n",
       "      <td>48966</td>\n",
       "      <td>49194</td>\n",
       "      <td>49413</td>\n",
       "      <td>49623</td>\n",
       "      <td>49826</td>\n",
       "      <td>50023</td>\n",
       "    </tr>\n",
       "    <tr>\n",
       "      <th>3</th>\n",
       "      <td>0</td>\n",
       "      <td>0</td>\n",
       "      <td>0</td>\n",
       "      <td>0</td>\n",
       "      <td>0</td>\n",
       "      <td>0</td>\n",
       "      <td>0</td>\n",
       "      <td>0</td>\n",
       "      <td>0</td>\n",
       "      <td>0</td>\n",
       "      <td>...</td>\n",
       "      <td>1344</td>\n",
       "      <td>1344</td>\n",
       "      <td>1438</td>\n",
       "      <td>1438</td>\n",
       "      <td>1483</td>\n",
       "      <td>1483</td>\n",
       "      <td>1564</td>\n",
       "      <td>1564</td>\n",
       "      <td>1564</td>\n",
       "      <td>1681</td>\n",
       "    </tr>\n",
       "    <tr>\n",
       "      <th>4</th>\n",
       "      <td>0</td>\n",
       "      <td>0</td>\n",
       "      <td>0</td>\n",
       "      <td>0</td>\n",
       "      <td>0</td>\n",
       "      <td>0</td>\n",
       "      <td>0</td>\n",
       "      <td>0</td>\n",
       "      <td>0</td>\n",
       "      <td>0</td>\n",
       "      <td>...</td>\n",
       "      <td>3335</td>\n",
       "      <td>3388</td>\n",
       "      <td>3439</td>\n",
       "      <td>3569</td>\n",
       "      <td>3675</td>\n",
       "      <td>3789</td>\n",
       "      <td>3848</td>\n",
       "      <td>3901</td>\n",
       "      <td>3991</td>\n",
       "      <td>4117</td>\n",
       "    </tr>\n",
       "  </tbody>\n",
       "</table>\n",
       "<p>5 rows × 244 columns</p>\n",
       "</div>"
      ],
      "text/plain": [
       "   1/22/20  1/23/20  1/24/20  1/25/20  1/26/20  1/27/20  1/28/20  1/29/20  \\\n",
       "0        0        0        0        0        0        0        0        0   \n",
       "1        0        0        0        0        0        0        0        0   \n",
       "2        0        0        0        0        0        0        0        0   \n",
       "3        0        0        0        0        0        0        0        0   \n",
       "4        0        0        0        0        0        0        0        0   \n",
       "\n",
       "   1/30/20  1/31/20  ...  9/12/20  9/13/20  9/14/20  9/15/20  9/16/20  \\\n",
       "0        0        0  ...    38641    38716    38772    38815    38855   \n",
       "1        0        0  ...    11185    11353    11520    11672    11816   \n",
       "2        0        0  ...    48007    48254    48496    48734    48966   \n",
       "3        0        0  ...     1344     1344     1438     1438     1483   \n",
       "4        0        0  ...     3335     3388     3439     3569     3675   \n",
       "\n",
       "   9/17/20  9/18/20  9/19/20  9/20/20  9/21/20  \n",
       "0    38872    38883    38919    39044    39074  \n",
       "1    11948    12073    12226    12385    12535  \n",
       "2    49194    49413    49623    49826    50023  \n",
       "3     1483     1564     1564     1564     1681  \n",
       "4     3789     3848     3901     3991     4117  \n",
       "\n",
       "[5 rows x 244 columns]"
      ]
     },
     "execution_count": 21,
     "metadata": {},
     "output_type": "execute_result"
    }
   ],
   "source": [
    "confirmed.head()"
   ]
  },
  {
   "cell_type": "code",
   "execution_count": 22,
   "id": "9c7fc8eb",
   "metadata": {},
   "outputs": [
    {
     "data": {
      "text/plain": [
       "array([[     555],\n",
       "       [     654],\n",
       "       [     941],\n",
       "       [    1434],\n",
       "       [    2118],\n",
       "       [    2927],\n",
       "       [    5578],\n",
       "       [    6166],\n",
       "       [    8234],\n",
       "       [    9926],\n",
       "       [   12038],\n",
       "       [   16787],\n",
       "       [   19887],\n",
       "       [   23898],\n",
       "       [   27643],\n",
       "       [   30802],\n",
       "       [   34395],\n",
       "       [   37129],\n",
       "       [   40159],\n",
       "       [   42768],\n",
       "       [   44810],\n",
       "       [   45228],\n",
       "       [   60381],\n",
       "       [   66908],\n",
       "       [   69050],\n",
       "       [   71234],\n",
       "       [   73269],\n",
       "       [   75151],\n",
       "       [   75651],\n",
       "       [   76211],\n",
       "       [   76840],\n",
       "       [   78601],\n",
       "       [   78981],\n",
       "       [   79545],\n",
       "       [   80398],\n",
       "       [   81375],\n",
       "       [   82735],\n",
       "       [   84120],\n",
       "       [   86013],\n",
       "       [   88395],\n",
       "       [   90372],\n",
       "       [   92957],\n",
       "       [   95272],\n",
       "       [   98028],\n",
       "       [  102018],\n",
       "       [  106036],\n",
       "       [  109993],\n",
       "       [  113946],\n",
       "       [  118967],\n",
       "       [  126675],\n",
       "       [  132450],\n",
       "       [  146783],\n",
       "       [  157801],\n",
       "       [  169032],\n",
       "       [  183677],\n",
       "       [  199391],\n",
       "       [  218683],\n",
       "       [  245633],\n",
       "       [  275963],\n",
       "       [  307709],\n",
       "       [  341784],\n",
       "       [  384630],\n",
       "       [  425787],\n",
       "       [  476680],\n",
       "       [  539069],\n",
       "       [  603910],\n",
       "       [  671653],\n",
       "       [  731267],\n",
       "       [  795997],\n",
       "       [  872495],\n",
       "       [  948663],\n",
       "       [ 1030010],\n",
       "       [ 1113203],\n",
       "       [ 1193711],\n",
       "       [ 1265377],\n",
       "       [ 1338067],\n",
       "       [ 1415186],\n",
       "       [ 1498895],\n",
       "       [ 1585483],\n",
       "       [ 1672988],\n",
       "       [ 1749872],\n",
       "       [ 1846819],\n",
       "       [ 1916464],\n",
       "       [ 1986284],\n",
       "       [ 2067245],\n",
       "       [ 2163941],\n",
       "       [ 2251672],\n",
       "       [ 2325485],\n",
       "       [ 2406054],\n",
       "       [ 2479522],\n",
       "       [ 2554727],\n",
       "       [ 2631781],\n",
       "       [ 2720583],\n",
       "       [ 2807495],\n",
       "       [ 2892296],\n",
       "       [ 2965076],\n",
       "       [ 3034072],\n",
       "       [ 3109425],\n",
       "       [ 3186589],\n",
       "       [ 3270117],\n",
       "       [ 3357276],\n",
       "       [ 3438689],\n",
       "       [ 3516333],\n",
       "       [ 3592506],\n",
       "       [ 3672660],\n",
       "       [ 3762727],\n",
       "       [ 3851894],\n",
       "       [ 3943470],\n",
       "       [ 4029169],\n",
       "       [ 4105292],\n",
       "       [ 4181640],\n",
       "       [ 4265367],\n",
       "       [ 4350206],\n",
       "       [ 4447281],\n",
       "       [ 4543711],\n",
       "       [ 4639021],\n",
       "       [ 4717335],\n",
       "       [ 4805823],\n",
       "       [ 4902461],\n",
       "       [ 5005574],\n",
       "       [ 5111869],\n",
       "       [ 5218664],\n",
       "       [ 5323977],\n",
       "       [ 5419242],\n",
       "       [ 5506311],\n",
       "       [ 5598982],\n",
       "       [ 5701734],\n",
       "       [ 5821183],\n",
       "       [ 5942378],\n",
       "       [ 6080002],\n",
       "       [ 6187396],\n",
       "       [ 6282981],\n",
       "       [ 6403944],\n",
       "       [ 6522099],\n",
       "       [ 6649014],\n",
       "       [ 6779972],\n",
       "       [ 6915760],\n",
       "       [ 7027674],\n",
       "       [ 7130092],\n",
       "       [ 7254608],\n",
       "       [ 7389151],\n",
       "       [ 7527086],\n",
       "       [ 7656149],\n",
       "       [ 7791901],\n",
       "       [ 7925110],\n",
       "       [ 8044663],\n",
       "       [ 8186473],\n",
       "       [ 8328685],\n",
       "       [ 8468705],\n",
       "       [ 8648774],\n",
       "       [ 8806595],\n",
       "       [ 8935273],\n",
       "       [ 9073260],\n",
       "       [ 9238052],\n",
       "       [ 9409498],\n",
       "       [ 9587195],\n",
       "       [ 9778566],\n",
       "       [ 9957498],\n",
       "       [10119644],\n",
       "       [10275992],\n",
       "       [10449832],\n",
       "       [10666930],\n",
       "       [10874417],\n",
       "       [11077903],\n",
       "       [11271954],\n",
       "       [11454850],\n",
       "       [11620802],\n",
       "       [11831641],\n",
       "       [12043466],\n",
       "       [12271553],\n",
       "       [12503942],\n",
       "       [12720381],\n",
       "       [12913142],\n",
       "       [13105192],\n",
       "       [13326971],\n",
       "       [13557898],\n",
       "       [13810459],\n",
       "       [14052261],\n",
       "       [14290096],\n",
       "       [14504853],\n",
       "       [14710995],\n",
       "       [14944726],\n",
       "       [15225164],\n",
       "       [15507881],\n",
       "       [15789074],\n",
       "       [16044757],\n",
       "       [16258079],\n",
       "       [16484206],\n",
       "       [16736727],\n",
       "       [17025889],\n",
       "       [17306523],\n",
       "       [17596559],\n",
       "       [17847574],\n",
       "       [18076718],\n",
       "       [18278778],\n",
       "       [18537524],\n",
       "       [18808754],\n",
       "       [19093901],\n",
       "       [19374812],\n",
       "       [19634542],\n",
       "       [19858792],\n",
       "       [20086280],\n",
       "       [20341107],\n",
       "       [20618174],\n",
       "       [20904123],\n",
       "       [21208474],\n",
       "       [21456826],\n",
       "       [21669376],\n",
       "       [21878471],\n",
       "       [22134679],\n",
       "       [22408212],\n",
       "       [22675329],\n",
       "       [22946050],\n",
       "       [23211563],\n",
       "       [23417506],\n",
       "       [23643854],\n",
       "       [23885885],\n",
       "       [24173746],\n",
       "       [24452944],\n",
       "       [24734448],\n",
       "       [24996456],\n",
       "       [25222709],\n",
       "       [25484767],\n",
       "       [25749642],\n",
       "       [26031410],\n",
       "       [26304856],\n",
       "       [26617971],\n",
       "       [26881547],\n",
       "       [27103845],\n",
       "       [27337760],\n",
       "       [27570742],\n",
       "       [27862680],\n",
       "       [28161434],\n",
       "       [28481322],\n",
       "       [28758945],\n",
       "       [28995373],\n",
       "       [29274650],\n",
       "       [29557942],\n",
       "       [29861949],\n",
       "       [30175313],\n",
       "       [30499534],\n",
       "       [30780755],\n",
       "       [31021972],\n",
       "       [31245797]], dtype=int64)"
      ]
     },
     "execution_count": 22,
     "metadata": {},
     "output_type": "execute_result"
    }
   ],
   "source": [
    "world_cases"
   ]
  },
  {
   "cell_type": "code",
   "execution_count": 25,
   "id": "64ce1e1f",
   "metadata": {},
   "outputs": [
    {
     "data": {
      "text/html": [
       "<div>\n",
       "<style scoped>\n",
       "    .dataframe tbody tr th:only-of-type {\n",
       "        vertical-align: middle;\n",
       "    }\n",
       "\n",
       "    .dataframe tbody tr th {\n",
       "        vertical-align: top;\n",
       "    }\n",
       "\n",
       "    .dataframe thead th {\n",
       "        text-align: right;\n",
       "    }\n",
       "</style>\n",
       "<table border=\"1\" class=\"dataframe\">\n",
       "  <thead>\n",
       "    <tr style=\"text-align: right;\">\n",
       "      <th></th>\n",
       "      <th>confirm</th>\n",
       "    </tr>\n",
       "  </thead>\n",
       "  <tbody>\n",
       "    <tr>\n",
       "      <th>1/22/20</th>\n",
       "      <td>555</td>\n",
       "    </tr>\n",
       "    <tr>\n",
       "      <th>1/23/20</th>\n",
       "      <td>654</td>\n",
       "    </tr>\n",
       "    <tr>\n",
       "      <th>1/24/20</th>\n",
       "      <td>941</td>\n",
       "    </tr>\n",
       "    <tr>\n",
       "      <th>1/25/20</th>\n",
       "      <td>1434</td>\n",
       "    </tr>\n",
       "    <tr>\n",
       "      <th>1/26/20</th>\n",
       "      <td>2118</td>\n",
       "    </tr>\n",
       "    <tr>\n",
       "      <th>...</th>\n",
       "      <td>...</td>\n",
       "    </tr>\n",
       "    <tr>\n",
       "      <th>9/17/20</th>\n",
       "      <td>30175313</td>\n",
       "    </tr>\n",
       "    <tr>\n",
       "      <th>9/18/20</th>\n",
       "      <td>30499534</td>\n",
       "    </tr>\n",
       "    <tr>\n",
       "      <th>9/19/20</th>\n",
       "      <td>30780755</td>\n",
       "    </tr>\n",
       "    <tr>\n",
       "      <th>9/20/20</th>\n",
       "      <td>31021972</td>\n",
       "    </tr>\n",
       "    <tr>\n",
       "      <th>9/21/20</th>\n",
       "      <td>31245797</td>\n",
       "    </tr>\n",
       "  </tbody>\n",
       "</table>\n",
       "<p>244 rows × 1 columns</p>\n",
       "</div>"
      ],
      "text/plain": [
       "          confirm\n",
       "1/22/20       555\n",
       "1/23/20       654\n",
       "1/24/20       941\n",
       "1/25/20      1434\n",
       "1/26/20      2118\n",
       "...           ...\n",
       "9/17/20  30175313\n",
       "9/18/20  30499534\n",
       "9/19/20  30780755\n",
       "9/20/20  31021972\n",
       "9/21/20  31245797\n",
       "\n",
       "[244 rows x 1 columns]"
      ]
     },
     "execution_count": 25,
     "metadata": {},
     "output_type": "execute_result"
    }
   ],
   "source": [
    "total_confirm1=pd.DataFrame(world_cases,index=dates)\n",
    "total_confirm1.rename(columns={0:\"confirm\"},inplace=True)\n",
    "total_confirm1"
   ]
  },
  {
   "cell_type": "code",
   "execution_count": 26,
   "id": "99322012",
   "metadata": {},
   "outputs": [
    {
     "data": {
      "image/png": "[encoded data removed]",
      "text/plain": [
       "<Figure size 720x360 with 1 Axes>"
      ]
     },
     "metadata": {},
     "output_type": "display_data"
    }
   ],
   "source": [
    "import matplotlib.pyplot as plt\n",
    "plt.figure(figsize=(10,5),facecolor='white')#canvas  size\n",
    "plt.plot(total_confirm1)#line plot \n",
    "plt.tight_layout()"
   ]
  },
  {
   "cell_type": "code",
   "execution_count": 27,
   "id": "cd68f4b5",
   "metadata": {},
   "outputs": [],
   "source": [
    "## Plotting the autocorrelation plot\n",
    "from statsmodels.graphics.tsaplots import plot_acf"
   ]
  },
  {
   "cell_type": "code",
   "execution_count": 28,
   "id": "1c12c90c",
   "metadata": {},
   "outputs": [
    {
     "data": {
      "image/png": "[encoded data removed]",
      "text/plain": [
       "<Figure size 432x288 with 1 Axes>"
      ]
     },
     "execution_count": 28,
     "metadata": {},
     "output_type": "execute_result"
    },
    {
     "data": {
      "image/png": "[encoded data removed]",
      "text/plain": [
       "<Figure size 432x288 with 1 Axes>"
      ]
     },
     "metadata": {
      "needs_background": "light"
     },
     "output_type": "display_data"
    }
   ],
   "source": [
    "plot_acf(total_confirm1)\n",
    "## from the autocorrelation plot it is clear that given series is not stationary"
   ]
  },
  {
   "cell_type": "code",
   "execution_count": 29,
   "id": "2a8704a5",
   "metadata": {},
   "outputs": [
    {
     "data": {
      "text/html": [
       "<div>\n",
       "<style scoped>\n",
       "    .dataframe tbody tr th:only-of-type {\n",
       "        vertical-align: middle;\n",
       "    }\n",
       "\n",
       "    .dataframe tbody tr th {\n",
       "        vertical-align: top;\n",
       "    }\n",
       "\n",
       "    .dataframe thead th {\n",
       "        text-align: right;\n",
       "    }\n",
       "</style>\n",
       "<table border=\"1\" class=\"dataframe\">\n",
       "  <thead>\n",
       "    <tr style=\"text-align: right;\">\n",
       "      <th></th>\n",
       "      <th>confirm</th>\n",
       "    </tr>\n",
       "  </thead>\n",
       "  <tbody>\n",
       "    <tr>\n",
       "      <th>1/22/20</th>\n",
       "      <td>NaN</td>\n",
       "    </tr>\n",
       "    <tr>\n",
       "      <th>1/23/20</th>\n",
       "      <td>99.0</td>\n",
       "    </tr>\n",
       "    <tr>\n",
       "      <th>1/24/20</th>\n",
       "      <td>287.0</td>\n",
       "    </tr>\n",
       "    <tr>\n",
       "      <th>1/25/20</th>\n",
       "      <td>493.0</td>\n",
       "    </tr>\n",
       "    <tr>\n",
       "      <th>1/26/20</th>\n",
       "      <td>684.0</td>\n",
       "    </tr>\n",
       "    <tr>\n",
       "      <th>...</th>\n",
       "      <td>...</td>\n",
       "    </tr>\n",
       "    <tr>\n",
       "      <th>9/17/20</th>\n",
       "      <td>313364.0</td>\n",
       "    </tr>\n",
       "    <tr>\n",
       "      <th>9/18/20</th>\n",
       "      <td>324221.0</td>\n",
       "    </tr>\n",
       "    <tr>\n",
       "      <th>9/19/20</th>\n",
       "      <td>281221.0</td>\n",
       "    </tr>\n",
       "    <tr>\n",
       "      <th>9/20/20</th>\n",
       "      <td>241217.0</td>\n",
       "    </tr>\n",
       "    <tr>\n",
       "      <th>9/21/20</th>\n",
       "      <td>223825.0</td>\n",
       "    </tr>\n",
       "  </tbody>\n",
       "</table>\n",
       "<p>244 rows × 1 columns</p>\n",
       "</div>"
      ],
      "text/plain": [
       "          confirm\n",
       "1/22/20       NaN\n",
       "1/23/20      99.0\n",
       "1/24/20     287.0\n",
       "1/25/20     493.0\n",
       "1/26/20     684.0\n",
       "...           ...\n",
       "9/17/20  313364.0\n",
       "9/18/20  324221.0\n",
       "9/19/20  281221.0\n",
       "9/20/20  241217.0\n",
       "9/21/20  223825.0\n",
       "\n",
       "[244 rows x 1 columns]"
      ]
     },
     "execution_count": 29,
     "metadata": {},
     "output_type": "execute_result"
    }
   ],
   "source": [
    "## making it stationary by taking difference of 1\n",
    "total_confirm2=total_confirm1.diff(periods=1)#This means calculating the change in your row(s)/column(s) over a set number of periods. Or simply, \n",
    "#pandas diff will subtract 1 cell value from another cell value within the same index.\n",
    "total_confirm2"
   ]
  },
  {
   "cell_type": "code",
   "execution_count": 30,
   "id": "53f976a8",
   "metadata": {},
   "outputs": [
    {
     "data": {
      "text/html": [
       "<div>\n",
       "<style scoped>\n",
       "    .dataframe tbody tr th:only-of-type {\n",
       "        vertical-align: middle;\n",
       "    }\n",
       "\n",
       "    .dataframe tbody tr th {\n",
       "        vertical-align: top;\n",
       "    }\n",
       "\n",
       "    .dataframe thead th {\n",
       "        text-align: right;\n",
       "    }\n",
       "</style>\n",
       "<table border=\"1\" class=\"dataframe\">\n",
       "  <thead>\n",
       "    <tr style=\"text-align: right;\">\n",
       "      <th></th>\n",
       "      <th>confirm</th>\n",
       "    </tr>\n",
       "  </thead>\n",
       "  <tbody>\n",
       "    <tr>\n",
       "      <th>1/23/20</th>\n",
       "      <td>99.0</td>\n",
       "    </tr>\n",
       "    <tr>\n",
       "      <th>1/24/20</th>\n",
       "      <td>287.0</td>\n",
       "    </tr>\n",
       "    <tr>\n",
       "      <th>1/25/20</th>\n",
       "      <td>493.0</td>\n",
       "    </tr>\n",
       "    <tr>\n",
       "      <th>1/26/20</th>\n",
       "      <td>684.0</td>\n",
       "    </tr>\n",
       "    <tr>\n",
       "      <th>1/27/20</th>\n",
       "      <td>809.0</td>\n",
       "    </tr>\n",
       "    <tr>\n",
       "      <th>...</th>\n",
       "      <td>...</td>\n",
       "    </tr>\n",
       "    <tr>\n",
       "      <th>9/17/20</th>\n",
       "      <td>313364.0</td>\n",
       "    </tr>\n",
       "    <tr>\n",
       "      <th>9/18/20</th>\n",
       "      <td>324221.0</td>\n",
       "    </tr>\n",
       "    <tr>\n",
       "      <th>9/19/20</th>\n",
       "      <td>281221.0</td>\n",
       "    </tr>\n",
       "    <tr>\n",
       "      <th>9/20/20</th>\n",
       "      <td>241217.0</td>\n",
       "    </tr>\n",
       "    <tr>\n",
       "      <th>9/21/20</th>\n",
       "      <td>223825.0</td>\n",
       "    </tr>\n",
       "  </tbody>\n",
       "</table>\n",
       "<p>243 rows × 1 columns</p>\n",
       "</div>"
      ],
      "text/plain": [
       "          confirm\n",
       "1/23/20      99.0\n",
       "1/24/20     287.0\n",
       "1/25/20     493.0\n",
       "1/26/20     684.0\n",
       "1/27/20     809.0\n",
       "...           ...\n",
       "9/17/20  313364.0\n",
       "9/18/20  324221.0\n",
       "9/19/20  281221.0\n",
       "9/20/20  241217.0\n",
       "9/21/20  223825.0\n",
       "\n",
       "[243 rows x 1 columns]"
      ]
     },
     "execution_count": 30,
     "metadata": {},
     "output_type": "execute_result"
    }
   ],
   "source": [
    "total_confirm2=total_confirm2.iloc[1:]#columns from 1 one to end \n",
    "total_confirm2"
   ]
  },
  {
   "cell_type": "code",
   "execution_count": 31,
   "id": "4b95e346",
   "metadata": {},
   "outputs": [
    {
     "data": {
      "image/png": "[encoded data removed]",
      "text/plain": [
       "<Figure size 432x288 with 1 Axes>"
      ]
     },
     "execution_count": 31,
     "metadata": {},
     "output_type": "execute_result"
    },
    {
     "data": {
      "image/png": "[encoded data removed]",
      "text/plain": [
       "<Figure size 432x288 with 1 Axes>"
      ]
     },
     "metadata": {
      "needs_background": "light"
     },
     "output_type": "display_data"
    }
   ],
   "source": [
    "plot_acf(total_confirm2)#A plot of the autocorrelation of a time series by lag and still the series has not become stationary"
   ]
  },
  {
   "cell_type": "code",
   "execution_count": 32,
   "id": "560ead13",
   "metadata": {},
   "outputs": [
    {
     "data": {
      "text/html": [
       "<div>\n",
       "<style scoped>\n",
       "    .dataframe tbody tr th:only-of-type {\n",
       "        vertical-align: middle;\n",
       "    }\n",
       "\n",
       "    .dataframe tbody tr th {\n",
       "        vertical-align: top;\n",
       "    }\n",
       "\n",
       "    .dataframe thead th {\n",
       "        text-align: right;\n",
       "    }\n",
       "</style>\n",
       "<table border=\"1\" class=\"dataframe\">\n",
       "  <thead>\n",
       "    <tr style=\"text-align: right;\">\n",
       "      <th></th>\n",
       "      <th>confirm</th>\n",
       "    </tr>\n",
       "  </thead>\n",
       "  <tbody>\n",
       "    <tr>\n",
       "      <th>1/23/20</th>\n",
       "      <td>NaN</td>\n",
       "    </tr>\n",
       "    <tr>\n",
       "      <th>1/24/20</th>\n",
       "      <td>188.0</td>\n",
       "    </tr>\n",
       "    <tr>\n",
       "      <th>1/25/20</th>\n",
       "      <td>206.0</td>\n",
       "    </tr>\n",
       "    <tr>\n",
       "      <th>1/26/20</th>\n",
       "      <td>191.0</td>\n",
       "    </tr>\n",
       "    <tr>\n",
       "      <th>1/27/20</th>\n",
       "      <td>125.0</td>\n",
       "    </tr>\n",
       "    <tr>\n",
       "      <th>...</th>\n",
       "      <td>...</td>\n",
       "    </tr>\n",
       "    <tr>\n",
       "      <th>9/17/20</th>\n",
       "      <td>9357.0</td>\n",
       "    </tr>\n",
       "    <tr>\n",
       "      <th>9/18/20</th>\n",
       "      <td>10857.0</td>\n",
       "    </tr>\n",
       "    <tr>\n",
       "      <th>9/19/20</th>\n",
       "      <td>-43000.0</td>\n",
       "    </tr>\n",
       "    <tr>\n",
       "      <th>9/20/20</th>\n",
       "      <td>-40004.0</td>\n",
       "    </tr>\n",
       "    <tr>\n",
       "      <th>9/21/20</th>\n",
       "      <td>-17392.0</td>\n",
       "    </tr>\n",
       "  </tbody>\n",
       "</table>\n",
       "<p>243 rows × 1 columns</p>\n",
       "</div>"
      ],
      "text/plain": [
       "         confirm\n",
       "1/23/20      NaN\n",
       "1/24/20    188.0\n",
       "1/25/20    206.0\n",
       "1/26/20    191.0\n",
       "1/27/20    125.0\n",
       "...          ...\n",
       "9/17/20   9357.0\n",
       "9/18/20  10857.0\n",
       "9/19/20 -43000.0\n",
       "9/20/20 -40004.0\n",
       "9/21/20 -17392.0\n",
       "\n",
       "[243 rows x 1 columns]"
      ]
     },
     "execution_count": 32,
     "metadata": {},
     "output_type": "execute_result"
    }
   ],
   "source": [
    "total_confirm3=total_confirm2.diff(periods=1)\n",
    "total_confirm3"
   ]
  },
  {
   "cell_type": "code",
   "execution_count": 33,
   "id": "c4158bad",
   "metadata": {},
   "outputs": [
    {
     "data": {
      "text/html": [
       "<div>\n",
       "<style scoped>\n",
       "    .dataframe tbody tr th:only-of-type {\n",
       "        vertical-align: middle;\n",
       "    }\n",
       "\n",
       "    .dataframe tbody tr th {\n",
       "        vertical-align: top;\n",
       "    }\n",
       "\n",
       "    .dataframe thead th {\n",
       "        text-align: right;\n",
       "    }\n",
       "</style>\n",
       "<table border=\"1\" class=\"dataframe\">\n",
       "  <thead>\n",
       "    <tr style=\"text-align: right;\">\n",
       "      <th></th>\n",
       "      <th>confirm</th>\n",
       "    </tr>\n",
       "  </thead>\n",
       "  <tbody>\n",
       "    <tr>\n",
       "      <th>1/24/20</th>\n",
       "      <td>188.0</td>\n",
       "    </tr>\n",
       "    <tr>\n",
       "      <th>1/25/20</th>\n",
       "      <td>206.0</td>\n",
       "    </tr>\n",
       "    <tr>\n",
       "      <th>1/26/20</th>\n",
       "      <td>191.0</td>\n",
       "    </tr>\n",
       "    <tr>\n",
       "      <th>1/27/20</th>\n",
       "      <td>125.0</td>\n",
       "    </tr>\n",
       "    <tr>\n",
       "      <th>1/28/20</th>\n",
       "      <td>1842.0</td>\n",
       "    </tr>\n",
       "    <tr>\n",
       "      <th>...</th>\n",
       "      <td>...</td>\n",
       "    </tr>\n",
       "    <tr>\n",
       "      <th>9/17/20</th>\n",
       "      <td>9357.0</td>\n",
       "    </tr>\n",
       "    <tr>\n",
       "      <th>9/18/20</th>\n",
       "      <td>10857.0</td>\n",
       "    </tr>\n",
       "    <tr>\n",
       "      <th>9/19/20</th>\n",
       "      <td>-43000.0</td>\n",
       "    </tr>\n",
       "    <tr>\n",
       "      <th>9/20/20</th>\n",
       "      <td>-40004.0</td>\n",
       "    </tr>\n",
       "    <tr>\n",
       "      <th>9/21/20</th>\n",
       "      <td>-17392.0</td>\n",
       "    </tr>\n",
       "  </tbody>\n",
       "</table>\n",
       "<p>242 rows × 1 columns</p>\n",
       "</div>"
      ],
      "text/plain": [
       "         confirm\n",
       "1/24/20    188.0\n",
       "1/25/20    206.0\n",
       "1/26/20    191.0\n",
       "1/27/20    125.0\n",
       "1/28/20   1842.0\n",
       "...          ...\n",
       "9/17/20   9357.0\n",
       "9/18/20  10857.0\n",
       "9/19/20 -43000.0\n",
       "9/20/20 -40004.0\n",
       "9/21/20 -17392.0\n",
       "\n",
       "[242 rows x 1 columns]"
      ]
     },
     "execution_count": 33,
     "metadata": {},
     "output_type": "execute_result"
    }
   ],
   "source": [
    "total_confirm3=total_confirm3.iloc[1:]\n",
    "total_confirm3"
   ]
  },
  {
   "cell_type": "code",
   "execution_count": 53,
   "id": "a67b3674",
   "metadata": {},
   "outputs": [
    {
     "data": {
      "image/png": "[encoded data removed]",
      "text/plain": [
       "<Figure size 432x288 with 1 Axes>"
      ]
     },
     "execution_count": 53,
     "metadata": {},
     "output_type": "execute_result"
    },
    {
     "data": {
      "image/png": "[encoded data removed]",
      "text/plain": [
       "<Figure size 432x288 with 1 Axes>"
      ]
     },
     "metadata": {
      "needs_background": "light"
     },
     "output_type": "display_data"
    }
   ],
   "source": [
    "plot_acf(total_confirm3)"
   ]
  },
  {
   "cell_type": "markdown",
   "id": "0f138550",
   "metadata": {},
   "source": [
    "### deaths data"
   ]
  },
  {
   "cell_type": "code",
   "execution_count": 34,
   "id": "558f6828",
   "metadata": {},
   "outputs": [
    {
     "data": {
      "text/html": [
       "<div>\n",
       "<style scoped>\n",
       "    .dataframe tbody tr th:only-of-type {\n",
       "        vertical-align: middle;\n",
       "    }\n",
       "\n",
       "    .dataframe tbody tr th {\n",
       "        vertical-align: top;\n",
       "    }\n",
       "\n",
       "    .dataframe thead th {\n",
       "        text-align: right;\n",
       "    }\n",
       "</style>\n",
       "<table border=\"1\" class=\"dataframe\">\n",
       "  <thead>\n",
       "    <tr style=\"text-align: right;\">\n",
       "      <th></th>\n",
       "      <th>Deaths</th>\n",
       "    </tr>\n",
       "  </thead>\n",
       "  <tbody>\n",
       "    <tr>\n",
       "      <th>1/22/20</th>\n",
       "      <td>17</td>\n",
       "    </tr>\n",
       "    <tr>\n",
       "      <th>1/23/20</th>\n",
       "      <td>18</td>\n",
       "    </tr>\n",
       "    <tr>\n",
       "      <th>1/24/20</th>\n",
       "      <td>26</td>\n",
       "    </tr>\n",
       "    <tr>\n",
       "      <th>1/25/20</th>\n",
       "      <td>42</td>\n",
       "    </tr>\n",
       "    <tr>\n",
       "      <th>1/26/20</th>\n",
       "      <td>56</td>\n",
       "    </tr>\n",
       "    <tr>\n",
       "      <th>...</th>\n",
       "      <td>...</td>\n",
       "    </tr>\n",
       "    <tr>\n",
       "      <th>9/17/20</th>\n",
       "      <td>946061</td>\n",
       "    </tr>\n",
       "    <tr>\n",
       "      <th>9/18/20</th>\n",
       "      <td>951767</td>\n",
       "    </tr>\n",
       "    <tr>\n",
       "      <th>9/19/20</th>\n",
       "      <td>956999</td>\n",
       "    </tr>\n",
       "    <tr>\n",
       "      <th>9/20/20</th>\n",
       "      <td>960695</td>\n",
       "    </tr>\n",
       "    <tr>\n",
       "      <th>9/21/20</th>\n",
       "      <td>963693</td>\n",
       "    </tr>\n",
       "  </tbody>\n",
       "</table>\n",
       "<p>244 rows × 1 columns</p>\n",
       "</div>"
      ],
      "text/plain": [
       "         Deaths\n",
       "1/22/20      17\n",
       "1/23/20      18\n",
       "1/24/20      26\n",
       "1/25/20      42\n",
       "1/26/20      56\n",
       "...         ...\n",
       "9/17/20  946061\n",
       "9/18/20  951767\n",
       "9/19/20  956999\n",
       "9/20/20  960695\n",
       "9/21/20  963693\n",
       "\n",
       "[244 rows x 1 columns]"
      ]
     },
     "execution_count": 34,
     "metadata": {},
     "output_type": "execute_result"
    }
   ],
   "source": [
    "total_deaths1=pd.DataFrame(total_deaths,index=dates)\n",
    "total_deaths1.rename(columns={0:\"Deaths\"},inplace=True)\n",
    "total_deaths1"
   ]
  },
  {
   "cell_type": "code",
   "execution_count": 35,
   "id": "87652757",
   "metadata": {},
   "outputs": [
    {
     "data": {
      "image/png": "[encoded data removed]",
      "text/plain": [
       "<Figure size 432x288 with 1 Axes>"
      ]
     },
     "execution_count": 35,
     "metadata": {},
     "output_type": "execute_result"
    },
    {
     "data": {
      "image/png": "[encoded data removed]",
      "text/plain": [
       "<Figure size 432x288 with 1 Axes>"
      ]
     },
     "metadata": {
      "needs_background": "light"
     },
     "output_type": "display_data"
    }
   ],
   "source": [
    "plot_acf(total_deaths1)"
   ]
  },
  {
   "cell_type": "code",
   "execution_count": 36,
   "id": "dff1c941",
   "metadata": {},
   "outputs": [],
   "source": [
    "total_deaths2=total_deaths1.diff(periods=1)"
   ]
  },
  {
   "cell_type": "code",
   "execution_count": 37,
   "id": "05a3b357",
   "metadata": {},
   "outputs": [
    {
     "data": {
      "text/html": [
       "<div>\n",
       "<style scoped>\n",
       "    .dataframe tbody tr th:only-of-type {\n",
       "        vertical-align: middle;\n",
       "    }\n",
       "\n",
       "    .dataframe tbody tr th {\n",
       "        vertical-align: top;\n",
       "    }\n",
       "\n",
       "    .dataframe thead th {\n",
       "        text-align: right;\n",
       "    }\n",
       "</style>\n",
       "<table border=\"1\" class=\"dataframe\">\n",
       "  <thead>\n",
       "    <tr style=\"text-align: right;\">\n",
       "      <th></th>\n",
       "      <th>Deaths</th>\n",
       "    </tr>\n",
       "  </thead>\n",
       "  <tbody>\n",
       "    <tr>\n",
       "      <th>1/22/20</th>\n",
       "      <td>NaN</td>\n",
       "    </tr>\n",
       "    <tr>\n",
       "      <th>1/23/20</th>\n",
       "      <td>1.0</td>\n",
       "    </tr>\n",
       "    <tr>\n",
       "      <th>1/24/20</th>\n",
       "      <td>8.0</td>\n",
       "    </tr>\n",
       "    <tr>\n",
       "      <th>1/25/20</th>\n",
       "      <td>16.0</td>\n",
       "    </tr>\n",
       "    <tr>\n",
       "      <th>1/26/20</th>\n",
       "      <td>14.0</td>\n",
       "    </tr>\n",
       "    <tr>\n",
       "      <th>...</th>\n",
       "      <td>...</td>\n",
       "    </tr>\n",
       "    <tr>\n",
       "      <th>9/17/20</th>\n",
       "      <td>5456.0</td>\n",
       "    </tr>\n",
       "    <tr>\n",
       "      <th>9/18/20</th>\n",
       "      <td>5706.0</td>\n",
       "    </tr>\n",
       "    <tr>\n",
       "      <th>9/19/20</th>\n",
       "      <td>5232.0</td>\n",
       "    </tr>\n",
       "    <tr>\n",
       "      <th>9/20/20</th>\n",
       "      <td>3696.0</td>\n",
       "    </tr>\n",
       "    <tr>\n",
       "      <th>9/21/20</th>\n",
       "      <td>2998.0</td>\n",
       "    </tr>\n",
       "  </tbody>\n",
       "</table>\n",
       "<p>244 rows × 1 columns</p>\n",
       "</div>"
      ],
      "text/plain": [
       "         Deaths\n",
       "1/22/20     NaN\n",
       "1/23/20     1.0\n",
       "1/24/20     8.0\n",
       "1/25/20    16.0\n",
       "1/26/20    14.0\n",
       "...         ...\n",
       "9/17/20  5456.0\n",
       "9/18/20  5706.0\n",
       "9/19/20  5232.0\n",
       "9/20/20  3696.0\n",
       "9/21/20  2998.0\n",
       "\n",
       "[244 rows x 1 columns]"
      ]
     },
     "execution_count": 37,
     "metadata": {},
     "output_type": "execute_result"
    }
   ],
   "source": [
    "total_deaths2"
   ]
  },
  {
   "cell_type": "code",
   "execution_count": 38,
   "id": "ace141d7",
   "metadata": {},
   "outputs": [
    {
     "data": {
      "text/html": [
       "<div>\n",
       "<style scoped>\n",
       "    .dataframe tbody tr th:only-of-type {\n",
       "        vertical-align: middle;\n",
       "    }\n",
       "\n",
       "    .dataframe tbody tr th {\n",
       "        vertical-align: top;\n",
       "    }\n",
       "\n",
       "    .dataframe thead th {\n",
       "        text-align: right;\n",
       "    }\n",
       "</style>\n",
       "<table border=\"1\" class=\"dataframe\">\n",
       "  <thead>\n",
       "    <tr style=\"text-align: right;\">\n",
       "      <th></th>\n",
       "      <th>Deaths</th>\n",
       "    </tr>\n",
       "  </thead>\n",
       "  <tbody>\n",
       "    <tr>\n",
       "      <th>1/23/20</th>\n",
       "      <td>1.0</td>\n",
       "    </tr>\n",
       "    <tr>\n",
       "      <th>1/24/20</th>\n",
       "      <td>8.0</td>\n",
       "    </tr>\n",
       "    <tr>\n",
       "      <th>1/25/20</th>\n",
       "      <td>16.0</td>\n",
       "    </tr>\n",
       "    <tr>\n",
       "      <th>1/26/20</th>\n",
       "      <td>14.0</td>\n",
       "    </tr>\n",
       "    <tr>\n",
       "      <th>1/27/20</th>\n",
       "      <td>26.0</td>\n",
       "    </tr>\n",
       "    <tr>\n",
       "      <th>...</th>\n",
       "      <td>...</td>\n",
       "    </tr>\n",
       "    <tr>\n",
       "      <th>9/17/20</th>\n",
       "      <td>5456.0</td>\n",
       "    </tr>\n",
       "    <tr>\n",
       "      <th>9/18/20</th>\n",
       "      <td>5706.0</td>\n",
       "    </tr>\n",
       "    <tr>\n",
       "      <th>9/19/20</th>\n",
       "      <td>5232.0</td>\n",
       "    </tr>\n",
       "    <tr>\n",
       "      <th>9/20/20</th>\n",
       "      <td>3696.0</td>\n",
       "    </tr>\n",
       "    <tr>\n",
       "      <th>9/21/20</th>\n",
       "      <td>2998.0</td>\n",
       "    </tr>\n",
       "  </tbody>\n",
       "</table>\n",
       "<p>243 rows × 1 columns</p>\n",
       "</div>"
      ],
      "text/plain": [
       "         Deaths\n",
       "1/23/20     1.0\n",
       "1/24/20     8.0\n",
       "1/25/20    16.0\n",
       "1/26/20    14.0\n",
       "1/27/20    26.0\n",
       "...         ...\n",
       "9/17/20  5456.0\n",
       "9/18/20  5706.0\n",
       "9/19/20  5232.0\n",
       "9/20/20  3696.0\n",
       "9/21/20  2998.0\n",
       "\n",
       "[243 rows x 1 columns]"
      ]
     },
     "execution_count": 38,
     "metadata": {},
     "output_type": "execute_result"
    }
   ],
   "source": [
    "total_deaths2=total_deaths2.iloc[1:]\n",
    "total_deaths2"
   ]
  },
  {
   "cell_type": "code",
   "execution_count": 39,
   "id": "e2c90959",
   "metadata": {},
   "outputs": [
    {
     "data": {
      "image/png": "[encoded data removed]",
      "text/plain": [
       "<Figure size 432x288 with 1 Axes>"
      ]
     },
     "execution_count": 39,
     "metadata": {},
     "output_type": "execute_result"
    },
    {
     "data": {
      "image/png": "[encoded data removed]",
      "text/plain": [
       "<Figure size 432x288 with 1 Axes>"
      ]
     },
     "metadata": {
      "needs_background": "light"
     },
     "output_type": "display_data"
    }
   ],
   "source": [
    "plot_acf(total_deaths2)"
   ]
  },
  {
   "cell_type": "code",
   "execution_count": 40,
   "id": "940298ac",
   "metadata": {},
   "outputs": [],
   "source": [
    "total_deaths3=total_deaths2.diff(periods=1)"
   ]
  },
  {
   "cell_type": "code",
   "execution_count": 41,
   "id": "d962b895",
   "metadata": {},
   "outputs": [
    {
     "data": {
      "text/html": [
       "<div>\n",
       "<style scoped>\n",
       "    .dataframe tbody tr th:only-of-type {\n",
       "        vertical-align: middle;\n",
       "    }\n",
       "\n",
       "    .dataframe tbody tr th {\n",
       "        vertical-align: top;\n",
       "    }\n",
       "\n",
       "    .dataframe thead th {\n",
       "        text-align: right;\n",
       "    }\n",
       "</style>\n",
       "<table border=\"1\" class=\"dataframe\">\n",
       "  <thead>\n",
       "    <tr style=\"text-align: right;\">\n",
       "      <th></th>\n",
       "      <th>Deaths</th>\n",
       "    </tr>\n",
       "  </thead>\n",
       "  <tbody>\n",
       "    <tr>\n",
       "      <th>1/24/20</th>\n",
       "      <td>7.0</td>\n",
       "    </tr>\n",
       "    <tr>\n",
       "      <th>1/25/20</th>\n",
       "      <td>8.0</td>\n",
       "    </tr>\n",
       "    <tr>\n",
       "      <th>1/26/20</th>\n",
       "      <td>-2.0</td>\n",
       "    </tr>\n",
       "    <tr>\n",
       "      <th>1/27/20</th>\n",
       "      <td>12.0</td>\n",
       "    </tr>\n",
       "    <tr>\n",
       "      <th>1/28/20</th>\n",
       "      <td>23.0</td>\n",
       "    </tr>\n",
       "    <tr>\n",
       "      <th>...</th>\n",
       "      <td>...</td>\n",
       "    </tr>\n",
       "    <tr>\n",
       "      <th>9/17/20</th>\n",
       "      <td>-297.0</td>\n",
       "    </tr>\n",
       "    <tr>\n",
       "      <th>9/18/20</th>\n",
       "      <td>250.0</td>\n",
       "    </tr>\n",
       "    <tr>\n",
       "      <th>9/19/20</th>\n",
       "      <td>-474.0</td>\n",
       "    </tr>\n",
       "    <tr>\n",
       "      <th>9/20/20</th>\n",
       "      <td>-1536.0</td>\n",
       "    </tr>\n",
       "    <tr>\n",
       "      <th>9/21/20</th>\n",
       "      <td>-698.0</td>\n",
       "    </tr>\n",
       "  </tbody>\n",
       "</table>\n",
       "<p>242 rows × 1 columns</p>\n",
       "</div>"
      ],
      "text/plain": [
       "         Deaths\n",
       "1/24/20     7.0\n",
       "1/25/20     8.0\n",
       "1/26/20    -2.0\n",
       "1/27/20    12.0\n",
       "1/28/20    23.0\n",
       "...         ...\n",
       "9/17/20  -297.0\n",
       "9/18/20   250.0\n",
       "9/19/20  -474.0\n",
       "9/20/20 -1536.0\n",
       "9/21/20  -698.0\n",
       "\n",
       "[242 rows x 1 columns]"
      ]
     },
     "execution_count": 41,
     "metadata": {},
     "output_type": "execute_result"
    }
   ],
   "source": [
    "total_deaths3=total_deaths3.iloc[1:]\n",
    "total_deaths3"
   ]
  },
  {
   "cell_type": "code",
   "execution_count": 42,
   "id": "6f79ba51",
   "metadata": {},
   "outputs": [
    {
     "data": {
      "image/png": "[encoded data removed]",
      "text/plain": [
       "<Figure size 432x288 with 1 Axes>"
      ]
     },
     "execution_count": 42,
     "metadata": {},
     "output_type": "execute_result"
    },
    {
     "data": {
      "image/png": "[encoded data removed]",
      "text/plain": [
       "<Figure size 432x288 with 1 Axes>"
      ]
     },
     "metadata": {
      "needs_background": "light"
     },
     "output_type": "display_data"
    }
   ],
   "source": [
    "plot_acf(total_deaths3)"
   ]
  },
  {
   "cell_type": "code",
   "execution_count": 43,
   "id": "04b5bb48",
   "metadata": {},
   "outputs": [
    {
     "data": {
      "text/plain": [
       "(242, 1)"
      ]
     },
     "execution_count": 43,
     "metadata": {},
     "output_type": "execute_result"
    }
   ],
   "source": [
    "total_deaths3.shape#shape of the data rows and columns"
   ]
  },
  {
   "cell_type": "markdown",
   "id": "33ae3e48",
   "metadata": {},
   "source": [
    "###  recovered data "
   ]
  },
  {
   "cell_type": "code",
   "execution_count": 44,
   "id": "24be721a",
   "metadata": {},
   "outputs": [
    {
     "data": {
      "text/html": [
       "<div>\n",
       "<style scoped>\n",
       "    .dataframe tbody tr th:only-of-type {\n",
       "        vertical-align: middle;\n",
       "    }\n",
       "\n",
       "    .dataframe tbody tr th {\n",
       "        vertical-align: top;\n",
       "    }\n",
       "\n",
       "    .dataframe thead th {\n",
       "        text-align: right;\n",
       "    }\n",
       "</style>\n",
       "<table border=\"1\" class=\"dataframe\">\n",
       "  <thead>\n",
       "    <tr style=\"text-align: right;\">\n",
       "      <th></th>\n",
       "      <th>1/22/20</th>\n",
       "      <th>1/23/20</th>\n",
       "      <th>1/24/20</th>\n",
       "      <th>1/25/20</th>\n",
       "      <th>1/26/20</th>\n",
       "      <th>1/27/20</th>\n",
       "      <th>1/28/20</th>\n",
       "      <th>1/29/20</th>\n",
       "      <th>1/30/20</th>\n",
       "      <th>1/31/20</th>\n",
       "      <th>...</th>\n",
       "      <th>9/12/20</th>\n",
       "      <th>9/13/20</th>\n",
       "      <th>9/14/20</th>\n",
       "      <th>9/15/20</th>\n",
       "      <th>9/16/20</th>\n",
       "      <th>9/17/20</th>\n",
       "      <th>9/18/20</th>\n",
       "      <th>9/19/20</th>\n",
       "      <th>9/20/20</th>\n",
       "      <th>9/21/20</th>\n",
       "    </tr>\n",
       "  </thead>\n",
       "  <tbody>\n",
       "    <tr>\n",
       "      <th>0</th>\n",
       "      <td>0</td>\n",
       "      <td>0</td>\n",
       "      <td>0</td>\n",
       "      <td>0</td>\n",
       "      <td>0</td>\n",
       "      <td>0</td>\n",
       "      <td>0</td>\n",
       "      <td>0</td>\n",
       "      <td>0</td>\n",
       "      <td>0</td>\n",
       "      <td>...</td>\n",
       "      <td>31234</td>\n",
       "      <td>31638</td>\n",
       "      <td>32073</td>\n",
       "      <td>32098</td>\n",
       "      <td>32503</td>\n",
       "      <td>32505</td>\n",
       "      <td>32576</td>\n",
       "      <td>32576</td>\n",
       "      <td>32576</td>\n",
       "      <td>32576</td>\n",
       "    </tr>\n",
       "    <tr>\n",
       "      <th>1</th>\n",
       "      <td>0</td>\n",
       "      <td>0</td>\n",
       "      <td>0</td>\n",
       "      <td>0</td>\n",
       "      <td>0</td>\n",
       "      <td>0</td>\n",
       "      <td>0</td>\n",
       "      <td>0</td>\n",
       "      <td>0</td>\n",
       "      <td>0</td>\n",
       "      <td>...</td>\n",
       "      <td>6494</td>\n",
       "      <td>6569</td>\n",
       "      <td>6615</td>\n",
       "      <td>6668</td>\n",
       "      <td>6733</td>\n",
       "      <td>6788</td>\n",
       "      <td>6831</td>\n",
       "      <td>6888</td>\n",
       "      <td>6940</td>\n",
       "      <td>6995</td>\n",
       "    </tr>\n",
       "    <tr>\n",
       "      <th>2</th>\n",
       "      <td>0</td>\n",
       "      <td>0</td>\n",
       "      <td>0</td>\n",
       "      <td>0</td>\n",
       "      <td>0</td>\n",
       "      <td>0</td>\n",
       "      <td>0</td>\n",
       "      <td>0</td>\n",
       "      <td>0</td>\n",
       "      <td>0</td>\n",
       "      <td>...</td>\n",
       "      <td>33875</td>\n",
       "      <td>34037</td>\n",
       "      <td>34204</td>\n",
       "      <td>34385</td>\n",
       "      <td>34517</td>\n",
       "      <td>34675</td>\n",
       "      <td>34818</td>\n",
       "      <td>34923</td>\n",
       "      <td>35047</td>\n",
       "      <td>35180</td>\n",
       "    </tr>\n",
       "    <tr>\n",
       "      <th>3</th>\n",
       "      <td>0</td>\n",
       "      <td>0</td>\n",
       "      <td>0</td>\n",
       "      <td>0</td>\n",
       "      <td>0</td>\n",
       "      <td>0</td>\n",
       "      <td>0</td>\n",
       "      <td>0</td>\n",
       "      <td>0</td>\n",
       "      <td>0</td>\n",
       "      <td>...</td>\n",
       "      <td>943</td>\n",
       "      <td>943</td>\n",
       "      <td>945</td>\n",
       "      <td>945</td>\n",
       "      <td>1054</td>\n",
       "      <td>1054</td>\n",
       "      <td>1164</td>\n",
       "      <td>1164</td>\n",
       "      <td>1164</td>\n",
       "      <td>1199</td>\n",
       "    </tr>\n",
       "    <tr>\n",
       "      <th>4</th>\n",
       "      <td>0</td>\n",
       "      <td>0</td>\n",
       "      <td>0</td>\n",
       "      <td>0</td>\n",
       "      <td>0</td>\n",
       "      <td>0</td>\n",
       "      <td>0</td>\n",
       "      <td>0</td>\n",
       "      <td>0</td>\n",
       "      <td>0</td>\n",
       "      <td>...</td>\n",
       "      <td>1289</td>\n",
       "      <td>1301</td>\n",
       "      <td>1324</td>\n",
       "      <td>1332</td>\n",
       "      <td>1401</td>\n",
       "      <td>1405</td>\n",
       "      <td>1443</td>\n",
       "      <td>1445</td>\n",
       "      <td>1445</td>\n",
       "      <td>1449</td>\n",
       "    </tr>\n",
       "  </tbody>\n",
       "</table>\n",
       "<p>5 rows × 244 columns</p>\n",
       "</div>"
      ],
      "text/plain": [
       "   1/22/20  1/23/20  1/24/20  1/25/20  1/26/20  1/27/20  1/28/20  1/29/20  \\\n",
       "0        0        0        0        0        0        0        0        0   \n",
       "1        0        0        0        0        0        0        0        0   \n",
       "2        0        0        0        0        0        0        0        0   \n",
       "3        0        0        0        0        0        0        0        0   \n",
       "4        0        0        0        0        0        0        0        0   \n",
       "\n",
       "   1/30/20  1/31/20  ...  9/12/20  9/13/20  9/14/20  9/15/20  9/16/20  \\\n",
       "0        0        0  ...    31234    31638    32073    32098    32503   \n",
       "1        0        0  ...     6494     6569     6615     6668     6733   \n",
       "2        0        0  ...    33875    34037    34204    34385    34517   \n",
       "3        0        0  ...      943      943      945      945     1054   \n",
       "4        0        0  ...     1289     1301     1324     1332     1401   \n",
       "\n",
       "   9/17/20  9/18/20  9/19/20  9/20/20  9/21/20  \n",
       "0    32505    32576    32576    32576    32576  \n",
       "1     6788     6831     6888     6940     6995  \n",
       "2    34675    34818    34923    35047    35180  \n",
       "3     1054     1164     1164     1164     1199  \n",
       "4     1405     1443     1445     1445     1449  \n",
       "\n",
       "[5 rows x 244 columns]"
      ]
     },
     "execution_count": 44,
     "metadata": {},
     "output_type": "execute_result"
    }
   ],
   "source": [
    "recovered.head()"
   ]
  },
  {
   "cell_type": "code",
   "execution_count": 45,
   "id": "83e3fe83",
   "metadata": {},
   "outputs": [
    {
     "data": {
      "text/plain": [
       "array([[      28],\n",
       "       [      30],\n",
       "       [      36],\n",
       "       [      39],\n",
       "       [      52],\n",
       "       [      61],\n",
       "       [     107],\n",
       "       [     126],\n",
       "       [     143],\n",
       "       [     222],\n",
       "       [     284],\n",
       "       [     472],\n",
       "       [     623],\n",
       "       [     852],\n",
       "       [    1124],\n",
       "       [    1487],\n",
       "       [    2011],\n",
       "       [    2616],\n",
       "       [    3244],\n",
       "       [    3946],\n",
       "       [    4683],\n",
       "       [    5150],\n",
       "       [    6295],\n",
       "       [    8058],\n",
       "       [    9395],\n",
       "       [   10865],\n",
       "       [   12583],\n",
       "       [   14352],\n",
       "       [   16121],\n",
       "       [   18177],\n",
       "       [   18890],\n",
       "       [   22886],\n",
       "       [   23394],\n",
       "       [   25227],\n",
       "       [   27905],\n",
       "       [   30384],\n",
       "       [   33277],\n",
       "       [   36711],\n",
       "       [   39782],\n",
       "       [   42716],\n",
       "       [   45602],\n",
       "       [   48228],\n",
       "       [   51170],\n",
       "       [   53796],\n",
       "       [   55865],\n",
       "       [   58359],\n",
       "       [   60694],\n",
       "       [   62493],\n",
       "       [   64404],\n",
       "       [   67002],\n",
       "       [   68324],\n",
       "       [   70251],\n",
       "       [   72622],\n",
       "       [   76032],\n",
       "       [   78086],\n",
       "       [   80838],\n",
       "       [   83321],\n",
       "       [   84958],\n",
       "       [   87403],\n",
       "       [   91670],\n",
       "       [   97885],\n",
       "       [   98351],\n",
       "       [  107992],\n",
       "       [  113775],\n",
       "       [  122145],\n",
       "       [  130921],\n",
       "       [  139424],\n",
       "       [  148891],\n",
       "       [  164337],\n",
       "       [  177825],\n",
       "       [  192918],\n",
       "       [  209967],\n",
       "       [  225415],\n",
       "       [  245832],\n",
       "       [  259672],\n",
       "       [  276252],\n",
       "       [  299643],\n",
       "       [  328359],\n",
       "       [  353707],\n",
       "       [  375509],\n",
       "       [  401766],\n",
       "       [  421180],\n",
       "       [  448347],\n",
       "       [  473436],\n",
       "       [  510106],\n",
       "       [  540926],\n",
       "       [  567049],\n",
       "       [  590968],\n",
       "       [  622623],\n",
       "       [  644613],\n",
       "       [  679456],\n",
       "       [  709881],\n",
       "       [  738661],\n",
       "       [  788712],\n",
       "       [  816491],\n",
       "       [  845096],\n",
       "       [  872865],\n",
       "       [  906136],\n",
       "       [  948318],\n",
       "       [ 1013284],\n",
       "       [ 1051537],\n",
       "       [ 1092416],\n",
       "       [ 1124732],\n",
       "       [ 1158819],\n",
       "       [ 1195359],\n",
       "       [ 1241365],\n",
       "       [ 1280833],\n",
       "       [ 1317383],\n",
       "       [ 1370933],\n",
       "       [ 1404527],\n",
       "       [ 1451521],\n",
       "       [ 1488542],\n",
       "       [ 1544398],\n",
       "       [ 1584114],\n",
       "       [ 1632122],\n",
       "       [ 1688714],\n",
       "       [ 1729621],\n",
       "       [ 1782542],\n",
       "       [ 1834647],\n",
       "       [ 1893575],\n",
       "       [ 1944840],\n",
       "       [ 2053491],\n",
       "       [ 2108462],\n",
       "       [ 2163902],\n",
       "       [ 2227625],\n",
       "       [ 2282839],\n",
       "       [ 2346232],\n",
       "       [ 2413089],\n",
       "       [ 2490435],\n",
       "       [ 2560888],\n",
       "       [ 2637208],\n",
       "       [ 2692105],\n",
       "       [ 2796228],\n",
       "       [ 2875332],\n",
       "       [ 2945385],\n",
       "       [ 3014544],\n",
       "       [ 3086748],\n",
       "       [ 3141849],\n",
       "       [ 3293412],\n",
       "       [ 3375694],\n",
       "       [ 3454832],\n",
       "       [ 3540714],\n",
       "       [ 3620438],\n",
       "       [ 3706372],\n",
       "       [ 3777157],\n",
       "       [ 3857365],\n",
       "       [ 3955205],\n",
       "       [ 4073992],\n",
       "       [ 4155134],\n",
       "       [ 4250149],\n",
       "       [ 4365974],\n",
       "       [ 4434711],\n",
       "       [ 4526337],\n",
       "       [ 4630412],\n",
       "       [ 4746172],\n",
       "       [ 4839028],\n",
       "       [ 4945742],\n",
       "       [ 5052107],\n",
       "       [ 5141227],\n",
       "       [ 5235793],\n",
       "       [ 5353115],\n",
       "       [ 5469041],\n",
       "       [ 5753918],\n",
       "       [ 5863818],\n",
       "       [ 6059651],\n",
       "       [ 6178973],\n",
       "       [ 6302585],\n",
       "       [ 6447610],\n",
       "       [ 6605559],\n",
       "       [ 6740073],\n",
       "       [ 6879465],\n",
       "       [ 7005174],\n",
       "       [ 7116853],\n",
       "       [ 7257197],\n",
       "       [ 7399397],\n",
       "       [ 7559178],\n",
       "       [ 7711548],\n",
       "       [ 7894858],\n",
       "       [ 8045815],\n",
       "       [ 8133692],\n",
       "       [ 8292688],\n",
       "       [ 8467335],\n",
       "       [ 8643722],\n",
       "       [ 8813886],\n",
       "       [ 9043203],\n",
       "       [ 9262520],\n",
       "       [ 9402996],\n",
       "       [ 9572619],\n",
       "       [ 9746473],\n",
       "       [ 9948163],\n",
       "       [10170650],\n",
       "       [10369140],\n",
       "       [10553585],\n",
       "       [10690555],\n",
       "       [10913000],\n",
       "       [11134735],\n",
       "       [11356275],\n",
       "       [11545401],\n",
       "       [11737927],\n",
       "       [11939109],\n",
       "       [12115825],\n",
       "       [12280520],\n",
       "       [12585473],\n",
       "       [12826815],\n",
       "       [12992176],\n",
       "       [13276831],\n",
       "       [13445842],\n",
       "       [13676868],\n",
       "       [13888301],\n",
       "       [14116451],\n",
       "       [14333914],\n",
       "       [14541573],\n",
       "       [14712252],\n",
       "       [14922177],\n",
       "       [15137610],\n",
       "       [15337659],\n",
       "       [15570598],\n",
       "       [15794947],\n",
       "       [15996510],\n",
       "       [16196934],\n",
       "       [16408559],\n",
       "       [16616995],\n",
       "       [16818436],\n",
       "       [17073236],\n",
       "       [17291874],\n",
       "       [17512585],\n",
       "       [17726336],\n",
       "       [17927195],\n",
       "       [18137310],\n",
       "       [18336112],\n",
       "       [18524391],\n",
       "       [18776723],\n",
       "       [18992383],\n",
       "       [19215800],\n",
       "       [19439157],\n",
       "       [19624935],\n",
       "       [19854392],\n",
       "       [20078979],\n",
       "       [20307938],\n",
       "       [20527185],\n",
       "       [20778990],\n",
       "       [21016801],\n",
       "       [21252815],\n",
       "       [21394593]], dtype=int64)"
      ]
     },
     "execution_count": 45,
     "metadata": {},
     "output_type": "execute_result"
    }
   ],
   "source": [
    "total_recovered"
   ]
  },
  {
   "cell_type": "code",
   "execution_count": 46,
   "id": "37ab21ed",
   "metadata": {},
   "outputs": [
    {
     "data": {
      "text/html": [
       "<div>\n",
       "<style scoped>\n",
       "    .dataframe tbody tr th:only-of-type {\n",
       "        vertical-align: middle;\n",
       "    }\n",
       "\n",
       "    .dataframe tbody tr th {\n",
       "        vertical-align: top;\n",
       "    }\n",
       "\n",
       "    .dataframe thead th {\n",
       "        text-align: right;\n",
       "    }\n",
       "</style>\n",
       "<table border=\"1\" class=\"dataframe\">\n",
       "  <thead>\n",
       "    <tr style=\"text-align: right;\">\n",
       "      <th></th>\n",
       "      <th>recover</th>\n",
       "    </tr>\n",
       "  </thead>\n",
       "  <tbody>\n",
       "    <tr>\n",
       "      <th>1/22/20</th>\n",
       "      <td>28</td>\n",
       "    </tr>\n",
       "    <tr>\n",
       "      <th>1/23/20</th>\n",
       "      <td>30</td>\n",
       "    </tr>\n",
       "    <tr>\n",
       "      <th>1/24/20</th>\n",
       "      <td>36</td>\n",
       "    </tr>\n",
       "    <tr>\n",
       "      <th>1/25/20</th>\n",
       "      <td>39</td>\n",
       "    </tr>\n",
       "    <tr>\n",
       "      <th>1/26/20</th>\n",
       "      <td>52</td>\n",
       "    </tr>\n",
       "    <tr>\n",
       "      <th>...</th>\n",
       "      <td>...</td>\n",
       "    </tr>\n",
       "    <tr>\n",
       "      <th>9/17/20</th>\n",
       "      <td>20527185</td>\n",
       "    </tr>\n",
       "    <tr>\n",
       "      <th>9/18/20</th>\n",
       "      <td>20778990</td>\n",
       "    </tr>\n",
       "    <tr>\n",
       "      <th>9/19/20</th>\n",
       "      <td>21016801</td>\n",
       "    </tr>\n",
       "    <tr>\n",
       "      <th>9/20/20</th>\n",
       "      <td>21252815</td>\n",
       "    </tr>\n",
       "    <tr>\n",
       "      <th>9/21/20</th>\n",
       "      <td>21394593</td>\n",
       "    </tr>\n",
       "  </tbody>\n",
       "</table>\n",
       "<p>244 rows × 1 columns</p>\n",
       "</div>"
      ],
      "text/plain": [
       "          recover\n",
       "1/22/20        28\n",
       "1/23/20        30\n",
       "1/24/20        36\n",
       "1/25/20        39\n",
       "1/26/20        52\n",
       "...           ...\n",
       "9/17/20  20527185\n",
       "9/18/20  20778990\n",
       "9/19/20  21016801\n",
       "9/20/20  21252815\n",
       "9/21/20  21394593\n",
       "\n",
       "[244 rows x 1 columns]"
      ]
     },
     "execution_count": 46,
     "metadata": {},
     "output_type": "execute_result"
    }
   ],
   "source": [
    "total_recovered1=pd.DataFrame(total_recovered,index=dates)\n",
    "total_recovered1.rename(columns={0:\"recover\"},inplace=True)\n",
    "total_recovered1"
   ]
  },
  {
   "cell_type": "code",
   "execution_count": 47,
   "id": "9ae0a093",
   "metadata": {},
   "outputs": [
    {
     "data": {
      "image/png": "[encoded data removed]",
      "text/plain": [
       "<Figure size 720x360 with 1 Axes>"
      ]
     },
     "metadata": {},
     "output_type": "display_data"
    }
   ],
   "source": [
    "import matplotlib.pyplot as plt\n",
    "plt.figure(figsize=(10,5),facecolor='white')#canvas  size\n",
    "plt.plot(total_recovered1)#line plot \n",
    "plt.tight_layout()"
   ]
  },
  {
   "cell_type": "code",
   "execution_count": 48,
   "id": "af74eff7",
   "metadata": {},
   "outputs": [
    {
     "data": {
      "image/png": "[encoded data removed]",
      "text/plain": [
       "<Figure size 432x288 with 1 Axes>"
      ]
     },
     "execution_count": 48,
     "metadata": {},
     "output_type": "execute_result"
    },
    {
     "data": {
      "image/png": "[encoded data removed]",
      "text/plain": [
       "<Figure size 432x288 with 1 Axes>"
      ]
     },
     "metadata": {
      "needs_background": "light"
     },
     "output_type": "display_data"
    }
   ],
   "source": [
    "plot_acf(total_recovered1)"
   ]
  },
  {
   "cell_type": "code",
   "execution_count": 49,
   "id": "13c509aa",
   "metadata": {},
   "outputs": [],
   "source": [
    "total_recovered2=total_recovered1.diff(periods=1)"
   ]
  },
  {
   "cell_type": "code",
   "execution_count": 50,
   "id": "62b60f4b",
   "metadata": {},
   "outputs": [
    {
     "data": {
      "text/html": [
       "<div>\n",
       "<style scoped>\n",
       "    .dataframe tbody tr th:only-of-type {\n",
       "        vertical-align: middle;\n",
       "    }\n",
       "\n",
       "    .dataframe tbody tr th {\n",
       "        vertical-align: top;\n",
       "    }\n",
       "\n",
       "    .dataframe thead th {\n",
       "        text-align: right;\n",
       "    }\n",
       "</style>\n",
       "<table border=\"1\" class=\"dataframe\">\n",
       "  <thead>\n",
       "    <tr style=\"text-align: right;\">\n",
       "      <th></th>\n",
       "      <th>recover</th>\n",
       "    </tr>\n",
       "  </thead>\n",
       "  <tbody>\n",
       "    <tr>\n",
       "      <th>1/22/20</th>\n",
       "      <td>NaN</td>\n",
       "    </tr>\n",
       "    <tr>\n",
       "      <th>1/23/20</th>\n",
       "      <td>2.0</td>\n",
       "    </tr>\n",
       "    <tr>\n",
       "      <th>1/24/20</th>\n",
       "      <td>6.0</td>\n",
       "    </tr>\n",
       "    <tr>\n",
       "      <th>1/25/20</th>\n",
       "      <td>3.0</td>\n",
       "    </tr>\n",
       "    <tr>\n",
       "      <th>1/26/20</th>\n",
       "      <td>13.0</td>\n",
       "    </tr>\n",
       "    <tr>\n",
       "      <th>...</th>\n",
       "      <td>...</td>\n",
       "    </tr>\n",
       "    <tr>\n",
       "      <th>9/17/20</th>\n",
       "      <td>219247.0</td>\n",
       "    </tr>\n",
       "    <tr>\n",
       "      <th>9/18/20</th>\n",
       "      <td>251805.0</td>\n",
       "    </tr>\n",
       "    <tr>\n",
       "      <th>9/19/20</th>\n",
       "      <td>237811.0</td>\n",
       "    </tr>\n",
       "    <tr>\n",
       "      <th>9/20/20</th>\n",
       "      <td>236014.0</td>\n",
       "    </tr>\n",
       "    <tr>\n",
       "      <th>9/21/20</th>\n",
       "      <td>141778.0</td>\n",
       "    </tr>\n",
       "  </tbody>\n",
       "</table>\n",
       "<p>244 rows × 1 columns</p>\n",
       "</div>"
      ],
      "text/plain": [
       "          recover\n",
       "1/22/20       NaN\n",
       "1/23/20       2.0\n",
       "1/24/20       6.0\n",
       "1/25/20       3.0\n",
       "1/26/20      13.0\n",
       "...           ...\n",
       "9/17/20  219247.0\n",
       "9/18/20  251805.0\n",
       "9/19/20  237811.0\n",
       "9/20/20  236014.0\n",
       "9/21/20  141778.0\n",
       "\n",
       "[244 rows x 1 columns]"
      ]
     },
     "execution_count": 50,
     "metadata": {},
     "output_type": "execute_result"
    }
   ],
   "source": [
    "total_recovered2"
   ]
  },
  {
   "cell_type": "code",
   "execution_count": 51,
   "id": "ed2b4dbc",
   "metadata": {},
   "outputs": [
    {
     "data": {
      "text/html": [
       "<div>\n",
       "<style scoped>\n",
       "    .dataframe tbody tr th:only-of-type {\n",
       "        vertical-align: middle;\n",
       "    }\n",
       "\n",
       "    .dataframe tbody tr th {\n",
       "        vertical-align: top;\n",
       "    }\n",
       "\n",
       "    .dataframe thead th {\n",
       "        text-align: right;\n",
       "    }\n",
       "</style>\n",
       "<table border=\"1\" class=\"dataframe\">\n",
       "  <thead>\n",
       "    <tr style=\"text-align: right;\">\n",
       "      <th></th>\n",
       "      <th>recover</th>\n",
       "    </tr>\n",
       "  </thead>\n",
       "  <tbody>\n",
       "    <tr>\n",
       "      <th>1/23/20</th>\n",
       "      <td>2.0</td>\n",
       "    </tr>\n",
       "    <tr>\n",
       "      <th>1/24/20</th>\n",
       "      <td>6.0</td>\n",
       "    </tr>\n",
       "    <tr>\n",
       "      <th>1/25/20</th>\n",
       "      <td>3.0</td>\n",
       "    </tr>\n",
       "    <tr>\n",
       "      <th>1/26/20</th>\n",
       "      <td>13.0</td>\n",
       "    </tr>\n",
       "    <tr>\n",
       "      <th>1/27/20</th>\n",
       "      <td>9.0</td>\n",
       "    </tr>\n",
       "    <tr>\n",
       "      <th>...</th>\n",
       "      <td>...</td>\n",
       "    </tr>\n",
       "    <tr>\n",
       "      <th>9/17/20</th>\n",
       "      <td>219247.0</td>\n",
       "    </tr>\n",
       "    <tr>\n",
       "      <th>9/18/20</th>\n",
       "      <td>251805.0</td>\n",
       "    </tr>\n",
       "    <tr>\n",
       "      <th>9/19/20</th>\n",
       "      <td>237811.0</td>\n",
       "    </tr>\n",
       "    <tr>\n",
       "      <th>9/20/20</th>\n",
       "      <td>236014.0</td>\n",
       "    </tr>\n",
       "    <tr>\n",
       "      <th>9/21/20</th>\n",
       "      <td>141778.0</td>\n",
       "    </tr>\n",
       "  </tbody>\n",
       "</table>\n",
       "<p>243 rows × 1 columns</p>\n",
       "</div>"
      ],
      "text/plain": [
       "          recover\n",
       "1/23/20       2.0\n",
       "1/24/20       6.0\n",
       "1/25/20       3.0\n",
       "1/26/20      13.0\n",
       "1/27/20       9.0\n",
       "...           ...\n",
       "9/17/20  219247.0\n",
       "9/18/20  251805.0\n",
       "9/19/20  237811.0\n",
       "9/20/20  236014.0\n",
       "9/21/20  141778.0\n",
       "\n",
       "[243 rows x 1 columns]"
      ]
     },
     "execution_count": 51,
     "metadata": {},
     "output_type": "execute_result"
    }
   ],
   "source": [
    "total_recovered2=total_recovered2.iloc[1:]\n",
    "total_recovered2"
   ]
  },
  {
   "cell_type": "code",
   "execution_count": 52,
   "id": "6a67d480",
   "metadata": {},
   "outputs": [
    {
     "data": {
      "image/png": "[encoded data removed]",
      "text/plain": [
       "<Figure size 432x288 with 1 Axes>"
      ]
     },
     "execution_count": 52,
     "metadata": {},
     "output_type": "execute_result"
    },
    {
     "data": {
      "image/png": "[encoded data removed]",
      "text/plain": [
       "<Figure size 432x288 with 1 Axes>"
      ]
     },
     "metadata": {
      "needs_background": "light"
     },
     "output_type": "display_data"
    }
   ],
   "source": [
    "plot_acf(total_recovered2)"
   ]
  },
  {
   "cell_type": "code",
   "execution_count": 53,
   "id": "128c58c3",
   "metadata": {},
   "outputs": [
    {
     "data": {
      "text/html": [
       "<div>\n",
       "<style scoped>\n",
       "    .dataframe tbody tr th:only-of-type {\n",
       "        vertical-align: middle;\n",
       "    }\n",
       "\n",
       "    .dataframe tbody tr th {\n",
       "        vertical-align: top;\n",
       "    }\n",
       "\n",
       "    .dataframe thead th {\n",
       "        text-align: right;\n",
       "    }\n",
       "</style>\n",
       "<table border=\"1\" class=\"dataframe\">\n",
       "  <thead>\n",
       "    <tr style=\"text-align: right;\">\n",
       "      <th></th>\n",
       "      <th>recover</th>\n",
       "    </tr>\n",
       "  </thead>\n",
       "  <tbody>\n",
       "    <tr>\n",
       "      <th>1/23/20</th>\n",
       "      <td>NaN</td>\n",
       "    </tr>\n",
       "    <tr>\n",
       "      <th>1/24/20</th>\n",
       "      <td>4.0</td>\n",
       "    </tr>\n",
       "    <tr>\n",
       "      <th>1/25/20</th>\n",
       "      <td>-3.0</td>\n",
       "    </tr>\n",
       "    <tr>\n",
       "      <th>1/26/20</th>\n",
       "      <td>10.0</td>\n",
       "    </tr>\n",
       "    <tr>\n",
       "      <th>1/27/20</th>\n",
       "      <td>-4.0</td>\n",
       "    </tr>\n",
       "    <tr>\n",
       "      <th>...</th>\n",
       "      <td>...</td>\n",
       "    </tr>\n",
       "    <tr>\n",
       "      <th>9/17/20</th>\n",
       "      <td>-9712.0</td>\n",
       "    </tr>\n",
       "    <tr>\n",
       "      <th>9/18/20</th>\n",
       "      <td>32558.0</td>\n",
       "    </tr>\n",
       "    <tr>\n",
       "      <th>9/19/20</th>\n",
       "      <td>-13994.0</td>\n",
       "    </tr>\n",
       "    <tr>\n",
       "      <th>9/20/20</th>\n",
       "      <td>-1797.0</td>\n",
       "    </tr>\n",
       "    <tr>\n",
       "      <th>9/21/20</th>\n",
       "      <td>-94236.0</td>\n",
       "    </tr>\n",
       "  </tbody>\n",
       "</table>\n",
       "<p>243 rows × 1 columns</p>\n",
       "</div>"
      ],
      "text/plain": [
       "         recover\n",
       "1/23/20      NaN\n",
       "1/24/20      4.0\n",
       "1/25/20     -3.0\n",
       "1/26/20     10.0\n",
       "1/27/20     -4.0\n",
       "...          ...\n",
       "9/17/20  -9712.0\n",
       "9/18/20  32558.0\n",
       "9/19/20 -13994.0\n",
       "9/20/20  -1797.0\n",
       "9/21/20 -94236.0\n",
       "\n",
       "[243 rows x 1 columns]"
      ]
     },
     "execution_count": 53,
     "metadata": {},
     "output_type": "execute_result"
    }
   ],
   "source": [
    "total_recovered3=total_recovered2.diff(periods=1)\n",
    "total_recovered3"
   ]
  },
  {
   "cell_type": "code",
   "execution_count": 54,
   "id": "7b7d5e49",
   "metadata": {},
   "outputs": [
    {
     "data": {
      "text/html": [
       "<div>\n",
       "<style scoped>\n",
       "    .dataframe tbody tr th:only-of-type {\n",
       "        vertical-align: middle;\n",
       "    }\n",
       "\n",
       "    .dataframe tbody tr th {\n",
       "        vertical-align: top;\n",
       "    }\n",
       "\n",
       "    .dataframe thead th {\n",
       "        text-align: right;\n",
       "    }\n",
       "</style>\n",
       "<table border=\"1\" class=\"dataframe\">\n",
       "  <thead>\n",
       "    <tr style=\"text-align: right;\">\n",
       "      <th></th>\n",
       "      <th>recover</th>\n",
       "    </tr>\n",
       "  </thead>\n",
       "  <tbody>\n",
       "    <tr>\n",
       "      <th>1/24/20</th>\n",
       "      <td>4.0</td>\n",
       "    </tr>\n",
       "    <tr>\n",
       "      <th>1/25/20</th>\n",
       "      <td>-3.0</td>\n",
       "    </tr>\n",
       "    <tr>\n",
       "      <th>1/26/20</th>\n",
       "      <td>10.0</td>\n",
       "    </tr>\n",
       "    <tr>\n",
       "      <th>1/27/20</th>\n",
       "      <td>-4.0</td>\n",
       "    </tr>\n",
       "    <tr>\n",
       "      <th>1/28/20</th>\n",
       "      <td>37.0</td>\n",
       "    </tr>\n",
       "    <tr>\n",
       "      <th>...</th>\n",
       "      <td>...</td>\n",
       "    </tr>\n",
       "    <tr>\n",
       "      <th>9/17/20</th>\n",
       "      <td>-9712.0</td>\n",
       "    </tr>\n",
       "    <tr>\n",
       "      <th>9/18/20</th>\n",
       "      <td>32558.0</td>\n",
       "    </tr>\n",
       "    <tr>\n",
       "      <th>9/19/20</th>\n",
       "      <td>-13994.0</td>\n",
       "    </tr>\n",
       "    <tr>\n",
       "      <th>9/20/20</th>\n",
       "      <td>-1797.0</td>\n",
       "    </tr>\n",
       "    <tr>\n",
       "      <th>9/21/20</th>\n",
       "      <td>-94236.0</td>\n",
       "    </tr>\n",
       "  </tbody>\n",
       "</table>\n",
       "<p>242 rows × 1 columns</p>\n",
       "</div>"
      ],
      "text/plain": [
       "         recover\n",
       "1/24/20      4.0\n",
       "1/25/20     -3.0\n",
       "1/26/20     10.0\n",
       "1/27/20     -4.0\n",
       "1/28/20     37.0\n",
       "...          ...\n",
       "9/17/20  -9712.0\n",
       "9/18/20  32558.0\n",
       "9/19/20 -13994.0\n",
       "9/20/20  -1797.0\n",
       "9/21/20 -94236.0\n",
       "\n",
       "[242 rows x 1 columns]"
      ]
     },
     "execution_count": 54,
     "metadata": {},
     "output_type": "execute_result"
    }
   ],
   "source": [
    "total_recovered3=total_recovered3.iloc[1:]\n",
    "total_recovered3"
   ]
  },
  {
   "cell_type": "code",
   "execution_count": 55,
   "id": "02cf6d58",
   "metadata": {},
   "outputs": [
    {
     "data": {
      "image/png": "[encoded data removed]",
      "text/plain": [
       "<Figure size 432x288 with 1 Axes>"
      ]
     },
     "execution_count": 55,
     "metadata": {},
     "output_type": "execute_result"
    },
    {
     "data": {
      "image/png": "[encoded data removed]",
      "text/plain": [
       "<Figure size 432x288 with 1 Axes>"
      ]
     },
     "metadata": {
      "needs_background": "light"
     },
     "output_type": "display_data"
    }
   ],
   "source": [
    "plot_acf(total_recovered3)"
   ]
  },
  {
   "cell_type": "code",
   "execution_count": 56,
   "id": "b66940b6",
   "metadata": {},
   "outputs": [
    {
     "data": {
      "text/plain": [
       "(242, 1)"
      ]
     },
     "execution_count": 56,
     "metadata": {},
     "output_type": "execute_result"
    }
   ],
   "source": [
    "total_recovered3.shape"
   ]
  },
  {
   "cell_type": "markdown",
   "id": "8c361e7f",
   "metadata": {},
   "source": [
    "### MODEL CREATION"
   ]
  },
  {
   "cell_type": "code",
   "execution_count": 57,
   "id": "8ca5dbe8",
   "metadata": {},
   "outputs": [],
   "source": [
    "## Creating training and test sets\n",
    "train=total_confirm3[:180]#from 0th rows to 100th rows traning data\n",
    "test=total_confirm3[180:]#from 100th rows to end testing data"
   ]
  },
  {
   "cell_type": "code",
   "execution_count": 58,
   "id": "454e355b",
   "metadata": {},
   "outputs": [],
   "source": [
    "## importing the library\n",
    "from statsmodels.tsa.arima_model import ARIMA"
   ]
  },
  {
   "cell_type": "code",
   "execution_count": 59,
   "id": "4a008721",
   "metadata": {},
   "outputs": [
    {
     "data": {
      "text/plain": [
       "[(0, 0, 0),\n",
       " (0, 0, 1),\n",
       " (0, 0, 2),\n",
       " (0, 0, 3),\n",
       " (0, 0, 4),\n",
       " (0, 1, 0),\n",
       " (0, 1, 1),\n",
       " (0, 1, 2),\n",
       " (0, 1, 3),\n",
       " (0, 1, 4),\n",
       " (0, 2, 0),\n",
       " (0, 2, 1),\n",
       " (0, 2, 2),\n",
       " (0, 2, 3),\n",
       " (0, 2, 4),\n",
       " (0, 3, 0),\n",
       " (0, 3, 1),\n",
       " (0, 3, 2),\n",
       " (0, 3, 3),\n",
       " (0, 3, 4),\n",
       " (0, 4, 0),\n",
       " (0, 4, 1),\n",
       " (0, 4, 2),\n",
       " (0, 4, 3),\n",
       " (0, 4, 4),\n",
       " (1, 0, 0),\n",
       " (1, 0, 1),\n",
       " (1, 0, 2),\n",
       " (1, 0, 3),\n",
       " (1, 0, 4),\n",
       " (1, 1, 0),\n",
       " (1, 1, 1),\n",
       " (1, 1, 2),\n",
       " (1, 1, 3),\n",
       " (1, 1, 4),\n",
       " (1, 2, 0),\n",
       " (1, 2, 1),\n",
       " (1, 2, 2),\n",
       " (1, 2, 3),\n",
       " (1, 2, 4),\n",
       " (1, 3, 0),\n",
       " (1, 3, 1),\n",
       " (1, 3, 2),\n",
       " (1, 3, 3),\n",
       " (1, 3, 4),\n",
       " (1, 4, 0),\n",
       " (1, 4, 1),\n",
       " (1, 4, 2),\n",
       " (1, 4, 3),\n",
       " (1, 4, 4),\n",
       " (2, 0, 0),\n",
       " (2, 0, 1),\n",
       " (2, 0, 2),\n",
       " (2, 0, 3),\n",
       " (2, 0, 4),\n",
       " (2, 1, 0),\n",
       " (2, 1, 1),\n",
       " (2, 1, 2),\n",
       " (2, 1, 3),\n",
       " (2, 1, 4),\n",
       " (2, 2, 0),\n",
       " (2, 2, 1),\n",
       " (2, 2, 2),\n",
       " (2, 2, 3),\n",
       " (2, 2, 4),\n",
       " (2, 3, 0),\n",
       " (2, 3, 1),\n",
       " (2, 3, 2),\n",
       " (2, 3, 3),\n",
       " (2, 3, 4),\n",
       " (2, 4, 0),\n",
       " (2, 4, 1),\n",
       " (2, 4, 2),\n",
       " (2, 4, 3),\n",
       " (2, 4, 4),\n",
       " (3, 0, 0),\n",
       " (3, 0, 1),\n",
       " (3, 0, 2),\n",
       " (3, 0, 3),\n",
       " (3, 0, 4),\n",
       " (3, 1, 0),\n",
       " (3, 1, 1),\n",
       " (3, 1, 2),\n",
       " (3, 1, 3),\n",
       " (3, 1, 4),\n",
       " (3, 2, 0),\n",
       " (3, 2, 1),\n",
       " (3, 2, 2),\n",
       " (3, 2, 3),\n",
       " (3, 2, 4),\n",
       " (3, 3, 0),\n",
       " (3, 3, 1),\n",
       " (3, 3, 2),\n",
       " (3, 3, 3),\n",
       " (3, 3, 4),\n",
       " (3, 4, 0),\n",
       " (3, 4, 1),\n",
       " (3, 4, 2),\n",
       " (3, 4, 3),\n",
       " (3, 4, 4),\n",
       " (4, 0, 0),\n",
       " (4, 0, 1),\n",
       " (4, 0, 2),\n",
       " (4, 0, 3),\n",
       " (4, 0, 4),\n",
       " (4, 1, 0),\n",
       " (4, 1, 1),\n",
       " (4, 1, 2),\n",
       " (4, 1, 3),\n",
       " (4, 1, 4),\n",
       " (4, 2, 0),\n",
       " (4, 2, 1),\n",
       " (4, 2, 2),\n",
       " (4, 2, 3),\n",
       " (4, 2, 4),\n",
       " (4, 3, 0),\n",
       " (4, 3, 1),\n",
       " (4, 3, 2),\n",
       " (4, 3, 3),\n",
       " (4, 3, 4),\n",
       " (4, 4, 0),\n",
       " (4, 4, 1),\n",
       " (4, 4, 2),\n",
       " (4, 4, 3),\n",
       " (4, 4, 4)]"
      ]
     },
     "execution_count": 59,
     "metadata": {},
     "output_type": "execute_result"
    }
   ],
   "source": [
    "## Geeting the optimal values of p,q an d\n",
    "import itertools\n",
    "\n",
    "p =d= q=range(0,5)#values of p,d,q range from 0 to 4\n",
    "\n",
    "pdq = list(itertools.product(p,d,q))# is used to find the cartesian product from the given iterator,\n",
    "# output is lexicographic ordered.\n",
    "pdq#number of combinaton of pdq"
   ]
  },
  {
   "cell_type": "code",
   "execution_count": 60,
   "id": "08e2d687",
   "metadata": {},
   "outputs": [
    {
     "name": "stderr",
     "output_type": "stream",
     "text": [
      "C:\\Users\\Nikita Singh\\anaconda3\\envs\\tensorflow\\lib\\site-packages\\statsmodels\\tsa\\arima_model.py:472: FutureWarning: \n",
      "statsmodels.tsa.arima_model.ARMA and statsmodels.tsa.arima_model.ARIMA have\n",
      "been deprecated in favor of statsmodels.tsa.arima.model.ARIMA (note the .\n",
      "between arima and model) and\n",
      "statsmodels.tsa.SARIMAX. These will be removed after the 0.12 release.\n",
      "\n",
      "statsmodels.tsa.arima.model.ARIMA makes use of the statespace framework and\n",
      "is both well tested and maintained.\n",
      "\n",
      "To silence this warning and continue using ARMA and ARIMA until they are\n",
      "removed, use:\n",
      "\n",
      "import warnings\n",
      "warnings.filterwarnings('ignore', 'statsmodels.tsa.arima_model.ARMA',\n",
      "                        FutureWarning)\n",
      "warnings.filterwarnings('ignore', 'statsmodels.tsa.arima_model.ARIMA',\n",
      "                        FutureWarning)\n",
      "\n",
      "  warnings.warn(ARIMA_DEPRECATION_WARN, FutureWarning)\n",
      "C:\\Users\\Nikita Singh\\anaconda3\\envs\\tensorflow\\lib\\site-packages\\statsmodels\\tsa\\base\\tsa_model.py:524: ValueWarning: No frequency information was provided, so inferred frequency D will be used.\n",
      "  warnings.warn('No frequency information was'\n"
     ]
    },
    {
     "name": "stdout",
     "output_type": "stream",
     "text": [
      "(0, 0, 0) 3870.6312021460913\n"
     ]
    },
    {
     "name": "stderr",
     "output_type": "stream",
     "text": [
      "C:\\Users\\Nikita Singh\\anaconda3\\envs\\tensorflow\\lib\\site-packages\\statsmodels\\tsa\\base\\tsa_model.py:524: ValueWarning: No frequency information was provided, so inferred frequency D will be used.\n",
      "  warnings.warn('No frequency information was'\n"
     ]
    },
    {
     "name": "stdout",
     "output_type": "stream",
     "text": [
      "(0, 0, 1) 3872.5095479802058\n",
      "(0, 0, 2) 3845.1973569494726\n"
     ]
    },
    {
     "name": "stderr",
     "output_type": "stream",
     "text": [
      "C:\\Users\\Nikita Singh\\anaconda3\\envs\\tensorflow\\lib\\site-packages\\statsmodels\\tsa\\base\\tsa_model.py:524: ValueWarning: No frequency information was provided, so inferred frequency D will be used.\n",
      "  warnings.warn('No frequency information was'\n",
      "C:\\Users\\Nikita Singh\\anaconda3\\envs\\tensorflow\\lib\\site-packages\\statsmodels\\tsa\\base\\tsa_model.py:524: ValueWarning: No frequency information was provided, so inferred frequency D will be used.\n",
      "  warnings.warn('No frequency information was'\n"
     ]
    },
    {
     "name": "stdout",
     "output_type": "stream",
     "text": [
      "(0, 0, 3) 3844.3856372877444\n"
     ]
    },
    {
     "name": "stderr",
     "output_type": "stream",
     "text": [
      "C:\\Users\\Nikita Singh\\anaconda3\\envs\\tensorflow\\lib\\site-packages\\statsmodels\\tsa\\base\\tsa_model.py:524: ValueWarning: No frequency information was provided, so inferred frequency D will be used.\n",
      "  warnings.warn('No frequency information was'\n"
     ]
    },
    {
     "name": "stdout",
     "output_type": "stream",
     "text": [
      "(0, 0, 4) 3826.7542229000383\n",
      "(0, 1, 0) 3974.668829037126\n"
     ]
    },
    {
     "name": "stderr",
     "output_type": "stream",
     "text": [
      "C:\\Users\\Nikita Singh\\anaconda3\\envs\\tensorflow\\lib\\site-packages\\statsmodels\\tsa\\base\\tsa_model.py:524: ValueWarning: No frequency information was provided, so inferred frequency D will be used.\n",
      "  warnings.warn('No frequency information was'\n",
      "C:\\Users\\Nikita Singh\\anaconda3\\envs\\tensorflow\\lib\\site-packages\\statsmodels\\tsa\\base\\tsa_model.py:524: ValueWarning: No frequency information was provided, so inferred frequency D will be used.\n",
      "  warnings.warn('No frequency information was'\n",
      "C:\\Users\\Nikita Singh\\anaconda3\\envs\\tensorflow\\lib\\site-packages\\statsmodels\\tsa\\base\\tsa_model.py:524: ValueWarning: No frequency information was provided, so inferred frequency D will be used.\n",
      "  warnings.warn('No frequency information was'\n"
     ]
    },
    {
     "name": "stdout",
     "output_type": "stream",
     "text": [
      "(0, 1, 1) 3856.705898387954\n"
     ]
    },
    {
     "name": "stderr",
     "output_type": "stream",
     "text": [
      "C:\\Users\\Nikita Singh\\anaconda3\\envs\\tensorflow\\lib\\site-packages\\statsmodels\\tsa\\base\\tsa_model.py:524: ValueWarning: No frequency information was provided, so inferred frequency D will be used.\n",
      "  warnings.warn('No frequency information was'\n",
      "C:\\Users\\Nikita Singh\\anaconda3\\envs\\tensorflow\\lib\\site-packages\\statsmodels\\tsa\\base\\tsa_model.py:524: ValueWarning: No frequency information was provided, so inferred frequency D will be used.\n",
      "  warnings.warn('No frequency information was'\n",
      "C:\\Users\\Nikita Singh\\anaconda3\\envs\\tensorflow\\lib\\site-packages\\statsmodels\\tsa\\base\\tsa_model.py:524: ValueWarning: No frequency information was provided, so inferred frequency D will be used.\n",
      "  warnings.warn('No frequency information was'\n"
     ]
    },
    {
     "name": "stdout",
     "output_type": "stream",
     "text": [
      "(0, 1, 2) 3858.6256961456215\n"
     ]
    },
    {
     "name": "stderr",
     "output_type": "stream",
     "text": [
      "C:\\Users\\Nikita Singh\\anaconda3\\envs\\tensorflow\\lib\\site-packages\\statsmodels\\tsa\\base\\tsa_model.py:524: ValueWarning: No frequency information was provided, so inferred frequency D will be used.\n",
      "  warnings.warn('No frequency information was'\n",
      "C:\\Users\\Nikita Singh\\anaconda3\\envs\\tensorflow\\lib\\site-packages\\statsmodels\\tsa\\base\\tsa_model.py:524: ValueWarning: No frequency information was provided, so inferred frequency D will be used.\n",
      "  warnings.warn('No frequency information was'\n"
     ]
    },
    {
     "name": "stdout",
     "output_type": "stream",
     "text": [
      "(0, 1, 3) 3823.4946670434074\n"
     ]
    },
    {
     "name": "stderr",
     "output_type": "stream",
     "text": [
      "C:\\Users\\Nikita Singh\\anaconda3\\envs\\tensorflow\\lib\\site-packages\\statsmodels\\tsa\\base\\tsa_model.py:524: ValueWarning: No frequency information was provided, so inferred frequency D will be used.\n",
      "  warnings.warn('No frequency information was'\n",
      "C:\\Users\\Nikita Singh\\anaconda3\\envs\\tensorflow\\lib\\site-packages\\statsmodels\\tsa\\base\\tsa_model.py:524: ValueWarning: No frequency information was provided, so inferred frequency D will be used.\n",
      "  warnings.warn('No frequency information was'\n"
     ]
    },
    {
     "name": "stdout",
     "output_type": "stream",
     "text": [
      "(0, 1, 4) 3821.198309525669\n",
      "(0, 2, 0) 4131.783647163826\n"
     ]
    },
    {
     "name": "stderr",
     "output_type": "stream",
     "text": [
      "C:\\Users\\Nikita Singh\\anaconda3\\envs\\tensorflow\\lib\\site-packages\\statsmodels\\tsa\\base\\tsa_model.py:524: ValueWarning: No frequency information was provided, so inferred frequency D will be used.\n",
      "  warnings.warn('No frequency information was'\n",
      "C:\\Users\\Nikita Singh\\anaconda3\\envs\\tensorflow\\lib\\site-packages\\statsmodels\\tsa\\base\\tsa_model.py:524: ValueWarning: No frequency information was provided, so inferred frequency D will be used.\n",
      "  warnings.warn('No frequency information was'\n",
      "C:\\Users\\Nikita Singh\\anaconda3\\envs\\tensorflow\\lib\\site-packages\\statsmodels\\tsa\\base\\tsa_model.py:524: ValueWarning: No frequency information was provided, so inferred frequency D will be used.\n",
      "  warnings.warn('No frequency information was'\n",
      "C:\\Users\\Nikita Singh\\anaconda3\\envs\\tensorflow\\lib\\site-packages\\statsmodels\\tsa\\base\\tsa_model.py:524: ValueWarning: No frequency information was provided, so inferred frequency D will be used.\n",
      "  warnings.warn('No frequency information was'\n"
     ]
    },
    {
     "name": "stdout",
     "output_type": "stream",
     "text": [
      "(0, 2, 1) 3960.6284838705483\n"
     ]
    },
    {
     "name": "stderr",
     "output_type": "stream",
     "text": [
      "C:\\Users\\Nikita Singh\\anaconda3\\envs\\tensorflow\\lib\\site-packages\\statsmodels\\tsa\\base\\tsa_model.py:524: ValueWarning: No frequency information was provided, so inferred frequency D will be used.\n",
      "  warnings.warn('No frequency information was'\n",
      "C:\\Users\\Nikita Singh\\anaconda3\\envs\\tensorflow\\lib\\site-packages\\statsmodels\\tsa\\base\\tsa_model.py:524: ValueWarning: No frequency information was provided, so inferred frequency D will be used.\n",
      "  warnings.warn('No frequency information was'\n",
      "C:\\Users\\Nikita Singh\\anaconda3\\envs\\tensorflow\\lib\\site-packages\\statsmodels\\tsa\\tsatools.py:726: RuntimeWarning: invalid value encountered in double_scalars\n",
      "  tmp[kiter] = (macoefs[kiter]-b *macoefs[j-kiter-1])/(1-b**2)\n",
      "C:\\Users\\Nikita Singh\\anaconda3\\envs\\tensorflow\\lib\\site-packages\\statsmodels\\tsa\\tsatools.py:728: RuntimeWarning: divide by zero encountered in log\n",
      "  invmacoefs = -np.log((1-macoefs)/(1+macoefs))\n",
      "C:\\Users\\Nikita Singh\\anaconda3\\envs\\tensorflow\\lib\\site-packages\\scipy\\optimize\\_numdiff.py:470: RuntimeWarning: invalid value encountered in subtract\n",
      "  dx = ((x0 + h) - x0)\n",
      "C:\\Users\\Nikita Singh\\anaconda3\\envs\\tensorflow\\lib\\site-packages\\scipy\\optimize\\_numdiff.py:556: RuntimeWarning: invalid value encountered in double_scalars\n",
      "  dx = x[i] - x0[i]  # Recompute dx as exactly representable number.\n",
      "C:\\Users\\Nikita Singh\\anaconda3\\envs\\tensorflow\\lib\\site-packages\\statsmodels\\tsa\\tsatools.py:701: RuntimeWarning: invalid value encountered in true_divide\n",
      "  newparams = ((1-np.exp(-params))/(1+np.exp(-params))).copy()\n",
      "C:\\Users\\Nikita Singh\\anaconda3\\envs\\tensorflow\\lib\\site-packages\\statsmodels\\tsa\\tsatools.py:702: RuntimeWarning: invalid value encountered in true_divide\n",
      "  tmp = ((1-np.exp(-params))/(1+np.exp(-params))).copy()\n",
      "C:\\Users\\Nikita Singh\\anaconda3\\envs\\tensorflow\\lib\\site-packages\\statsmodels\\tsa\\kalmanf\\kalmanfilter.py:222: RuntimeWarning: invalid value encountered in log\n",
      "  loglike, sigma2 = kalman_loglike.kalman_loglike_complex(\n",
      "C:\\Users\\Nikita Singh\\anaconda3\\envs\\tensorflow\\lib\\site-packages\\statsmodels\\tsa\\kalmanf\\kalmanfilter.py:222: RuntimeWarning: invalid value encountered in true_divide\n",
      "  loglike, sigma2 = kalman_loglike.kalman_loglike_complex(\n",
      "C:\\Users\\Nikita Singh\\anaconda3\\envs\\tensorflow\\lib\\site-packages\\statsmodels\\tools\\numdiff.py:242: RuntimeWarning: invalid value encountered in subtract\n",
      "  - f(*((x + 1j*ee[i, :] - ee[j, :],)+args),\n",
      "C:\\Users\\Nikita Singh\\anaconda3\\envs\\tensorflow\\lib\\site-packages\\statsmodels\\tools\\numdiff.py:241: RuntimeWarning: invalid value encountered in multiply\n",
      "  hess[i, j] = (f(*((x + 1j*ee[i, :] + ee[j, :],) + args), **kwargs)\n",
      "C:\\Users\\Nikita Singh\\anaconda3\\envs\\tensorflow\\lib\\site-packages\\statsmodels\\tools\\numdiff.py:242: RuntimeWarning: invalid value encountered in multiply\n",
      "  - f(*((x + 1j*ee[i, :] - ee[j, :],)+args),\n",
      "C:\\Users\\Nikita Singh\\anaconda3\\envs\\tensorflow\\lib\\site-packages\\statsmodels\\base\\model.py:547: HessianInversionWarning: Inverting hessian failed, no bse or cov_params available\n",
      "  warnings.warn('Inverting hessian failed, no bse or cov_params '\n",
      "C:\\Users\\Nikita Singh\\anaconda3\\envs\\tensorflow\\lib\\site-packages\\statsmodels\\base\\model.py:566: ConvergenceWarning: Maximum Likelihood optimization failed to converge. Check mle_retvals\n",
      "  warnings.warn(\"Maximum Likelihood optimization failed to \"\n",
      "C:\\Users\\Nikita Singh\\anaconda3\\envs\\tensorflow\\lib\\site-packages\\statsmodels\\tsa\\base\\tsa_model.py:524: ValueWarning: No frequency information was provided, so inferred frequency D will be used.\n",
      "  warnings.warn('No frequency information was'\n",
      "C:\\Users\\Nikita Singh\\anaconda3\\envs\\tensorflow\\lib\\site-packages\\statsmodels\\tsa\\base\\tsa_model.py:524: ValueWarning: No frequency information was provided, so inferred frequency D will be used.\n",
      "  warnings.warn('No frequency information was'\n"
     ]
    },
    {
     "name": "stdout",
     "output_type": "stream",
     "text": [
      "(0, 2, 2) nan\n"
     ]
    },
    {
     "name": "stderr",
     "output_type": "stream",
     "text": [
      "C:\\Users\\Nikita Singh\\anaconda3\\envs\\tensorflow\\lib\\site-packages\\statsmodels\\base\\model.py:547: HessianInversionWarning: Inverting hessian failed, no bse or cov_params available\n",
      "  warnings.warn('Inverting hessian failed, no bse or cov_params '\n",
      "C:\\Users\\Nikita Singh\\anaconda3\\envs\\tensorflow\\lib\\site-packages\\statsmodels\\tsa\\base\\tsa_model.py:524: ValueWarning: No frequency information was provided, so inferred frequency D will be used.\n",
      "  warnings.warn('No frequency information was'\n",
      "C:\\Users\\Nikita Singh\\anaconda3\\envs\\tensorflow\\lib\\site-packages\\statsmodels\\tsa\\base\\tsa_model.py:524: ValueWarning: No frequency information was provided, so inferred frequency D will be used.\n",
      "  warnings.warn('No frequency information was'\n"
     ]
    },
    {
     "name": "stdout",
     "output_type": "stream",
     "text": [
      "(0, 2, 3) 3857.5201671338914\n"
     ]
    },
    {
     "name": "stderr",
     "output_type": "stream",
     "text": [
      "C:\\Users\\Nikita Singh\\anaconda3\\envs\\tensorflow\\lib\\site-packages\\statsmodels\\base\\model.py:547: HessianInversionWarning: Inverting hessian failed, no bse or cov_params available\n",
      "  warnings.warn('Inverting hessian failed, no bse or cov_params '\n",
      "C:\\Users\\Nikita Singh\\anaconda3\\envs\\tensorflow\\lib\\site-packages\\statsmodels\\tsa\\base\\tsa_model.py:524: ValueWarning: No frequency information was provided, so inferred frequency D will be used.\n",
      "  warnings.warn('No frequency information was'\n",
      "C:\\Users\\Nikita Singh\\anaconda3\\envs\\tensorflow\\lib\\site-packages\\statsmodels\\tsa\\base\\tsa_model.py:524: ValueWarning: No frequency information was provided, so inferred frequency D will be used.\n",
      "  warnings.warn('No frequency information was'\n"
     ]
    },
    {
     "name": "stdout",
     "output_type": "stream",
     "text": [
      "(0, 2, 4) 3822.0082166386\n",
      "(1, 0, 0) 3872.571393393678\n"
     ]
    },
    {
     "name": "stderr",
     "output_type": "stream",
     "text": [
      "C:\\Users\\Nikita Singh\\anaconda3\\envs\\tensorflow\\lib\\site-packages\\statsmodels\\tsa\\base\\tsa_model.py:524: ValueWarning: No frequency information was provided, so inferred frequency D will be used.\n",
      "  warnings.warn('No frequency information was'\n",
      "C:\\Users\\Nikita Singh\\anaconda3\\envs\\tensorflow\\lib\\site-packages\\statsmodels\\tsa\\base\\tsa_model.py:524: ValueWarning: No frequency information was provided, so inferred frequency D will be used.\n",
      "  warnings.warn('No frequency information was'\n"
     ]
    },
    {
     "name": "stdout",
     "output_type": "stream",
     "text": [
      "(1, 0, 3) 3826.091405785845\n"
     ]
    },
    {
     "name": "stderr",
     "output_type": "stream",
     "text": [
      "C:\\Users\\Nikita Singh\\anaconda3\\envs\\tensorflow\\lib\\site-packages\\statsmodels\\tsa\\base\\tsa_model.py:524: ValueWarning: No frequency information was provided, so inferred frequency D will be used.\n",
      "  warnings.warn('No frequency information was'\n"
     ]
    },
    {
     "name": "stdout",
     "output_type": "stream",
     "text": [
      "(1, 0, 4) 3812.98458461604\n"
     ]
    },
    {
     "name": "stderr",
     "output_type": "stream",
     "text": [
      "C:\\Users\\Nikita Singh\\anaconda3\\envs\\tensorflow\\lib\\site-packages\\statsmodels\\tsa\\base\\tsa_model.py:524: ValueWarning: No frequency information was provided, so inferred frequency D will be used.\n",
      "  warnings.warn('No frequency information was'\n",
      "C:\\Users\\Nikita Singh\\anaconda3\\envs\\tensorflow\\lib\\site-packages\\statsmodels\\tsa\\base\\tsa_model.py:524: ValueWarning: No frequency information was provided, so inferred frequency D will be used.\n",
      "  warnings.warn('No frequency information was'\n"
     ]
    },
    {
     "name": "stdout",
     "output_type": "stream",
     "text": [
      "(1, 1, 0) 3948.676306263279\n"
     ]
    },
    {
     "name": "stderr",
     "output_type": "stream",
     "text": [
      "C:\\Users\\Nikita Singh\\anaconda3\\envs\\tensorflow\\lib\\site-packages\\statsmodels\\tsa\\base\\tsa_model.py:524: ValueWarning: No frequency information was provided, so inferred frequency D will be used.\n",
      "  warnings.warn('No frequency information was'\n",
      "C:\\Users\\Nikita Singh\\anaconda3\\envs\\tensorflow\\lib\\site-packages\\statsmodels\\tsa\\base\\tsa_model.py:524: ValueWarning: No frequency information was provided, so inferred frequency D will be used.\n",
      "  warnings.warn('No frequency information was'\n",
      "C:\\Users\\Nikita Singh\\anaconda3\\envs\\tensorflow\\lib\\site-packages\\statsmodels\\tsa\\base\\tsa_model.py:524: ValueWarning: No frequency information was provided, so inferred frequency D will be used.\n",
      "  warnings.warn('No frequency information was'\n",
      "C:\\Users\\Nikita Singh\\anaconda3\\envs\\tensorflow\\lib\\site-packages\\statsmodels\\tsa\\base\\tsa_model.py:524: ValueWarning: No frequency information was provided, so inferred frequency D will be used.\n",
      "  warnings.warn('No frequency information was'\n",
      "C:\\Users\\Nikita Singh\\anaconda3\\envs\\tensorflow\\lib\\site-packages\\statsmodels\\tsa\\base\\tsa_model.py:524: ValueWarning: No frequency information was provided, so inferred frequency D will be used.\n",
      "  warnings.warn('No frequency information was'\n",
      "C:\\Users\\Nikita Singh\\anaconda3\\envs\\tensorflow\\lib\\site-packages\\statsmodels\\tsa\\base\\tsa_model.py:524: ValueWarning: No frequency information was provided, so inferred frequency D will be used.\n",
      "  warnings.warn('No frequency information was'\n"
     ]
    },
    {
     "name": "stdout",
     "output_type": "stream",
     "text": [
      "(1, 1, 3) 3823.1032083710384\n"
     ]
    },
    {
     "name": "stderr",
     "output_type": "stream",
     "text": [
      "C:\\Users\\Nikita Singh\\anaconda3\\envs\\tensorflow\\lib\\site-packages\\statsmodels\\tsa\\base\\tsa_model.py:524: ValueWarning: No frequency information was provided, so inferred frequency D will be used.\n",
      "  warnings.warn('No frequency information was'\n",
      "C:\\Users\\Nikita Singh\\anaconda3\\envs\\tensorflow\\lib\\site-packages\\statsmodels\\tsa\\base\\tsa_model.py:524: ValueWarning: No frequency information was provided, so inferred frequency D will be used.\n",
      "  warnings.warn('No frequency information was'\n"
     ]
    },
    {
     "name": "stdout",
     "output_type": "stream",
     "text": [
      "(1, 1, 4) 3822.797583988472\n",
      "(1, 2, 0) 4056.8251327830017\n"
     ]
    },
    {
     "name": "stderr",
     "output_type": "stream",
     "text": [
      "C:\\Users\\Nikita Singh\\anaconda3\\envs\\tensorflow\\lib\\site-packages\\statsmodels\\tsa\\base\\tsa_model.py:524: ValueWarning: No frequency information was provided, so inferred frequency D will be used.\n",
      "  warnings.warn('No frequency information was'\n",
      "C:\\Users\\Nikita Singh\\anaconda3\\envs\\tensorflow\\lib\\site-packages\\statsmodels\\tsa\\base\\tsa_model.py:524: ValueWarning: No frequency information was provided, so inferred frequency D will be used.\n",
      "  warnings.warn('No frequency information was'\n",
      "C:\\Users\\Nikita Singh\\anaconda3\\envs\\tensorflow\\lib\\site-packages\\statsmodels\\tsa\\base\\tsa_model.py:524: ValueWarning: No frequency information was provided, so inferred frequency D will be used.\n",
      "  warnings.warn('No frequency information was'\n",
      "C:\\Users\\Nikita Singh\\anaconda3\\envs\\tensorflow\\lib\\site-packages\\statsmodels\\tsa\\base\\tsa_model.py:524: ValueWarning: No frequency information was provided, so inferred frequency D will be used.\n",
      "  warnings.warn('No frequency information was'\n",
      "C:\\Users\\Nikita Singh\\anaconda3\\envs\\tensorflow\\lib\\site-packages\\statsmodels\\tsa\\base\\tsa_model.py:524: ValueWarning: No frequency information was provided, so inferred frequency D will be used.\n",
      "  warnings.warn('No frequency information was'\n",
      "C:\\Users\\Nikita Singh\\anaconda3\\envs\\tensorflow\\lib\\site-packages\\statsmodels\\tsa\\base\\tsa_model.py:524: ValueWarning: No frequency information was provided, so inferred frequency D will be used.\n",
      "  warnings.warn('No frequency information was'\n",
      "C:\\Users\\Nikita Singh\\anaconda3\\envs\\tensorflow\\lib\\site-packages\\statsmodels\\tsa\\base\\tsa_model.py:524: ValueWarning: No frequency information was provided, so inferred frequency D will be used.\n",
      "  warnings.warn('No frequency information was'\n",
      "C:\\Users\\Nikita Singh\\anaconda3\\envs\\tensorflow\\lib\\site-packages\\statsmodels\\tsa\\base\\tsa_model.py:524: ValueWarning: No frequency information was provided, so inferred frequency D will be used.\n",
      "  warnings.warn('No frequency information was'\n",
      "C:\\Users\\Nikita Singh\\anaconda3\\envs\\tensorflow\\lib\\site-packages\\statsmodels\\tsa\\base\\tsa_model.py:524: ValueWarning: No frequency information was provided, so inferred frequency D will be used.\n",
      "  warnings.warn('No frequency information was'\n",
      "C:\\Users\\Nikita Singh\\anaconda3\\envs\\tensorflow\\lib\\site-packages\\statsmodels\\tsa\\base\\tsa_model.py:524: ValueWarning: No frequency information was provided, so inferred frequency D will be used.\n",
      "  warnings.warn('No frequency information was'\n",
      "C:\\Users\\Nikita Singh\\anaconda3\\envs\\tensorflow\\lib\\site-packages\\statsmodels\\tsa\\base\\tsa_model.py:524: ValueWarning: No frequency information was provided, so inferred frequency D will be used.\n",
      "  warnings.warn('No frequency information was'\n",
      "C:\\Users\\Nikita Singh\\anaconda3\\envs\\tensorflow\\lib\\site-packages\\statsmodels\\tsa\\base\\tsa_model.py:524: ValueWarning: No frequency information was provided, so inferred frequency D will be used.\n",
      "  warnings.warn('No frequency information was'\n"
     ]
    },
    {
     "name": "stdout",
     "output_type": "stream",
     "text": [
      "(2, 0, 0) 3863.6136675390594\n"
     ]
    },
    {
     "name": "stderr",
     "output_type": "stream",
     "text": [
      "C:\\Users\\Nikita Singh\\anaconda3\\envs\\tensorflow\\lib\\site-packages\\statsmodels\\tsa\\base\\tsa_model.py:524: ValueWarning: No frequency information was provided, so inferred frequency D will be used.\n",
      "  warnings.warn('No frequency information was'\n"
     ]
    },
    {
     "name": "stdout",
     "output_type": "stream",
     "text": [
      "(2, 0, 2) 3777.5161079390505\n"
     ]
    },
    {
     "name": "stderr",
     "output_type": "stream",
     "text": [
      "C:\\Users\\Nikita Singh\\anaconda3\\envs\\tensorflow\\lib\\site-packages\\statsmodels\\tsa\\base\\tsa_model.py:524: ValueWarning: No frequency information was provided, so inferred frequency D will be used.\n",
      "  warnings.warn('No frequency information was'\n"
     ]
    },
    {
     "name": "stdout",
     "output_type": "stream",
     "text": [
      "(2, 0, 3) 3770.1475735892777\n"
     ]
    },
    {
     "name": "stderr",
     "output_type": "stream",
     "text": [
      "C:\\Users\\Nikita Singh\\anaconda3\\envs\\tensorflow\\lib\\site-packages\\statsmodels\\tsa\\base\\tsa_model.py:524: ValueWarning: No frequency information was provided, so inferred frequency D will be used.\n",
      "  warnings.warn('No frequency information was'\n",
      "C:\\Users\\Nikita Singh\\anaconda3\\envs\\tensorflow\\lib\\site-packages\\statsmodels\\tsa\\tsatools.py:701: RuntimeWarning: overflow encountered in exp\n",
      "  newparams = ((1-np.exp(-params))/(1+np.exp(-params))).copy()\n",
      "C:\\Users\\Nikita Singh\\anaconda3\\envs\\tensorflow\\lib\\site-packages\\statsmodels\\tsa\\tsatools.py:702: RuntimeWarning: overflow encountered in exp\n",
      "  tmp = ((1-np.exp(-params))/(1+np.exp(-params))).copy()\n",
      "C:\\Users\\Nikita Singh\\anaconda3\\envs\\tensorflow\\lib\\site-packages\\statsmodels\\base\\model.py:547: HessianInversionWarning: Inverting hessian failed, no bse or cov_params available\n",
      "  warnings.warn('Inverting hessian failed, no bse or cov_params '\n",
      "C:\\Users\\Nikita Singh\\anaconda3\\envs\\tensorflow\\lib\\site-packages\\statsmodels\\base\\model.py:566: ConvergenceWarning: Maximum Likelihood optimization failed to converge. Check mle_retvals\n",
      "  warnings.warn(\"Maximum Likelihood optimization failed to \"\n",
      "C:\\Users\\Nikita Singh\\anaconda3\\envs\\tensorflow\\lib\\site-packages\\statsmodels\\tsa\\base\\tsa_model.py:524: ValueWarning: No frequency information was provided, so inferred frequency D will be used.\n",
      "  warnings.warn('No frequency information was'\n",
      "C:\\Users\\Nikita Singh\\anaconda3\\envs\\tensorflow\\lib\\site-packages\\statsmodels\\tsa\\base\\tsa_model.py:524: ValueWarning: No frequency information was provided, so inferred frequency D will be used.\n",
      "  warnings.warn('No frequency information was'\n"
     ]
    },
    {
     "name": "stdout",
     "output_type": "stream",
     "text": [
      "(2, 0, 4) 3791.8686693952204\n",
      "(2, 1, 0) 3930.905033198074\n"
     ]
    },
    {
     "name": "stderr",
     "output_type": "stream",
     "text": [
      "C:\\Users\\Nikita Singh\\anaconda3\\envs\\tensorflow\\lib\\site-packages\\statsmodels\\tsa\\base\\tsa_model.py:524: ValueWarning: No frequency information was provided, so inferred frequency D will be used.\n",
      "  warnings.warn('No frequency information was'\n",
      "C:\\Users\\Nikita Singh\\anaconda3\\envs\\tensorflow\\lib\\site-packages\\statsmodels\\tsa\\base\\tsa_model.py:524: ValueWarning: No frequency information was provided, so inferred frequency D will be used.\n",
      "  warnings.warn('No frequency information was'\n",
      "C:\\Users\\Nikita Singh\\anaconda3\\envs\\tensorflow\\lib\\site-packages\\statsmodels\\tsa\\base\\tsa_model.py:524: ValueWarning: No frequency information was provided, so inferred frequency D will be used.\n",
      "  warnings.warn('No frequency information was'\n",
      "C:\\Users\\Nikita Singh\\anaconda3\\envs\\tensorflow\\lib\\site-packages\\statsmodels\\tsa\\base\\tsa_model.py:524: ValueWarning: No frequency information was provided, so inferred frequency D will be used.\n",
      "  warnings.warn('No frequency information was'\n"
     ]
    },
    {
     "name": "stdout",
     "output_type": "stream",
     "text": [
      "(2, 1, 2) 3808.9786993856533\n"
     ]
    },
    {
     "name": "stderr",
     "output_type": "stream",
     "text": [
      "C:\\Users\\Nikita Singh\\anaconda3\\envs\\tensorflow\\lib\\site-packages\\statsmodels\\tsa\\base\\tsa_model.py:524: ValueWarning: No frequency information was provided, so inferred frequency D will be used.\n",
      "  warnings.warn('No frequency information was'\n",
      "C:\\Users\\Nikita Singh\\anaconda3\\envs\\tensorflow\\lib\\site-packages\\statsmodels\\tsa\\base\\tsa_model.py:524: ValueWarning: No frequency information was provided, so inferred frequency D will be used.\n",
      "  warnings.warn('No frequency information was'\n",
      "C:\\Users\\Nikita Singh\\anaconda3\\envs\\tensorflow\\lib\\site-packages\\statsmodels\\tsa\\base\\tsa_model.py:524: ValueWarning: No frequency information was provided, so inferred frequency D will be used.\n",
      "  warnings.warn('No frequency information was'\n",
      "C:\\Users\\Nikita Singh\\anaconda3\\envs\\tensorflow\\lib\\site-packages\\statsmodels\\tsa\\base\\tsa_model.py:524: ValueWarning: No frequency information was provided, so inferred frequency D will be used.\n",
      "  warnings.warn('No frequency information was'\n",
      "C:\\Users\\Nikita Singh\\anaconda3\\envs\\tensorflow\\lib\\site-packages\\statsmodels\\tsa\\tsatools.py:681: RuntimeWarning: invalid value encountered in double_scalars\n",
      "  tmp[kiter] = (params[kiter] + a * params[j-kiter-1])/\\\n",
      "C:\\Users\\Nikita Singh\\anaconda3\\envs\\tensorflow\\lib\\site-packages\\statsmodels\\tsa\\tsatools.py:684: RuntimeWarning: divide by zero encountered in arctanh\n",
      "  invarcoefs = 2*np.arctanh(params)\n",
      "C:\\Users\\Nikita Singh\\anaconda3\\envs\\tensorflow\\lib\\site-packages\\statsmodels\\tsa\\base\\tsa_model.py:524: ValueWarning: No frequency information was provided, so inferred frequency D will be used.\n",
      "  warnings.warn('No frequency information was'\n",
      "C:\\Users\\Nikita Singh\\anaconda3\\envs\\tensorflow\\lib\\site-packages\\statsmodels\\tsa\\base\\tsa_model.py:524: ValueWarning: No frequency information was provided, so inferred frequency D will be used.\n",
      "  warnings.warn('No frequency information was'\n"
     ]
    },
    {
     "name": "stdout",
     "output_type": "stream",
     "text": [
      "(2, 2, 0) 4013.7630740386467\n"
     ]
    },
    {
     "name": "stderr",
     "output_type": "stream",
     "text": [
      "C:\\Users\\Nikita Singh\\anaconda3\\envs\\tensorflow\\lib\\site-packages\\statsmodels\\tsa\\base\\tsa_model.py:524: ValueWarning: No frequency information was provided, so inferred frequency D will be used.\n",
      "  warnings.warn('No frequency information was'\n",
      "C:\\Users\\Nikita Singh\\anaconda3\\envs\\tensorflow\\lib\\site-packages\\statsmodels\\tsa\\base\\tsa_model.py:524: ValueWarning: No frequency information was provided, so inferred frequency D will be used.\n",
      "  warnings.warn('No frequency information was'\n",
      "C:\\Users\\Nikita Singh\\anaconda3\\envs\\tensorflow\\lib\\site-packages\\statsmodels\\tsa\\base\\tsa_model.py:524: ValueWarning: No frequency information was provided, so inferred frequency D will be used.\n",
      "  warnings.warn('No frequency information was'\n",
      "C:\\Users\\Nikita Singh\\anaconda3\\envs\\tensorflow\\lib\\site-packages\\statsmodels\\tsa\\base\\tsa_model.py:524: ValueWarning: No frequency information was provided, so inferred frequency D will be used.\n",
      "  warnings.warn('No frequency information was'\n",
      "C:\\Users\\Nikita Singh\\anaconda3\\envs\\tensorflow\\lib\\site-packages\\statsmodels\\tsa\\base\\tsa_model.py:524: ValueWarning: No frequency information was provided, so inferred frequency D will be used.\n",
      "  warnings.warn('No frequency information was'\n",
      "C:\\Users\\Nikita Singh\\anaconda3\\envs\\tensorflow\\lib\\site-packages\\statsmodels\\tsa\\base\\tsa_model.py:524: ValueWarning: No frequency information was provided, so inferred frequency D will be used.\n",
      "  warnings.warn('No frequency information was'\n",
      "C:\\Users\\Nikita Singh\\anaconda3\\envs\\tensorflow\\lib\\site-packages\\statsmodels\\tsa\\base\\tsa_model.py:524: ValueWarning: No frequency information was provided, so inferred frequency D will be used.\n",
      "  warnings.warn('No frequency information was'\n",
      "C:\\Users\\Nikita Singh\\anaconda3\\envs\\tensorflow\\lib\\site-packages\\statsmodels\\tsa\\base\\tsa_model.py:524: ValueWarning: No frequency information was provided, so inferred frequency D will be used.\n",
      "  warnings.warn('No frequency information was'\n",
      "C:\\Users\\Nikita Singh\\anaconda3\\envs\\tensorflow\\lib\\site-packages\\statsmodels\\tsa\\base\\tsa_model.py:524: ValueWarning: No frequency information was provided, so inferred frequency D will be used.\n",
      "  warnings.warn('No frequency information was'\n"
     ]
    },
    {
     "name": "stdout",
     "output_type": "stream",
     "text": [
      "(3, 0, 0) 3855.9495013188002\n"
     ]
    },
    {
     "name": "stderr",
     "output_type": "stream",
     "text": [
      "C:\\Users\\Nikita Singh\\anaconda3\\envs\\tensorflow\\lib\\site-packages\\statsmodels\\tsa\\base\\tsa_model.py:524: ValueWarning: No frequency information was provided, so inferred frequency D will be used.\n",
      "  warnings.warn('No frequency information was'\n",
      "C:\\Users\\Nikita Singh\\anaconda3\\envs\\tensorflow\\lib\\site-packages\\statsmodels\\tsa\\tsatools.py:728: RuntimeWarning: divide by zero encountered in true_divide\n",
      "  invmacoefs = -np.log((1-macoefs)/(1+macoefs))\n",
      "C:\\Users\\Nikita Singh\\anaconda3\\envs\\tensorflow\\lib\\site-packages\\statsmodels\\tsa\\base\\tsa_model.py:524: ValueWarning: No frequency information was provided, so inferred frequency D will be used.\n",
      "  warnings.warn('No frequency information was'\n"
     ]
    },
    {
     "name": "stdout",
     "output_type": "stream",
     "text": [
      "(3, 0, 2) 3772.5344363531553\n"
     ]
    },
    {
     "name": "stderr",
     "output_type": "stream",
     "text": [
      "C:\\Users\\Nikita Singh\\anaconda3\\envs\\tensorflow\\lib\\site-packages\\statsmodels\\tsa\\base\\tsa_model.py:524: ValueWarning: No frequency information was provided, so inferred frequency D will be used.\n",
      "  warnings.warn('No frequency information was'\n",
      "C:\\Users\\Nikita Singh\\anaconda3\\envs\\tensorflow\\lib\\site-packages\\statsmodels\\base\\model.py:547: HessianInversionWarning: Inverting hessian failed, no bse or cov_params available\n",
      "  warnings.warn('Inverting hessian failed, no bse or cov_params '\n",
      "C:\\Users\\Nikita Singh\\anaconda3\\envs\\tensorflow\\lib\\site-packages\\statsmodels\\base\\model.py:566: ConvergenceWarning: Maximum Likelihood optimization failed to converge. Check mle_retvals\n",
      "  warnings.warn(\"Maximum Likelihood optimization failed to \"\n",
      "C:\\Users\\Nikita Singh\\anaconda3\\envs\\tensorflow\\lib\\site-packages\\statsmodels\\tsa\\base\\tsa_model.py:524: ValueWarning: No frequency information was provided, so inferred frequency D will be used.\n",
      "  warnings.warn('No frequency information was'\n"
     ]
    },
    {
     "name": "stdout",
     "output_type": "stream",
     "text": [
      "(3, 0, 3) 3791.352280303824\n"
     ]
    },
    {
     "name": "stderr",
     "output_type": "stream",
     "text": [
      "C:\\Users\\Nikita Singh\\anaconda3\\envs\\tensorflow\\lib\\site-packages\\statsmodels\\base\\model.py:547: HessianInversionWarning: Inverting hessian failed, no bse or cov_params available\n",
      "  warnings.warn('Inverting hessian failed, no bse or cov_params '\n",
      "C:\\Users\\Nikita Singh\\anaconda3\\envs\\tensorflow\\lib\\site-packages\\statsmodels\\base\\model.py:566: ConvergenceWarning: Maximum Likelihood optimization failed to converge. Check mle_retvals\n",
      "  warnings.warn(\"Maximum Likelihood optimization failed to \"\n",
      "C:\\Users\\Nikita Singh\\anaconda3\\envs\\tensorflow\\lib\\site-packages\\statsmodels\\tsa\\base\\tsa_model.py:524: ValueWarning: No frequency information was provided, so inferred frequency D will be used.\n",
      "  warnings.warn('No frequency information was'\n",
      "C:\\Users\\Nikita Singh\\anaconda3\\envs\\tensorflow\\lib\\site-packages\\statsmodels\\tsa\\base\\tsa_model.py:524: ValueWarning: No frequency information was provided, so inferred frequency D will be used.\n",
      "  warnings.warn('No frequency information was'\n"
     ]
    },
    {
     "name": "stdout",
     "output_type": "stream",
     "text": [
      "(3, 0, 4) 3790.372002755507\n",
      "(3, 1, 0) 3923.9780932713506\n"
     ]
    },
    {
     "name": "stderr",
     "output_type": "stream",
     "text": [
      "C:\\Users\\Nikita Singh\\anaconda3\\envs\\tensorflow\\lib\\site-packages\\statsmodels\\tsa\\base\\tsa_model.py:524: ValueWarning: No frequency information was provided, so inferred frequency D will be used.\n",
      "  warnings.warn('No frequency information was'\n",
      "C:\\Users\\Nikita Singh\\anaconda3\\envs\\tensorflow\\lib\\site-packages\\statsmodels\\tsa\\base\\tsa_model.py:524: ValueWarning: No frequency information was provided, so inferred frequency D will be used.\n",
      "  warnings.warn('No frequency information was'\n",
      "C:\\Users\\Nikita Singh\\anaconda3\\envs\\tensorflow\\lib\\site-packages\\statsmodels\\tsa\\base\\tsa_model.py:524: ValueWarning: No frequency information was provided, so inferred frequency D will be used.\n",
      "  warnings.warn('No frequency information was'\n",
      "C:\\Users\\Nikita Singh\\anaconda3\\envs\\tensorflow\\lib\\site-packages\\statsmodels\\tsa\\base\\tsa_model.py:524: ValueWarning: No frequency information was provided, so inferred frequency D will be used.\n",
      "  warnings.warn('No frequency information was'\n"
     ]
    },
    {
     "name": "stdout",
     "output_type": "stream",
     "text": [
      "(3, 1, 2) 3794.5397108712987\n"
     ]
    },
    {
     "name": "stderr",
     "output_type": "stream",
     "text": [
      "C:\\Users\\Nikita Singh\\anaconda3\\envs\\tensorflow\\lib\\site-packages\\statsmodels\\tsa\\base\\tsa_model.py:524: ValueWarning: No frequency information was provided, so inferred frequency D will be used.\n",
      "  warnings.warn('No frequency information was'\n",
      "C:\\Users\\Nikita Singh\\anaconda3\\envs\\tensorflow\\lib\\site-packages\\statsmodels\\tsa\\base\\tsa_model.py:524: ValueWarning: No frequency information was provided, so inferred frequency D will be used.\n",
      "  warnings.warn('No frequency information was'\n",
      "C:\\Users\\Nikita Singh\\anaconda3\\envs\\tensorflow\\lib\\site-packages\\statsmodels\\base\\model.py:547: HessianInversionWarning: Inverting hessian failed, no bse or cov_params available\n",
      "  warnings.warn('Inverting hessian failed, no bse or cov_params '\n",
      "C:\\Users\\Nikita Singh\\anaconda3\\envs\\tensorflow\\lib\\site-packages\\statsmodels\\tsa\\base\\tsa_model.py:524: ValueWarning: No frequency information was provided, so inferred frequency D will be used.\n",
      "  warnings.warn('No frequency information was'\n",
      "C:\\Users\\Nikita Singh\\anaconda3\\envs\\tensorflow\\lib\\site-packages\\statsmodels\\tsa\\base\\tsa_model.py:524: ValueWarning: No frequency information was provided, so inferred frequency D will be used.\n",
      "  warnings.warn('No frequency information was'\n",
      "C:\\Users\\Nikita Singh\\anaconda3\\envs\\tensorflow\\lib\\site-packages\\statsmodels\\tsa\\base\\tsa_model.py:524: ValueWarning: No frequency information was provided, so inferred frequency D will be used.\n",
      "  warnings.warn('No frequency information was'\n"
     ]
    },
    {
     "name": "stdout",
     "output_type": "stream",
     "text": [
      "(3, 1, 3) 3754.502890031135\n"
     ]
    },
    {
     "name": "stderr",
     "output_type": "stream",
     "text": [
      "C:\\Users\\Nikita Singh\\anaconda3\\envs\\tensorflow\\lib\\site-packages\\statsmodels\\tsa\\base\\tsa_model.py:524: ValueWarning: No frequency information was provided, so inferred frequency D will be used.\n",
      "  warnings.warn('No frequency information was'\n"
     ]
    },
    {
     "name": "stdout",
     "output_type": "stream",
     "text": [
      "(3, 2, 0) 3992.9709597807455\n"
     ]
    },
    {
     "name": "stderr",
     "output_type": "stream",
     "text": [
      "C:\\Users\\Nikita Singh\\anaconda3\\envs\\tensorflow\\lib\\site-packages\\statsmodels\\tsa\\base\\tsa_model.py:524: ValueWarning: No frequency information was provided, so inferred frequency D will be used.\n",
      "  warnings.warn('No frequency information was'\n",
      "C:\\Users\\Nikita Singh\\anaconda3\\envs\\tensorflow\\lib\\site-packages\\statsmodels\\tsa\\base\\tsa_model.py:524: ValueWarning: No frequency information was provided, so inferred frequency D will be used.\n",
      "  warnings.warn('No frequency information was'\n",
      "C:\\Users\\Nikita Singh\\anaconda3\\envs\\tensorflow\\lib\\site-packages\\statsmodels\\tsa\\base\\tsa_model.py:524: ValueWarning: No frequency information was provided, so inferred frequency D will be used.\n",
      "  warnings.warn('No frequency information was'\n",
      "C:\\Users\\Nikita Singh\\anaconda3\\envs\\tensorflow\\lib\\site-packages\\statsmodels\\tsa\\base\\tsa_model.py:524: ValueWarning: No frequency information was provided, so inferred frequency D will be used.\n",
      "  warnings.warn('No frequency information was'\n",
      "C:\\Users\\Nikita Singh\\anaconda3\\envs\\tensorflow\\lib\\site-packages\\statsmodels\\tsa\\base\\tsa_model.py:524: ValueWarning: No frequency information was provided, so inferred frequency D will be used.\n",
      "  warnings.warn('No frequency information was'\n",
      "C:\\Users\\Nikita Singh\\anaconda3\\envs\\tensorflow\\lib\\site-packages\\statsmodels\\tsa\\base\\tsa_model.py:524: ValueWarning: No frequency information was provided, so inferred frequency D will be used.\n",
      "  warnings.warn('No frequency information was'\n",
      "C:\\Users\\Nikita Singh\\anaconda3\\envs\\tensorflow\\lib\\site-packages\\statsmodels\\tsa\\base\\tsa_model.py:524: ValueWarning: No frequency information was provided, so inferred frequency D will be used.\n",
      "  warnings.warn('No frequency information was'\n",
      "C:\\Users\\Nikita Singh\\anaconda3\\envs\\tensorflow\\lib\\site-packages\\statsmodels\\tsa\\base\\tsa_model.py:524: ValueWarning: No frequency information was provided, so inferred frequency D will be used.\n",
      "  warnings.warn('No frequency information was'\n",
      "C:\\Users\\Nikita Singh\\anaconda3\\envs\\tensorflow\\lib\\site-packages\\statsmodels\\tsa\\base\\tsa_model.py:524: ValueWarning: No frequency information was provided, so inferred frequency D will be used.\n",
      "  warnings.warn('No frequency information was'\n"
     ]
    },
    {
     "name": "stdout",
     "output_type": "stream",
     "text": [
      "(4, 0, 0) 3836.376686372495\n"
     ]
    },
    {
     "name": "stderr",
     "output_type": "stream",
     "text": [
      "C:\\Users\\Nikita Singh\\anaconda3\\envs\\tensorflow\\lib\\site-packages\\statsmodels\\tsa\\base\\tsa_model.py:524: ValueWarning: No frequency information was provided, so inferred frequency D will be used.\n",
      "  warnings.warn('No frequency information was'\n"
     ]
    },
    {
     "name": "stdout",
     "output_type": "stream",
     "text": [
      "(4, 0, 1) 3818.7118287561293\n"
     ]
    },
    {
     "name": "stderr",
     "output_type": "stream",
     "text": [
      "C:\\Users\\Nikita Singh\\anaconda3\\envs\\tensorflow\\lib\\site-packages\\statsmodels\\tsa\\base\\tsa_model.py:524: ValueWarning: No frequency information was provided, so inferred frequency D will be used.\n",
      "  warnings.warn('No frequency information was'\n",
      "C:\\Users\\Nikita Singh\\anaconda3\\envs\\tensorflow\\lib\\site-packages\\statsmodels\\base\\model.py:547: HessianInversionWarning: Inverting hessian failed, no bse or cov_params available\n",
      "  warnings.warn('Inverting hessian failed, no bse or cov_params '\n",
      "C:\\Users\\Nikita Singh\\anaconda3\\envs\\tensorflow\\lib\\site-packages\\statsmodels\\base\\model.py:566: ConvergenceWarning: Maximum Likelihood optimization failed to converge. Check mle_retvals\n",
      "  warnings.warn(\"Maximum Likelihood optimization failed to \"\n",
      "C:\\Users\\Nikita Singh\\anaconda3\\envs\\tensorflow\\lib\\site-packages\\statsmodels\\tsa\\base\\tsa_model.py:524: ValueWarning: No frequency information was provided, so inferred frequency D will be used.\n",
      "  warnings.warn('No frequency information was'\n"
     ]
    },
    {
     "name": "stdout",
     "output_type": "stream",
     "text": [
      "(4, 0, 2) 3778.1399275494673\n"
     ]
    },
    {
     "name": "stderr",
     "output_type": "stream",
     "text": [
      "C:\\Users\\Nikita Singh\\anaconda3\\envs\\tensorflow\\lib\\site-packages\\statsmodels\\base\\model.py:547: HessianInversionWarning: Inverting hessian failed, no bse or cov_params available\n",
      "  warnings.warn('Inverting hessian failed, no bse or cov_params '\n",
      "C:\\Users\\Nikita Singh\\anaconda3\\envs\\tensorflow\\lib\\site-packages\\statsmodels\\tsa\\base\\tsa_model.py:524: ValueWarning: No frequency information was provided, so inferred frequency D will be used.\n",
      "  warnings.warn('No frequency information was'\n",
      "C:\\Users\\Nikita Singh\\anaconda3\\envs\\tensorflow\\lib\\site-packages\\statsmodels\\tsa\\base\\tsa_model.py:524: ValueWarning: No frequency information was provided, so inferred frequency D will be used.\n",
      "  warnings.warn('No frequency information was'\n",
      "C:\\Users\\Nikita Singh\\anaconda3\\envs\\tensorflow\\lib\\site-packages\\statsmodels\\tsa\\base\\tsa_model.py:524: ValueWarning: No frequency information was provided, so inferred frequency D will be used.\n",
      "  warnings.warn('No frequency information was'\n"
     ]
    },
    {
     "name": "stdout",
     "output_type": "stream",
     "text": [
      "(4, 0, 3) 3779.440515129115\n",
      "(4, 1, 0) 3916.118754409428\n"
     ]
    },
    {
     "name": "stderr",
     "output_type": "stream",
     "text": [
      "C:\\Users\\Nikita Singh\\anaconda3\\envs\\tensorflow\\lib\\site-packages\\statsmodels\\tsa\\base\\tsa_model.py:524: ValueWarning: No frequency information was provided, so inferred frequency D will be used.\n",
      "  warnings.warn('No frequency information was'\n",
      "C:\\Users\\Nikita Singh\\anaconda3\\envs\\tensorflow\\lib\\site-packages\\statsmodels\\tsa\\base\\tsa_model.py:524: ValueWarning: No frequency information was provided, so inferred frequency D will be used.\n",
      "  warnings.warn('No frequency information was'\n",
      "C:\\Users\\Nikita Singh\\anaconda3\\envs\\tensorflow\\lib\\site-packages\\statsmodels\\tsa\\base\\tsa_model.py:524: ValueWarning: No frequency information was provided, so inferred frequency D will be used.\n",
      "  warnings.warn('No frequency information was'\n",
      "C:\\Users\\Nikita Singh\\anaconda3\\envs\\tensorflow\\lib\\site-packages\\statsmodels\\tsa\\base\\tsa_model.py:524: ValueWarning: No frequency information was provided, so inferred frequency D will be used.\n",
      "  warnings.warn('No frequency information was'\n"
     ]
    },
    {
     "name": "stdout",
     "output_type": "stream",
     "text": [
      "(4, 1, 2) 3770.0132233341815\n"
     ]
    },
    {
     "name": "stderr",
     "output_type": "stream",
     "text": [
      "C:\\Users\\Nikita Singh\\anaconda3\\envs\\tensorflow\\lib\\site-packages\\statsmodels\\tsa\\base\\tsa_model.py:524: ValueWarning: No frequency information was provided, so inferred frequency D will be used.\n",
      "  warnings.warn('No frequency information was'\n",
      "C:\\Users\\Nikita Singh\\anaconda3\\envs\\tensorflow\\lib\\site-packages\\statsmodels\\tsa\\base\\tsa_model.py:524: ValueWarning: No frequency information was provided, so inferred frequency D will be used.\n",
      "  warnings.warn('No frequency information was'\n",
      "C:\\Users\\Nikita Singh\\anaconda3\\envs\\tensorflow\\lib\\site-packages\\statsmodels\\tsa\\base\\tsa_model.py:524: ValueWarning: No frequency information was provided, so inferred frequency D will be used.\n",
      "  warnings.warn('No frequency information was'\n",
      "C:\\Users\\Nikita Singh\\anaconda3\\envs\\tensorflow\\lib\\site-packages\\statsmodels\\tsa\\base\\tsa_model.py:524: ValueWarning: No frequency information was provided, so inferred frequency D will be used.\n",
      "  warnings.warn('No frequency information was'\n",
      "C:\\Users\\Nikita Singh\\anaconda3\\envs\\tensorflow\\lib\\site-packages\\statsmodels\\tsa\\tsatools.py:684: RuntimeWarning: invalid value encountered in arctanh\n",
      "  invarcoefs = 2*np.arctanh(params)\n",
      "C:\\Users\\Nikita Singh\\anaconda3\\envs\\tensorflow\\lib\\site-packages\\statsmodels\\tsa\\base\\tsa_model.py:524: ValueWarning: No frequency information was provided, so inferred frequency D will be used.\n",
      "  warnings.warn('No frequency information was'\n",
      "C:\\Users\\Nikita Singh\\anaconda3\\envs\\tensorflow\\lib\\site-packages\\statsmodels\\tsa\\base\\tsa_model.py:524: ValueWarning: No frequency information was provided, so inferred frequency D will be used.\n",
      "  warnings.warn('No frequency information was'\n"
     ]
    },
    {
     "name": "stdout",
     "output_type": "stream",
     "text": [
      "(4, 2, 0) 3989.367102659047\n"
     ]
    },
    {
     "name": "stderr",
     "output_type": "stream",
     "text": [
      "C:\\Users\\Nikita Singh\\anaconda3\\envs\\tensorflow\\lib\\site-packages\\statsmodels\\tsa\\base\\tsa_model.py:524: ValueWarning: No frequency information was provided, so inferred frequency D will be used.\n",
      "  warnings.warn('No frequency information was'\n",
      "C:\\Users\\Nikita Singh\\anaconda3\\envs\\tensorflow\\lib\\site-packages\\statsmodels\\tsa\\base\\tsa_model.py:524: ValueWarning: No frequency information was provided, so inferred frequency D will be used.\n",
      "  warnings.warn('No frequency information was'\n",
      "C:\\Users\\Nikita Singh\\anaconda3\\envs\\tensorflow\\lib\\site-packages\\statsmodels\\tsa\\base\\tsa_model.py:524: ValueWarning: No frequency information was provided, so inferred frequency D will be used.\n",
      "  warnings.warn('No frequency information was'\n",
      "C:\\Users\\Nikita Singh\\anaconda3\\envs\\tensorflow\\lib\\site-packages\\statsmodels\\tsa\\base\\tsa_model.py:524: ValueWarning: No frequency information was provided, so inferred frequency D will be used.\n",
      "  warnings.warn('No frequency information was'\n"
     ]
    },
    {
     "name": "stdout",
     "output_type": "stream",
     "text": [
      "(4, 2, 2) 3824.305168964316\n"
     ]
    },
    {
     "name": "stderr",
     "output_type": "stream",
     "text": [
      "C:\\Users\\Nikita Singh\\anaconda3\\envs\\tensorflow\\lib\\site-packages\\statsmodels\\tsa\\base\\tsa_model.py:524: ValueWarning: No frequency information was provided, so inferred frequency D will be used.\n",
      "  warnings.warn('No frequency information was'\n",
      "C:\\Users\\Nikita Singh\\anaconda3\\envs\\tensorflow\\lib\\site-packages\\statsmodels\\tsa\\base\\tsa_model.py:524: ValueWarning: No frequency information was provided, so inferred frequency D will be used.\n",
      "  warnings.warn('No frequency information was'\n",
      "C:\\Users\\Nikita Singh\\anaconda3\\envs\\tensorflow\\lib\\site-packages\\statsmodels\\tsa\\base\\tsa_model.py:524: ValueWarning: No frequency information was provided, so inferred frequency D will be used.\n",
      "  warnings.warn('No frequency information was'\n",
      "C:\\Users\\Nikita Singh\\anaconda3\\envs\\tensorflow\\lib\\site-packages\\statsmodels\\tsa\\base\\tsa_model.py:524: ValueWarning: No frequency information was provided, so inferred frequency D will be used.\n",
      "  warnings.warn('No frequency information was'\n"
     ]
    }
   ],
   "source": [
    "\n",
    "##The Python try… except statement catches an exception. It is used to test code for an error which is written in the “try” statement.\n",
    "#If an error is encountered, the contents of the “except” block are run.\n",
    "for params in pdq:#iterating params over pdq\n",
    "    try:\n",
    "        model_arima_1 = ARIMA(train, order=params)#training model on various pdq values\n",
    "        model_arima_fit_1 = model_arima_1.fit()#training\n",
    "        print(params, model_arima_fit_1.aic)#printing parameter and aic values\n",
    "    except:\n",
    "        continue\n",
    "#take lowest aic score     "
   ]
  },
  {
   "cell_type": "code",
   "execution_count": 84,
   "id": "6a4181fe",
   "metadata": {},
   "outputs": [
    {
     "name": "stderr",
     "output_type": "stream",
     "text": [
      "C:\\Users\\Sneha\\anaconda3\\lib\\site-packages\\statsmodels\\tsa\\base\\tsa_model.py:524: ValueWarning: No frequency information was provided, so inferred frequency D will be used.\n",
      "  warnings.warn('No frequency information was'\n",
      "C:\\Users\\Sneha\\anaconda3\\lib\\site-packages\\statsmodels\\tsa\\base\\tsa_model.py:524: ValueWarning: No frequency information was provided, so inferred frequency D will be used.\n",
      "  warnings.warn('No frequency information was'\n",
      "C:\\Users\\Sneha\\anaconda3\\lib\\site-packages\\statsmodels\\base\\model.py:547: HessianInversionWarning: Inverting hessian failed, no bse or cov_params available\n",
      "  warnings.warn('Inverting hessian failed, no bse or cov_params '\n"
     ]
    }
   ],
   "source": [
    "## create the final model with lowest aic score parameter\n",
    "model_arima = ARIMA(train, order=(3, 1,3))\n",
    "\n",
    "model_arima_fit = model_arima.fit()#training"
   ]
  },
  {
   "cell_type": "code",
   "execution_count": 85,
   "id": "b7e98557",
   "metadata": {},
   "outputs": [
    {
     "name": "stdout",
     "output_type": "stream",
     "text": [
      "3754.5028929260097\n"
     ]
    }
   ],
   "source": [
    "print(model_arima_fit.aic)#aic score"
   ]
  },
  {
   "cell_type": "code",
   "execution_count": 104,
   "id": "c6e8c63f",
   "metadata": {},
   "outputs": [
    {
     "data": {
      "text/plain": [
       "array([ 20130.5488365 ,  13125.16586396,  -4518.91862577, -15095.92479738,\n",
       "       -12627.67286009])"
      ]
     },
     "execution_count": 104,
     "metadata": {},
     "output_type": "execute_result"
    }
   ],
   "source": [
    "forecast = model_arima_fit.forecast(steps=5)[0]\n",
    "forecast"
   ]
  },
  {
   "cell_type": "code",
   "execution_count": 105,
   "id": "f5dfdef9",
   "metadata": {},
   "outputs": [
    {
     "data": {
      "text/plain": [
       "[<matplotlib.lines.Line2D at 0x19c90313f70>]"
      ]
     },
     "execution_count": 105,
     "metadata": {},
     "output_type": "execute_result"
    },
    {
     "data": {
      "image/png": "[encoded data removed]",
      "text/plain": [
       "<Figure size 432x288 with 1 Axes>"
      ]
     },
     "metadata": {
      "needs_background": "light"
     },
     "output_type": "display_data"
    }
   ],
   "source": [
    "plt.plot(forecast,color='green')#line plot for prediction"
   ]
  },
  {
   "cell_type": "markdown",
   "id": "11422e43",
   "metadata": {},
   "source": [
    "# Death Model"
   ]
  },
  {
   "cell_type": "code",
   "execution_count": 88,
   "id": "af907f39",
   "metadata": {},
   "outputs": [],
   "source": [
    "## Creating training and test sets\n",
    "train1=total_deaths3[:180]#from 0th rows to 100th rows traning data\n",
    "test1=total_deaths3[180:]#from 100th rows to end testing data"
   ]
  },
  {
   "cell_type": "code",
   "execution_count": 89,
   "id": "80b6da3b",
   "metadata": {},
   "outputs": [
    {
     "name": "stderr",
     "output_type": "stream",
     "text": [
      "C:\\Users\\Sneha\\anaconda3\\lib\\site-packages\\statsmodels\\tsa\\arima_model.py:472: FutureWarning: \n",
      "statsmodels.tsa.arima_model.ARMA and statsmodels.tsa.arima_model.ARIMA have\n",
      "been deprecated in favor of statsmodels.tsa.arima.model.ARIMA (note the .\n",
      "between arima and model) and\n",
      "statsmodels.tsa.SARIMAX. These will be removed after the 0.12 release.\n",
      "\n",
      "statsmodels.tsa.arima.model.ARIMA makes use of the statespace framework and\n",
      "is both well tested and maintained.\n",
      "\n",
      "To silence this warning and continue using ARMA and ARIMA until they are\n",
      "removed, use:\n",
      "\n",
      "import warnings\n",
      "warnings.filterwarnings('ignore', 'statsmodels.tsa.arima_model.ARMA',\n",
      "                        FutureWarning)\n",
      "warnings.filterwarnings('ignore', 'statsmodels.tsa.arima_model.ARIMA',\n",
      "                        FutureWarning)\n",
      "\n",
      "  warnings.warn(ARIMA_DEPRECATION_WARN, FutureWarning)\n",
      "C:\\Users\\Sneha\\anaconda3\\lib\\site-packages\\statsmodels\\tsa\\base\\tsa_model.py:524: ValueWarning: No frequency information was provided, so inferred frequency D will be used.\n",
      "  warnings.warn('No frequency information was'\n",
      "C:\\Users\\Sneha\\anaconda3\\lib\\site-packages\\statsmodels\\tsa\\base\\tsa_model.py:524: ValueWarning: No frequency information was provided, so inferred frequency D will be used.\n",
      "  warnings.warn('No frequency information was'\n"
     ]
    },
    {
     "name": "stdout",
     "output_type": "stream",
     "text": [
      "(0, 0, 0) 2940.962767999674\n",
      "(0, 0, 1) 2941.841950180172\n"
     ]
    },
    {
     "name": "stderr",
     "output_type": "stream",
     "text": [
      "C:\\Users\\Sneha\\anaconda3\\lib\\site-packages\\statsmodels\\tsa\\base\\tsa_model.py:524: ValueWarning: No frequency information was provided, so inferred frequency D will be used.\n",
      "  warnings.warn('No frequency information was'\n",
      "C:\\Users\\Sneha\\anaconda3\\lib\\site-packages\\statsmodels\\tsa\\base\\tsa_model.py:524: ValueWarning: No frequency information was provided, so inferred frequency D will be used.\n",
      "  warnings.warn('No frequency information was'\n"
     ]
    },
    {
     "name": "stdout",
     "output_type": "stream",
     "text": [
      "(0, 0, 2) 2915.597226796232\n",
      "(0, 0, 3) 2916.654791646096\n"
     ]
    },
    {
     "name": "stderr",
     "output_type": "stream",
     "text": [
      "C:\\Users\\Sneha\\anaconda3\\lib\\site-packages\\statsmodels\\tsa\\base\\tsa_model.py:524: ValueWarning: No frequency information was provided, so inferred frequency D will be used.\n",
      "  warnings.warn('No frequency information was'\n"
     ]
    },
    {
     "name": "stdout",
     "output_type": "stream",
     "text": [
      "(0, 0, 4) 2906.867834854429\n",
      "(0, 1, 0) 3056.1100180087724\n",
      "(0, 1, 1) 2932.827938990851\n"
     ]
    },
    {
     "name": "stderr",
     "output_type": "stream",
     "text": [
      "C:\\Users\\Sneha\\anaconda3\\lib\\site-packages\\statsmodels\\tsa\\base\\tsa_model.py:524: ValueWarning: No frequency information was provided, so inferred frequency D will be used.\n",
      "  warnings.warn('No frequency information was'\n",
      "C:\\Users\\Sneha\\anaconda3\\lib\\site-packages\\statsmodels\\tsa\\base\\tsa_model.py:524: ValueWarning: No frequency information was provided, so inferred frequency D will be used.\n",
      "  warnings.warn('No frequency information was'\n",
      "C:\\Users\\Sneha\\anaconda3\\lib\\site-packages\\statsmodels\\tsa\\base\\tsa_model.py:524: ValueWarning: No frequency information was provided, so inferred frequency D will be used.\n",
      "  warnings.warn('No frequency information was'\n",
      "C:\\Users\\Sneha\\anaconda3\\lib\\site-packages\\statsmodels\\tsa\\base\\tsa_model.py:524: ValueWarning: No frequency information was provided, so inferred frequency D will be used.\n",
      "  warnings.warn('No frequency information was'\n",
      "C:\\Users\\Sneha\\anaconda3\\lib\\site-packages\\statsmodels\\tsa\\base\\tsa_model.py:524: ValueWarning: No frequency information was provided, so inferred frequency D will be used.\n",
      "  warnings.warn('No frequency information was'\n",
      "C:\\Users\\Sneha\\anaconda3\\lib\\site-packages\\statsmodels\\tsa\\base\\tsa_model.py:524: ValueWarning: No frequency information was provided, so inferred frequency D will be used.\n",
      "  warnings.warn('No frequency information was'\n"
     ]
    },
    {
     "name": "stdout",
     "output_type": "stream",
     "text": [
      "(0, 1, 2) 2933.9526362817533\n",
      "(0, 1, 3) 2893.957874041301\n"
     ]
    },
    {
     "name": "stderr",
     "output_type": "stream",
     "text": [
      "C:\\Users\\Sneha\\anaconda3\\lib\\site-packages\\statsmodels\\tsa\\base\\tsa_model.py:524: ValueWarning: No frequency information was provided, so inferred frequency D will be used.\n",
      "  warnings.warn('No frequency information was'\n",
      "C:\\Users\\Sneha\\anaconda3\\lib\\site-packages\\statsmodels\\tsa\\base\\tsa_model.py:524: ValueWarning: No frequency information was provided, so inferred frequency D will be used.\n",
      "  warnings.warn('No frequency information was'\n",
      "C:\\Users\\Sneha\\anaconda3\\lib\\site-packages\\statsmodels\\tsa\\base\\tsa_model.py:524: ValueWarning: No frequency information was provided, so inferred frequency D will be used.\n",
      "  warnings.warn('No frequency information was'\n",
      "C:\\Users\\Sneha\\anaconda3\\lib\\site-packages\\statsmodels\\tsa\\base\\tsa_model.py:524: ValueWarning: No frequency information was provided, so inferred frequency D will be used.\n",
      "  warnings.warn('No frequency information was'\n"
     ]
    },
    {
     "name": "stdout",
     "output_type": "stream",
     "text": [
      "(0, 1, 4) 2893.336238348581\n",
      "(0, 2, 0) 3222.04838254081\n",
      "(0, 2, 1) 3047.2011054713057\n"
     ]
    },
    {
     "name": "stderr",
     "output_type": "stream",
     "text": [
      "C:\\Users\\Sneha\\anaconda3\\lib\\site-packages\\statsmodels\\tsa\\base\\tsa_model.py:524: ValueWarning: No frequency information was provided, so inferred frequency D will be used.\n",
      "  warnings.warn('No frequency information was'\n",
      "C:\\Users\\Sneha\\anaconda3\\lib\\site-packages\\statsmodels\\tsa\\base\\tsa_model.py:524: ValueWarning: No frequency information was provided, so inferred frequency D will be used.\n",
      "  warnings.warn('No frequency information was'\n",
      "C:\\Users\\Sneha\\anaconda3\\lib\\site-packages\\statsmodels\\tsa\\base\\tsa_model.py:524: ValueWarning: No frequency information was provided, so inferred frequency D will be used.\n",
      "  warnings.warn('No frequency information was'\n",
      "C:\\Users\\Sneha\\anaconda3\\lib\\site-packages\\statsmodels\\tsa\\base\\tsa_model.py:524: ValueWarning: No frequency information was provided, so inferred frequency D will be used.\n",
      "  warnings.warn('No frequency information was'\n",
      "C:\\Users\\Sneha\\anaconda3\\lib\\site-packages\\statsmodels\\tsa\\base\\tsa_model.py:524: ValueWarning: No frequency information was provided, so inferred frequency D will be used.\n",
      "  warnings.warn('No frequency information was'\n",
      "C:\\Users\\Sneha\\anaconda3\\lib\\site-packages\\statsmodels\\tsa\\base\\tsa_model.py:524: ValueWarning: No frequency information was provided, so inferred frequency D will be used.\n",
      "  warnings.warn('No frequency information was'\n",
      "C:\\Users\\Sneha\\anaconda3\\lib\\site-packages\\statsmodels\\tsa\\tsatools.py:726: RuntimeWarning: invalid value encountered in double_scalars\n",
      "  tmp[kiter] = (macoefs[kiter]-b *macoefs[j-kiter-1])/(1-b**2)\n",
      "C:\\Users\\Sneha\\anaconda3\\lib\\site-packages\\statsmodels\\tsa\\tsatools.py:728: RuntimeWarning: divide by zero encountered in log\n",
      "  invmacoefs = -np.log((1-macoefs)/(1+macoefs))\n",
      "C:\\Users\\Sneha\\anaconda3\\lib\\site-packages\\scipy\\optimize\\_numdiff.py:470: RuntimeWarning: invalid value encountered in subtract\n",
      "  dx = ((x0 + h) - x0)\n",
      "C:\\Users\\Sneha\\anaconda3\\lib\\site-packages\\scipy\\optimize\\_numdiff.py:556: RuntimeWarning: invalid value encountered in double_scalars\n",
      "  dx = x[i] - x0[i]  # Recompute dx as exactly representable number.\n",
      "C:\\Users\\Sneha\\anaconda3\\lib\\site-packages\\statsmodels\\tsa\\tsatools.py:701: RuntimeWarning: invalid value encountered in true_divide\n",
      "  newparams = ((1-np.exp(-params))/(1+np.exp(-params))).copy()\n",
      "C:\\Users\\Sneha\\anaconda3\\lib\\site-packages\\statsmodels\\tsa\\tsatools.py:702: RuntimeWarning: invalid value encountered in true_divide\n",
      "  tmp = ((1-np.exp(-params))/(1+np.exp(-params))).copy()\n",
      "C:\\Users\\Sneha\\anaconda3\\lib\\site-packages\\statsmodels\\tsa\\kalmanf\\kalmanfilter.py:222: RuntimeWarning: invalid value encountered in log\n",
      "  loglike, sigma2 = kalman_loglike.kalman_loglike_complex(\n",
      "C:\\Users\\Sneha\\anaconda3\\lib\\site-packages\\statsmodels\\tsa\\kalmanf\\kalmanfilter.py:222: RuntimeWarning: invalid value encountered in true_divide\n",
      "  loglike, sigma2 = kalman_loglike.kalman_loglike_complex(\n",
      "C:\\Users\\Sneha\\anaconda3\\lib\\site-packages\\statsmodels\\tools\\numdiff.py:242: RuntimeWarning: invalid value encountered in subtract\n",
      "  - f(*((x + 1j*ee[i, :] - ee[j, :],)+args),\n",
      "C:\\Users\\Sneha\\anaconda3\\lib\\site-packages\\statsmodels\\tools\\numdiff.py:241: RuntimeWarning: invalid value encountered in multiply\n",
      "  hess[i, j] = (f(*((x + 1j*ee[i, :] + ee[j, :],) + args), **kwargs)\n",
      "C:\\Users\\Sneha\\anaconda3\\lib\\site-packages\\statsmodels\\tools\\numdiff.py:242: RuntimeWarning: invalid value encountered in multiply\n",
      "  - f(*((x + 1j*ee[i, :] - ee[j, :],)+args),\n",
      "C:\\Users\\Sneha\\anaconda3\\lib\\site-packages\\statsmodels\\base\\model.py:547: HessianInversionWarning: Inverting hessian failed, no bse or cov_params available\n",
      "  warnings.warn('Inverting hessian failed, no bse or cov_params '\n",
      "C:\\Users\\Sneha\\anaconda3\\lib\\site-packages\\statsmodels\\base\\model.py:566: ConvergenceWarning: Maximum Likelihood optimization failed to converge. Check mle_retvals\n",
      "  warnings.warn(\"Maximum Likelihood optimization failed to \"\n",
      "C:\\Users\\Sneha\\anaconda3\\lib\\site-packages\\statsmodels\\tsa\\base\\tsa_model.py:524: ValueWarning: No frequency information was provided, so inferred frequency D will be used.\n",
      "  warnings.warn('No frequency information was'\n",
      "C:\\Users\\Sneha\\anaconda3\\lib\\site-packages\\statsmodels\\tsa\\base\\tsa_model.py:524: ValueWarning: No frequency information was provided, so inferred frequency D will be used.\n",
      "  warnings.warn('No frequency information was'\n"
     ]
    },
    {
     "name": "stdout",
     "output_type": "stream",
     "text": [
      "(0, 2, 2) nan\n",
      "(0, 2, 3) 2939.982680317509\n"
     ]
    },
    {
     "name": "stderr",
     "output_type": "stream",
     "text": [
      "C:\\Users\\Sneha\\anaconda3\\lib\\site-packages\\statsmodels\\tsa\\base\\tsa_model.py:524: ValueWarning: No frequency information was provided, so inferred frequency D will be used.\n",
      "  warnings.warn('No frequency information was'\n",
      "C:\\Users\\Sneha\\anaconda3\\lib\\site-packages\\statsmodels\\tsa\\base\\tsa_model.py:524: ValueWarning: No frequency information was provided, so inferred frequency D will be used.\n",
      "  warnings.warn('No frequency information was'\n",
      "C:\\Users\\Sneha\\anaconda3\\lib\\site-packages\\statsmodels\\base\\model.py:547: HessianInversionWarning: Inverting hessian failed, no bse or cov_params available\n",
      "  warnings.warn('Inverting hessian failed, no bse or cov_params '\n",
      "C:\\Users\\Sneha\\anaconda3\\lib\\site-packages\\statsmodels\\base\\model.py:566: ConvergenceWarning: Maximum Likelihood optimization failed to converge. Check mle_retvals\n",
      "  warnings.warn(\"Maximum Likelihood optimization failed to \"\n",
      "C:\\Users\\Sneha\\anaconda3\\lib\\site-packages\\statsmodels\\tsa\\base\\tsa_model.py:524: ValueWarning: No frequency information was provided, so inferred frequency D will be used.\n",
      "  warnings.warn('No frequency information was'\n",
      "C:\\Users\\Sneha\\anaconda3\\lib\\site-packages\\statsmodels\\tsa\\base\\tsa_model.py:524: ValueWarning: No frequency information was provided, so inferred frequency D will be used.\n",
      "  warnings.warn('No frequency information was'\n",
      "C:\\Users\\Sneha\\anaconda3\\lib\\site-packages\\statsmodels\\tsa\\base\\tsa_model.py:524: ValueWarning: No frequency information was provided, so inferred frequency D will be used.\n",
      "  warnings.warn('No frequency information was'\n"
     ]
    },
    {
     "name": "stdout",
     "output_type": "stream",
     "text": [
      "(0, 2, 4) nan\n",
      "(1, 0, 0) 2942.4726038623926\n",
      "(1, 0, 1) 2924.5336806220535\n",
      "(1, 0, 2) 2916.965545629987\n"
     ]
    },
    {
     "name": "stderr",
     "output_type": "stream",
     "text": [
      "C:\\Users\\Sneha\\anaconda3\\lib\\site-packages\\statsmodels\\tsa\\base\\tsa_model.py:524: ValueWarning: No frequency information was provided, so inferred frequency D will be used.\n",
      "  warnings.warn('No frequency information was'\n"
     ]
    },
    {
     "name": "stdout",
     "output_type": "stream",
     "text": [
      "(1, 0, 3) 2896.0601775494943\n"
     ]
    },
    {
     "name": "stderr",
     "output_type": "stream",
     "text": [
      "C:\\Users\\Sneha\\anaconda3\\lib\\site-packages\\statsmodels\\tsa\\base\\tsa_model.py:524: ValueWarning: No frequency information was provided, so inferred frequency D will be used.\n",
      "  warnings.warn('No frequency information was'\n"
     ]
    },
    {
     "name": "stdout",
     "output_type": "stream",
     "text": [
      "(1, 0, 4) 2891.7541818148175\n",
      "(1, 1, 0) 3027.203419659777\n"
     ]
    },
    {
     "name": "stderr",
     "output_type": "stream",
     "text": [
      "C:\\Users\\Sneha\\anaconda3\\lib\\site-packages\\statsmodels\\tsa\\base\\tsa_model.py:524: ValueWarning: No frequency information was provided, so inferred frequency D will be used.\n",
      "  warnings.warn('No frequency information was'\n",
      "C:\\Users\\Sneha\\anaconda3\\lib\\site-packages\\statsmodels\\tsa\\base\\tsa_model.py:524: ValueWarning: No frequency information was provided, so inferred frequency D will be used.\n",
      "  warnings.warn('No frequency information was'\n",
      "C:\\Users\\Sneha\\anaconda3\\lib\\site-packages\\statsmodels\\tsa\\base\\tsa_model.py:524: ValueWarning: No frequency information was provided, so inferred frequency D will be used.\n",
      "  warnings.warn('No frequency information was'\n",
      "C:\\Users\\Sneha\\anaconda3\\lib\\site-packages\\statsmodels\\tsa\\base\\tsa_model.py:524: ValueWarning: No frequency information was provided, so inferred frequency D will be used.\n",
      "  warnings.warn('No frequency information was'\n",
      "C:\\Users\\Sneha\\anaconda3\\lib\\site-packages\\statsmodels\\tsa\\base\\tsa_model.py:524: ValueWarning: No frequency information was provided, so inferred frequency D will be used.\n",
      "  warnings.warn('No frequency information was'\n",
      "C:\\Users\\Sneha\\anaconda3\\lib\\site-packages\\statsmodels\\tsa\\base\\tsa_model.py:524: ValueWarning: No frequency information was provided, so inferred frequency D will be used.\n",
      "  warnings.warn('No frequency information was'\n",
      "C:\\Users\\Sneha\\anaconda3\\lib\\site-packages\\statsmodels\\tsa\\base\\tsa_model.py:524: ValueWarning: No frequency information was provided, so inferred frequency D will be used.\n",
      "  warnings.warn('No frequency information was'\n",
      "C:\\Users\\Sneha\\anaconda3\\lib\\site-packages\\statsmodels\\tsa\\base\\tsa_model.py:524: ValueWarning: No frequency information was provided, so inferred frequency D will be used.\n",
      "  warnings.warn('No frequency information was'\n",
      "C:\\Users\\Sneha\\anaconda3\\lib\\site-packages\\statsmodels\\tsa\\base\\tsa_model.py:524: ValueWarning: No frequency information was provided, so inferred frequency D will be used.\n",
      "  warnings.warn('No frequency information was'\n",
      "C:\\Users\\Sneha\\anaconda3\\lib\\site-packages\\statsmodels\\tsa\\base\\tsa_model.py:524: ValueWarning: No frequency information was provided, so inferred frequency D will be used.\n",
      "  warnings.warn('No frequency information was'\n",
      "C:\\Users\\Sneha\\anaconda3\\lib\\site-packages\\statsmodels\\tsa\\base\\tsa_model.py:524: ValueWarning: No frequency information was provided, so inferred frequency D will be used.\n",
      "  warnings.warn('No frequency information was'\n",
      "C:\\Users\\Sneha\\anaconda3\\lib\\site-packages\\statsmodels\\tsa\\base\\tsa_model.py:524: ValueWarning: No frequency information was provided, so inferred frequency D will be used.\n",
      "  warnings.warn('No frequency information was'\n",
      "C:\\Users\\Sneha\\anaconda3\\lib\\site-packages\\statsmodels\\tsa\\base\\tsa_model.py:524: ValueWarning: No frequency information was provided, so inferred frequency D will be used.\n",
      "  warnings.warn('No frequency information was'\n",
      "C:\\Users\\Sneha\\anaconda3\\lib\\site-packages\\statsmodels\\tsa\\base\\tsa_model.py:524: ValueWarning: No frequency information was provided, so inferred frequency D will be used.\n",
      "  warnings.warn('No frequency information was'\n",
      "C:\\Users\\Sneha\\anaconda3\\lib\\site-packages\\statsmodels\\tsa\\base\\tsa_model.py:524: ValueWarning: No frequency information was provided, so inferred frequency D will be used.\n",
      "  warnings.warn('No frequency information was'\n",
      "C:\\Users\\Sneha\\anaconda3\\lib\\site-packages\\statsmodels\\tsa\\base\\tsa_model.py:524: ValueWarning: No frequency information was provided, so inferred frequency D will be used.\n",
      "  warnings.warn('No frequency information was'\n",
      "C:\\Users\\Sneha\\anaconda3\\lib\\site-packages\\statsmodels\\tsa\\base\\tsa_model.py:524: ValueWarning: No frequency information was provided, so inferred frequency D will be used.\n",
      "  warnings.warn('No frequency information was'\n"
     ]
    },
    {
     "name": "stdout",
     "output_type": "stream",
     "text": [
      "(1, 2, 0) 3147.4595785745573\n"
     ]
    },
    {
     "name": "stderr",
     "output_type": "stream",
     "text": [
      "C:\\Users\\Sneha\\anaconda3\\lib\\site-packages\\statsmodels\\tsa\\base\\tsa_model.py:524: ValueWarning: No frequency information was provided, so inferred frequency D will be used.\n",
      "  warnings.warn('No frequency information was'\n",
      "C:\\Users\\Sneha\\anaconda3\\lib\\site-packages\\statsmodels\\tsa\\base\\tsa_model.py:524: ValueWarning: No frequency information was provided, so inferred frequency D will be used.\n",
      "  warnings.warn('No frequency information was'\n",
      "C:\\Users\\Sneha\\anaconda3\\lib\\site-packages\\statsmodels\\tsa\\base\\tsa_model.py:524: ValueWarning: No frequency information was provided, so inferred frequency D will be used.\n",
      "  warnings.warn('No frequency information was'\n",
      "C:\\Users\\Sneha\\anaconda3\\lib\\site-packages\\statsmodels\\base\\model.py:547: HessianInversionWarning: Inverting hessian failed, no bse or cov_params available\n",
      "  warnings.warn('Inverting hessian failed, no bse or cov_params '\n",
      "C:\\Users\\Sneha\\anaconda3\\lib\\site-packages\\statsmodels\\base\\model.py:566: ConvergenceWarning: Maximum Likelihood optimization failed to converge. Check mle_retvals\n",
      "  warnings.warn(\"Maximum Likelihood optimization failed to \"\n",
      "C:\\Users\\Sneha\\anaconda3\\lib\\site-packages\\statsmodels\\tsa\\base\\tsa_model.py:524: ValueWarning: No frequency information was provided, so inferred frequency D will be used.\n",
      "  warnings.warn('No frequency information was'\n",
      "C:\\Users\\Sneha\\anaconda3\\lib\\site-packages\\statsmodels\\tsa\\base\\tsa_model.py:524: ValueWarning: No frequency information was provided, so inferred frequency D will be used.\n",
      "  warnings.warn('No frequency information was'\n"
     ]
    },
    {
     "name": "stdout",
     "output_type": "stream",
     "text": [
      "(1, 2, 4) 2890.4605332728183\n",
      "(2, 0, 0) 2932.052540794996\n",
      "(2, 0, 1) 2912.336612974008\n"
     ]
    },
    {
     "name": "stderr",
     "output_type": "stream",
     "text": [
      "C:\\Users\\Sneha\\anaconda3\\lib\\site-packages\\statsmodels\\tsa\\base\\tsa_model.py:524: ValueWarning: No frequency information was provided, so inferred frequency D will be used.\n",
      "  warnings.warn('No frequency information was'\n"
     ]
    },
    {
     "name": "stdout",
     "output_type": "stream",
     "text": [
      "(2, 0, 2) 2857.475455799274\n"
     ]
    },
    {
     "name": "stderr",
     "output_type": "stream",
     "text": [
      "C:\\Users\\Sneha\\anaconda3\\lib\\site-packages\\statsmodels\\tsa\\base\\tsa_model.py:524: ValueWarning: No frequency information was provided, so inferred frequency D will be used.\n",
      "  warnings.warn('No frequency information was'\n"
     ]
    },
    {
     "name": "stdout",
     "output_type": "stream",
     "text": [
      "(2, 0, 3) 2841.206696565723\n"
     ]
    },
    {
     "name": "stderr",
     "output_type": "stream",
     "text": [
      "C:\\Users\\Sneha\\anaconda3\\lib\\site-packages\\statsmodels\\tsa\\base\\tsa_model.py:524: ValueWarning: No frequency information was provided, so inferred frequency D will be used.\n",
      "  warnings.warn('No frequency information was'\n"
     ]
    },
    {
     "name": "stdout",
     "output_type": "stream",
     "text": [
      "(2, 0, 4) 2890.742530035994\n",
      "(2, 1, 0) 3002.448088890108\n"
     ]
    },
    {
     "name": "stderr",
     "output_type": "stream",
     "text": [
      "C:\\Users\\Sneha\\anaconda3\\lib\\site-packages\\statsmodels\\tsa\\base\\tsa_model.py:524: ValueWarning: No frequency information was provided, so inferred frequency D will be used.\n",
      "  warnings.warn('No frequency information was'\n",
      "C:\\Users\\Sneha\\anaconda3\\lib\\site-packages\\statsmodels\\tsa\\base\\tsa_model.py:524: ValueWarning: No frequency information was provided, so inferred frequency D will be used.\n",
      "  warnings.warn('No frequency information was'\n",
      "C:\\Users\\Sneha\\anaconda3\\lib\\site-packages\\statsmodels\\tsa\\base\\tsa_model.py:524: ValueWarning: No frequency information was provided, so inferred frequency D will be used.\n",
      "  warnings.warn('No frequency information was'\n",
      "C:\\Users\\Sneha\\anaconda3\\lib\\site-packages\\statsmodels\\tsa\\base\\tsa_model.py:524: ValueWarning: No frequency information was provided, so inferred frequency D will be used.\n",
      "  warnings.warn('No frequency information was'\n",
      "C:\\Users\\Sneha\\anaconda3\\lib\\site-packages\\statsmodels\\tsa\\base\\tsa_model.py:524: ValueWarning: No frequency information was provided, so inferred frequency D will be used.\n",
      "  warnings.warn('No frequency information was'\n",
      "C:\\Users\\Sneha\\anaconda3\\lib\\site-packages\\statsmodels\\tsa\\base\\tsa_model.py:524: ValueWarning: No frequency information was provided, so inferred frequency D will be used.\n",
      "  warnings.warn('No frequency information was'\n"
     ]
    },
    {
     "name": "stdout",
     "output_type": "stream",
     "text": [
      "(2, 1, 2) 2885.4049352438205\n",
      "(2, 2, 0) 3093.372488434189\n"
     ]
    },
    {
     "name": "stderr",
     "output_type": "stream",
     "text": [
      "C:\\Users\\Sneha\\anaconda3\\lib\\site-packages\\statsmodels\\tsa\\base\\tsa_model.py:524: ValueWarning: No frequency information was provided, so inferred frequency D will be used.\n",
      "  warnings.warn('No frequency information was'\n",
      "C:\\Users\\Sneha\\anaconda3\\lib\\site-packages\\statsmodels\\tsa\\base\\tsa_model.py:524: ValueWarning: No frequency information was provided, so inferred frequency D will be used.\n",
      "  warnings.warn('No frequency information was'\n",
      "C:\\Users\\Sneha\\anaconda3\\lib\\site-packages\\statsmodels\\tsa\\base\\tsa_model.py:524: ValueWarning: No frequency information was provided, so inferred frequency D will be used.\n",
      "  warnings.warn('No frequency information was'\n",
      "C:\\Users\\Sneha\\anaconda3\\lib\\site-packages\\statsmodels\\tsa\\base\\tsa_model.py:524: ValueWarning: No frequency information was provided, so inferred frequency D will be used.\n",
      "  warnings.warn('No frequency information was'\n",
      "C:\\Users\\Sneha\\anaconda3\\lib\\site-packages\\statsmodels\\tsa\\base\\tsa_model.py:524: ValueWarning: No frequency information was provided, so inferred frequency D will be used.\n",
      "  warnings.warn('No frequency information was'\n",
      "C:\\Users\\Sneha\\anaconda3\\lib\\site-packages\\statsmodels\\tsa\\base\\tsa_model.py:524: ValueWarning: No frequency information was provided, so inferred frequency D will be used.\n",
      "  warnings.warn('No frequency information was'\n",
      "C:\\Users\\Sneha\\anaconda3\\lib\\site-packages\\statsmodels\\tsa\\base\\tsa_model.py:524: ValueWarning: No frequency information was provided, so inferred frequency D will be used.\n",
      "  warnings.warn('No frequency information was'\n",
      "C:\\Users\\Sneha\\anaconda3\\lib\\site-packages\\statsmodels\\tsa\\base\\tsa_model.py:524: ValueWarning: No frequency information was provided, so inferred frequency D will be used.\n",
      "  warnings.warn('No frequency information was'\n",
      "C:\\Users\\Sneha\\anaconda3\\lib\\site-packages\\statsmodels\\tsa\\base\\tsa_model.py:524: ValueWarning: No frequency information was provided, so inferred frequency D will be used.\n",
      "  warnings.warn('No frequency information was'\n",
      "C:\\Users\\Sneha\\anaconda3\\lib\\site-packages\\statsmodels\\tsa\\base\\tsa_model.py:524: ValueWarning: No frequency information was provided, so inferred frequency D will be used.\n",
      "  warnings.warn('No frequency information was'\n",
      "C:\\Users\\Sneha\\anaconda3\\lib\\site-packages\\statsmodels\\tsa\\base\\tsa_model.py:524: ValueWarning: No frequency information was provided, so inferred frequency D will be used.\n",
      "  warnings.warn('No frequency information was'\n",
      "C:\\Users\\Sneha\\anaconda3\\lib\\site-packages\\statsmodels\\tsa\\base\\tsa_model.py:524: ValueWarning: No frequency information was provided, so inferred frequency D will be used.\n",
      "  warnings.warn('No frequency information was'\n",
      "C:\\Users\\Sneha\\anaconda3\\lib\\site-packages\\statsmodels\\tsa\\base\\tsa_model.py:524: ValueWarning: No frequency information was provided, so inferred frequency D will be used.\n",
      "  warnings.warn('No frequency information was'\n",
      "C:\\Users\\Sneha\\anaconda3\\lib\\site-packages\\statsmodels\\tsa\\base\\tsa_model.py:524: ValueWarning: No frequency information was provided, so inferred frequency D will be used.\n",
      "  warnings.warn('No frequency information was'\n",
      "C:\\Users\\Sneha\\anaconda3\\lib\\site-packages\\statsmodels\\tsa\\base\\tsa_model.py:524: ValueWarning: No frequency information was provided, so inferred frequency D will be used.\n",
      "  warnings.warn('No frequency information was'\n",
      "C:\\Users\\Sneha\\anaconda3\\lib\\site-packages\\statsmodels\\tsa\\base\\tsa_model.py:524: ValueWarning: No frequency information was provided, so inferred frequency D will be used.\n",
      "  warnings.warn('No frequency information was'\n"
     ]
    },
    {
     "name": "stdout",
     "output_type": "stream",
     "text": [
      "(3, 0, 0) 2928.741625627671\n",
      "(3, 0, 1) 2910.7540805336052\n"
     ]
    },
    {
     "name": "stderr",
     "output_type": "stream",
     "text": [
      "C:\\Users\\Sneha\\anaconda3\\lib\\site-packages\\statsmodels\\tsa\\base\\tsa_model.py:524: ValueWarning: No frequency information was provided, so inferred frequency D will be used.\n",
      "  warnings.warn('No frequency information was'\n"
     ]
    },
    {
     "name": "stdout",
     "output_type": "stream",
     "text": [
      "(3, 0, 2) 2850.0476667514254\n"
     ]
    },
    {
     "name": "stderr",
     "output_type": "stream",
     "text": [
      "C:\\Users\\Sneha\\anaconda3\\lib\\site-packages\\statsmodels\\tsa\\base\\tsa_model.py:524: ValueWarning: No frequency information was provided, so inferred frequency D will be used.\n",
      "  warnings.warn('No frequency information was'\n"
     ]
    },
    {
     "name": "stdout",
     "output_type": "stream",
     "text": [
      "(3, 0, 3) 2843.0644013236147\n"
     ]
    },
    {
     "name": "stderr",
     "output_type": "stream",
     "text": [
      "C:\\Users\\Sneha\\anaconda3\\lib\\site-packages\\statsmodels\\tsa\\base\\tsa_model.py:524: ValueWarning: No frequency information was provided, so inferred frequency D will be used.\n",
      "  warnings.warn('No frequency information was'\n"
     ]
    },
    {
     "name": "stdout",
     "output_type": "stream",
     "text": [
      "(3, 0, 4) 2843.4274312816024\n",
      "(3, 1, 0) 2996.2323186391545\n"
     ]
    },
    {
     "name": "stderr",
     "output_type": "stream",
     "text": [
      "C:\\Users\\Sneha\\anaconda3\\lib\\site-packages\\statsmodels\\tsa\\base\\tsa_model.py:524: ValueWarning: No frequency information was provided, so inferred frequency D will be used.\n",
      "  warnings.warn('No frequency information was'\n",
      "C:\\Users\\Sneha\\anaconda3\\lib\\site-packages\\statsmodels\\tsa\\base\\tsa_model.py:524: ValueWarning: No frequency information was provided, so inferred frequency D will be used.\n",
      "  warnings.warn('No frequency information was'\n",
      "C:\\Users\\Sneha\\anaconda3\\lib\\site-packages\\statsmodels\\tsa\\base\\tsa_model.py:524: ValueWarning: No frequency information was provided, so inferred frequency D will be used.\n",
      "  warnings.warn('No frequency information was'\n",
      "C:\\Users\\Sneha\\anaconda3\\lib\\site-packages\\statsmodels\\tsa\\base\\tsa_model.py:524: ValueWarning: No frequency information was provided, so inferred frequency D will be used.\n",
      "  warnings.warn('No frequency information was'\n",
      "C:\\Users\\Sneha\\anaconda3\\lib\\site-packages\\statsmodels\\tsa\\base\\tsa_model.py:524: ValueWarning: No frequency information was provided, so inferred frequency D will be used.\n",
      "  warnings.warn('No frequency information was'\n"
     ]
    },
    {
     "name": "stdout",
     "output_type": "stream",
     "text": [
      "(3, 1, 2) 2880.8488002273743\n"
     ]
    },
    {
     "name": "stderr",
     "output_type": "stream",
     "text": [
      "C:\\Users\\Sneha\\anaconda3\\lib\\site-packages\\statsmodels\\tsa\\base\\tsa_model.py:524: ValueWarning: No frequency information was provided, so inferred frequency D will be used.\n",
      "  warnings.warn('No frequency information was'\n",
      "C:\\Users\\Sneha\\anaconda3\\lib\\site-packages\\statsmodels\\tsa\\base\\tsa_model.py:524: ValueWarning: No frequency information was provided, so inferred frequency D will be used.\n",
      "  warnings.warn('No frequency information was'\n",
      "C:\\Users\\Sneha\\anaconda3\\lib\\site-packages\\statsmodels\\tsa\\base\\tsa_model.py:524: ValueWarning: No frequency information was provided, so inferred frequency D will be used.\n",
      "  warnings.warn('No frequency information was'\n",
      "C:\\Users\\Sneha\\anaconda3\\lib\\site-packages\\statsmodels\\tsa\\base\\tsa_model.py:524: ValueWarning: No frequency information was provided, so inferred frequency D will be used.\n",
      "  warnings.warn('No frequency information was'\n",
      "C:\\Users\\Sneha\\anaconda3\\lib\\site-packages\\statsmodels\\tsa\\base\\tsa_model.py:524: ValueWarning: No frequency information was provided, so inferred frequency D will be used.\n",
      "  warnings.warn('No frequency information was'\n",
      "C:\\Users\\Sneha\\anaconda3\\lib\\site-packages\\statsmodels\\tsa\\base\\tsa_model.py:524: ValueWarning: No frequency information was provided, so inferred frequency D will be used.\n",
      "  warnings.warn('No frequency information was'\n",
      "C:\\Users\\Sneha\\anaconda3\\lib\\site-packages\\statsmodels\\tsa\\base\\tsa_model.py:524: ValueWarning: No frequency information was provided, so inferred frequency D will be used.\n",
      "  warnings.warn('No frequency information was'\n"
     ]
    },
    {
     "name": "stdout",
     "output_type": "stream",
     "text": [
      "(3, 2, 0) 3068.1867171093763\n"
     ]
    },
    {
     "name": "stderr",
     "output_type": "stream",
     "text": [
      "C:\\Users\\Sneha\\anaconda3\\lib\\site-packages\\statsmodels\\tsa\\base\\tsa_model.py:524: ValueWarning: No frequency information was provided, so inferred frequency D will be used.\n",
      "  warnings.warn('No frequency information was'\n",
      "C:\\Users\\Sneha\\anaconda3\\lib\\site-packages\\statsmodels\\tsa\\base\\tsa_model.py:524: ValueWarning: No frequency information was provided, so inferred frequency D will be used.\n",
      "  warnings.warn('No frequency information was'\n",
      "C:\\Users\\Sneha\\anaconda3\\lib\\site-packages\\statsmodels\\tsa\\base\\tsa_model.py:524: ValueWarning: No frequency information was provided, so inferred frequency D will be used.\n",
      "  warnings.warn('No frequency information was'\n",
      "C:\\Users\\Sneha\\anaconda3\\lib\\site-packages\\statsmodels\\tsa\\base\\tsa_model.py:524: ValueWarning: No frequency information was provided, so inferred frequency D will be used.\n",
      "  warnings.warn('No frequency information was'\n",
      "C:\\Users\\Sneha\\anaconda3\\lib\\site-packages\\statsmodels\\base\\model.py:547: HessianInversionWarning: Inverting hessian failed, no bse or cov_params available\n",
      "  warnings.warn('Inverting hessian failed, no bse or cov_params '\n",
      "C:\\Users\\Sneha\\anaconda3\\lib\\site-packages\\statsmodels\\tsa\\base\\tsa_model.py:524: ValueWarning: No frequency information was provided, so inferred frequency D will be used.\n",
      "  warnings.warn('No frequency information was'\n",
      "C:\\Users\\Sneha\\anaconda3\\lib\\site-packages\\statsmodels\\tsa\\base\\tsa_model.py:524: ValueWarning: No frequency information was provided, so inferred frequency D will be used.\n",
      "  warnings.warn('No frequency information was'\n",
      "C:\\Users\\Sneha\\anaconda3\\lib\\site-packages\\statsmodels\\tsa\\base\\tsa_model.py:524: ValueWarning: No frequency information was provided, so inferred frequency D will be used.\n",
      "  warnings.warn('No frequency information was'\n",
      "C:\\Users\\Sneha\\anaconda3\\lib\\site-packages\\statsmodels\\tsa\\base\\tsa_model.py:524: ValueWarning: No frequency information was provided, so inferred frequency D will be used.\n",
      "  warnings.warn('No frequency information was'\n",
      "C:\\Users\\Sneha\\anaconda3\\lib\\site-packages\\statsmodels\\tsa\\base\\tsa_model.py:524: ValueWarning: No frequency information was provided, so inferred frequency D will be used.\n",
      "  warnings.warn('No frequency information was'\n"
     ]
    },
    {
     "name": "stdout",
     "output_type": "stream",
     "text": [
      "(3, 2, 2) 2930.0609845666163\n",
      "(4, 0, 0) 2913.4845881858823\n"
     ]
    },
    {
     "name": "stderr",
     "output_type": "stream",
     "text": [
      "C:\\Users\\Sneha\\anaconda3\\lib\\site-packages\\statsmodels\\tsa\\base\\tsa_model.py:524: ValueWarning: No frequency information was provided, so inferred frequency D will be used.\n",
      "  warnings.warn('No frequency information was'\n"
     ]
    },
    {
     "name": "stdout",
     "output_type": "stream",
     "text": [
      "(4, 0, 1) 2897.2460230508023\n"
     ]
    },
    {
     "name": "stderr",
     "output_type": "stream",
     "text": [
      "C:\\Users\\Sneha\\anaconda3\\lib\\site-packages\\statsmodels\\tsa\\base\\tsa_model.py:524: ValueWarning: No frequency information was provided, so inferred frequency D will be used.\n",
      "  warnings.warn('No frequency information was'\n"
     ]
    },
    {
     "name": "stdout",
     "output_type": "stream",
     "text": [
      "(4, 0, 2) 2829.200954483029\n"
     ]
    },
    {
     "name": "stderr",
     "output_type": "stream",
     "text": [
      "C:\\Users\\Sneha\\anaconda3\\lib\\site-packages\\statsmodels\\tsa\\base\\tsa_model.py:524: ValueWarning: No frequency information was provided, so inferred frequency D will be used.\n",
      "  warnings.warn('No frequency information was'\n"
     ]
    },
    {
     "name": "stdout",
     "output_type": "stream",
     "text": [
      "(4, 0, 3) 2831.195813005898\n"
     ]
    },
    {
     "name": "stderr",
     "output_type": "stream",
     "text": [
      "C:\\Users\\Sneha\\anaconda3\\lib\\site-packages\\statsmodels\\tsa\\base\\tsa_model.py:524: ValueWarning: No frequency information was provided, so inferred frequency D will be used.\n",
      "  warnings.warn('No frequency information was'\n"
     ]
    },
    {
     "name": "stdout",
     "output_type": "stream",
     "text": [
      "(4, 0, 4) 2809.7573412238785\n",
      "(4, 1, 0) 2992.227746554892\n"
     ]
    },
    {
     "name": "stderr",
     "output_type": "stream",
     "text": [
      "C:\\Users\\Sneha\\anaconda3\\lib\\site-packages\\statsmodels\\tsa\\base\\tsa_model.py:524: ValueWarning: No frequency information was provided, so inferred frequency D will be used.\n",
      "  warnings.warn('No frequency information was'\n",
      "C:\\Users\\Sneha\\anaconda3\\lib\\site-packages\\statsmodels\\tsa\\base\\tsa_model.py:524: ValueWarning: No frequency information was provided, so inferred frequency D will be used.\n",
      "  warnings.warn('No frequency information was'\n",
      "C:\\Users\\Sneha\\anaconda3\\lib\\site-packages\\statsmodels\\tsa\\base\\tsa_model.py:524: ValueWarning: No frequency information was provided, so inferred frequency D will be used.\n",
      "  warnings.warn('No frequency information was'\n",
      "C:\\Users\\Sneha\\anaconda3\\lib\\site-packages\\statsmodels\\tsa\\base\\tsa_model.py:524: ValueWarning: No frequency information was provided, so inferred frequency D will be used.\n",
      "  warnings.warn('No frequency information was'\n",
      "C:\\Users\\Sneha\\anaconda3\\lib\\site-packages\\statsmodels\\tsa\\base\\tsa_model.py:524: ValueWarning: No frequency information was provided, so inferred frequency D will be used.\n",
      "  warnings.warn('No frequency information was'\n",
      "C:\\Users\\Sneha\\anaconda3\\lib\\site-packages\\statsmodels\\tsa\\base\\tsa_model.py:524: ValueWarning: No frequency information was provided, so inferred frequency D will be used.\n",
      "  warnings.warn('No frequency information was'\n"
     ]
    },
    {
     "name": "stdout",
     "output_type": "stream",
     "text": [
      "(4, 1, 2) 2857.4598080179894\n"
     ]
    },
    {
     "name": "stderr",
     "output_type": "stream",
     "text": [
      "C:\\Users\\Sneha\\anaconda3\\lib\\site-packages\\statsmodels\\tsa\\base\\tsa_model.py:524: ValueWarning: No frequency information was provided, so inferred frequency D will be used.\n",
      "  warnings.warn('No frequency information was'\n",
      "C:\\Users\\Sneha\\anaconda3\\lib\\site-packages\\statsmodels\\tsa\\base\\tsa_model.py:524: ValueWarning: No frequency information was provided, so inferred frequency D will be used.\n",
      "  warnings.warn('No frequency information was'\n",
      "C:\\Users\\Sneha\\anaconda3\\lib\\site-packages\\statsmodels\\tsa\\base\\tsa_model.py:524: ValueWarning: No frequency information was provided, so inferred frequency D will be used.\n",
      "  warnings.warn('No frequency information was'\n",
      "C:\\Users\\Sneha\\anaconda3\\lib\\site-packages\\statsmodels\\tsa\\base\\tsa_model.py:524: ValueWarning: No frequency information was provided, so inferred frequency D will be used.\n",
      "  warnings.warn('No frequency information was'\n",
      "C:\\Users\\Sneha\\anaconda3\\lib\\site-packages\\statsmodels\\tsa\\base\\tsa_model.py:524: ValueWarning: No frequency information was provided, so inferred frequency D will be used.\n",
      "  warnings.warn('No frequency information was'\n",
      "C:\\Users\\Sneha\\anaconda3\\lib\\site-packages\\statsmodels\\tsa\\base\\tsa_model.py:524: ValueWarning: No frequency information was provided, so inferred frequency D will be used.\n",
      "  warnings.warn('No frequency information was'\n"
     ]
    },
    {
     "name": "stdout",
     "output_type": "stream",
     "text": [
      "(4, 2, 0) 3064.917374445709\n"
     ]
    },
    {
     "name": "stderr",
     "output_type": "stream",
     "text": [
      "C:\\Users\\Sneha\\anaconda3\\lib\\site-packages\\statsmodels\\tsa\\base\\tsa_model.py:524: ValueWarning: No frequency information was provided, so inferred frequency D will be used.\n",
      "  warnings.warn('No frequency information was'\n",
      "C:\\Users\\Sneha\\anaconda3\\lib\\site-packages\\statsmodels\\tsa\\base\\tsa_model.py:524: ValueWarning: No frequency information was provided, so inferred frequency D will be used.\n",
      "  warnings.warn('No frequency information was'\n",
      "C:\\Users\\Sneha\\anaconda3\\lib\\site-packages\\statsmodels\\tsa\\base\\tsa_model.py:524: ValueWarning: No frequency information was provided, so inferred frequency D will be used.\n",
      "  warnings.warn('No frequency information was'\n",
      "C:\\Users\\Sneha\\anaconda3\\lib\\site-packages\\statsmodels\\tsa\\base\\tsa_model.py:524: ValueWarning: No frequency information was provided, so inferred frequency D will be used.\n",
      "  warnings.warn('No frequency information was'\n"
     ]
    },
    {
     "name": "stdout",
     "output_type": "stream",
     "text": [
      "(4, 2, 2) 2911.5376773030666\n"
     ]
    },
    {
     "name": "stderr",
     "output_type": "stream",
     "text": [
      "C:\\Users\\Sneha\\anaconda3\\lib\\site-packages\\statsmodels\\tsa\\base\\tsa_model.py:524: ValueWarning: No frequency information was provided, so inferred frequency D will be used.\n",
      "  warnings.warn('No frequency information was'\n",
      "C:\\Users\\Sneha\\anaconda3\\lib\\site-packages\\statsmodels\\tsa\\base\\tsa_model.py:524: ValueWarning: No frequency information was provided, so inferred frequency D will be used.\n",
      "  warnings.warn('No frequency information was'\n",
      "C:\\Users\\Sneha\\anaconda3\\lib\\site-packages\\statsmodels\\tsa\\base\\tsa_model.py:524: ValueWarning: No frequency information was provided, so inferred frequency D will be used.\n",
      "  warnings.warn('No frequency information was'\n",
      "C:\\Users\\Sneha\\anaconda3\\lib\\site-packages\\statsmodels\\tsa\\base\\tsa_model.py:524: ValueWarning: No frequency information was provided, so inferred frequency D will be used.\n",
      "  warnings.warn('No frequency information was'\n"
     ]
    }
   ],
   "source": [
    "\n",
    "##The Python try… except statement catches an exception. It is used to test code for an error which is written in the “try” statement.\n",
    "#If an error is encountered, the contents of the “except” block are run.\n",
    "for params in pdq:#iterating params over pdq\n",
    "    try:\n",
    "        model_arima_11 = ARIMA(train1, order=params)#training model on various pdq values\n",
    "        model_arima_fit_11 = model_arima_11.fit()#training\n",
    "        print(params, model_arima_fit_11.aic)#printing parameter and aic values\n",
    "    except:\n",
    "        continue\n",
    "#take lowest aic score        "
   ]
  },
  {
   "cell_type": "code",
   "execution_count": 90,
   "id": "b7868941",
   "metadata": {},
   "outputs": [
    {
     "name": "stderr",
     "output_type": "stream",
     "text": [
      "C:\\Users\\Sneha\\anaconda3\\lib\\site-packages\\statsmodels\\tsa\\base\\tsa_model.py:524: ValueWarning: No frequency information was provided, so inferred frequency D will be used.\n",
      "  warnings.warn('No frequency information was'\n"
     ]
    }
   ],
   "source": [
    "## create the final model with lowest aic score parameter\n",
    "model_arima1 = ARIMA(train1, order=(4, 0,2))\n",
    "\n",
    "model_arima_fit1 = model_arima1.fit()#training"
   ]
  },
  {
   "cell_type": "code",
   "execution_count": 91,
   "id": "ffca12da",
   "metadata": {},
   "outputs": [
    {
     "name": "stdout",
     "output_type": "stream",
     "text": [
      "2829.200954483029\n"
     ]
    }
   ],
   "source": [
    "print(model_arima_fit1.aic)#aic score"
   ]
  },
  {
   "cell_type": "code",
   "execution_count": 101,
   "id": "23587583",
   "metadata": {},
   "outputs": [],
   "source": [
    "forecast_death = model_arima_fit1.forecast(steps=5)[0]"
   ]
  },
  {
   "cell_type": "code",
   "execution_count": 102,
   "id": "5282ccb7",
   "metadata": {},
   "outputs": [
    {
     "data": {
      "text/plain": [
       "array([ 262.46985175,   30.37750244, -185.97685826, -925.9460432 ,\n",
       "       -592.98503211])"
      ]
     },
     "execution_count": 102,
     "metadata": {},
     "output_type": "execute_result"
    }
   ],
   "source": [
    "forecast_death"
   ]
  },
  {
   "cell_type": "code",
   "execution_count": 103,
   "id": "b427a653",
   "metadata": {
    "scrolled": true
   },
   "outputs": [
    {
     "data": {
      "text/plain": [
       "[<matplotlib.lines.Line2D at 0x19c902c3b20>]"
      ]
     },
     "execution_count": 103,
     "metadata": {},
     "output_type": "execute_result"
    },
    {
     "data": {
      "image/png": "[encoded data removed]",
      "text/plain": [
       "<Figure size 432x288 with 1 Axes>"
      ]
     },
     "metadata": {
      "needs_background": "light"
     },
     "output_type": "display_data"
    }
   ],
   "source": [
    "plt.plot(forecast_death,color='red')#line plot for prediction"
   ]
  },
  {
   "cell_type": "markdown",
   "id": "8f1bb4e1",
   "metadata": {},
   "source": [
    "# Recovered Model"
   ]
  },
  {
   "cell_type": "code",
   "execution_count": 106,
   "id": "8d7698bd",
   "metadata": {},
   "outputs": [],
   "source": [
    "train2=total_recovered3[:180]\n",
    "test2=total_recovered3[180:]"
   ]
  },
  {
   "cell_type": "code",
   "execution_count": 107,
   "id": "c7d0dcd4",
   "metadata": {},
   "outputs": [
    {
     "name": "stderr",
     "output_type": "stream",
     "text": [
      "C:\\Users\\Sneha\\anaconda3\\lib\\site-packages\\statsmodels\\tsa\\arima_model.py:472: FutureWarning: \n",
      "statsmodels.tsa.arima_model.ARMA and statsmodels.tsa.arima_model.ARIMA have\n",
      "been deprecated in favor of statsmodels.tsa.arima.model.ARIMA (note the .\n",
      "between arima and model) and\n",
      "statsmodels.tsa.SARIMAX. These will be removed after the 0.12 release.\n",
      "\n",
      "statsmodels.tsa.arima.model.ARIMA makes use of the statespace framework and\n",
      "is both well tested and maintained.\n",
      "\n",
      "To silence this warning and continue using ARMA and ARIMA until they are\n",
      "removed, use:\n",
      "\n",
      "import warnings\n",
      "warnings.filterwarnings('ignore', 'statsmodels.tsa.arima_model.ARMA',\n",
      "                        FutureWarning)\n",
      "warnings.filterwarnings('ignore', 'statsmodels.tsa.arima_model.ARIMA',\n",
      "                        FutureWarning)\n",
      "\n",
      "  warnings.warn(ARIMA_DEPRECATION_WARN, FutureWarning)\n",
      "C:\\Users\\Sneha\\anaconda3\\lib\\site-packages\\statsmodels\\tsa\\base\\tsa_model.py:524: ValueWarning: No frequency information was provided, so inferred frequency D will be used.\n",
      "  warnings.warn('No frequency information was'\n",
      "C:\\Users\\Sneha\\anaconda3\\lib\\site-packages\\statsmodels\\tsa\\base\\tsa_model.py:524: ValueWarning: No frequency information was provided, so inferred frequency D will be used.\n",
      "  warnings.warn('No frequency information was'\n"
     ]
    },
    {
     "name": "stdout",
     "output_type": "stream",
     "text": [
      "(0, 0, 0) 4178.716059364142\n",
      "(0, 0, 1) 4066.1910631383544\n"
     ]
    },
    {
     "name": "stderr",
     "output_type": "stream",
     "text": [
      "C:\\Users\\Sneha\\anaconda3\\lib\\site-packages\\statsmodels\\tsa\\base\\tsa_model.py:524: ValueWarning: No frequency information was provided, so inferred frequency D will be used.\n",
      "  warnings.warn('No frequency information was'\n",
      "C:\\Users\\Sneha\\anaconda3\\lib\\site-packages\\statsmodels\\tsa\\base\\tsa_model.py:524: ValueWarning: No frequency information was provided, so inferred frequency D will be used.\n",
      "  warnings.warn('No frequency information was'\n"
     ]
    },
    {
     "name": "stdout",
     "output_type": "stream",
     "text": [
      "(0, 0, 2) 4065.9541749711157\n",
      "(0, 0, 3) 4064.6958975308903\n"
     ]
    },
    {
     "name": "stderr",
     "output_type": "stream",
     "text": [
      "C:\\Users\\Sneha\\anaconda3\\lib\\site-packages\\statsmodels\\tsa\\base\\tsa_model.py:524: ValueWarning: No frequency information was provided, so inferred frequency D will be used.\n",
      "  warnings.warn('No frequency information was'\n"
     ]
    },
    {
     "name": "stdout",
     "output_type": "stream",
     "text": [
      "(0, 0, 4) 4065.658532139683\n",
      "(0, 1, 0) 4365.111354771229\n",
      "(0, 1, 1) 4163.554037105689\n"
     ]
    },
    {
     "name": "stderr",
     "output_type": "stream",
     "text": [
      "C:\\Users\\Sneha\\anaconda3\\lib\\site-packages\\statsmodels\\tsa\\base\\tsa_model.py:524: ValueWarning: No frequency information was provided, so inferred frequency D will be used.\n",
      "  warnings.warn('No frequency information was'\n",
      "C:\\Users\\Sneha\\anaconda3\\lib\\site-packages\\statsmodels\\tsa\\base\\tsa_model.py:524: ValueWarning: No frequency information was provided, so inferred frequency D will be used.\n",
      "  warnings.warn('No frequency information was'\n",
      "C:\\Users\\Sneha\\anaconda3\\lib\\site-packages\\statsmodels\\tsa\\base\\tsa_model.py:524: ValueWarning: No frequency information was provided, so inferred frequency D will be used.\n",
      "  warnings.warn('No frequency information was'\n",
      "C:\\Users\\Sneha\\anaconda3\\lib\\site-packages\\statsmodels\\tsa\\base\\tsa_model.py:524: ValueWarning: No frequency information was provided, so inferred frequency D will be used.\n",
      "  warnings.warn('No frequency information was'\n",
      "C:\\Users\\Sneha\\anaconda3\\lib\\site-packages\\statsmodels\\tsa\\base\\tsa_model.py:524: ValueWarning: No frequency information was provided, so inferred frequency D will be used.\n",
      "  warnings.warn('No frequency information was'\n",
      "C:\\Users\\Sneha\\anaconda3\\lib\\site-packages\\statsmodels\\tsa\\base\\tsa_model.py:524: ValueWarning: No frequency information was provided, so inferred frequency D will be used.\n",
      "  warnings.warn('No frequency information was'\n"
     ]
    },
    {
     "name": "stdout",
     "output_type": "stream",
     "text": [
      "(0, 1, 2) 4038.3215426971196\n"
     ]
    },
    {
     "name": "stderr",
     "output_type": "stream",
     "text": [
      "C:\\Users\\Sneha\\anaconda3\\lib\\site-packages\\statsmodels\\tsa\\base\\tsa_model.py:524: ValueWarning: No frequency information was provided, so inferred frequency D will be used.\n",
      "  warnings.warn('No frequency information was'\n",
      "C:\\Users\\Sneha\\anaconda3\\lib\\site-packages\\statsmodels\\tsa\\base\\tsa_model.py:524: ValueWarning: No frequency information was provided, so inferred frequency D will be used.\n",
      "  warnings.warn('No frequency information was'\n",
      "C:\\Users\\Sneha\\anaconda3\\lib\\site-packages\\statsmodels\\base\\model.py:566: ConvergenceWarning: Maximum Likelihood optimization failed to converge. Check mle_retvals\n",
      "  warnings.warn(\"Maximum Likelihood optimization failed to \"\n",
      "C:\\Users\\Sneha\\anaconda3\\lib\\site-packages\\statsmodels\\tsa\\base\\tsa_model.py:524: ValueWarning: No frequency information was provided, so inferred frequency D will be used.\n",
      "  warnings.warn('No frequency information was'\n",
      "C:\\Users\\Sneha\\anaconda3\\lib\\site-packages\\statsmodels\\tsa\\base\\tsa_model.py:524: ValueWarning: No frequency information was provided, so inferred frequency D will be used.\n",
      "  warnings.warn('No frequency information was'\n"
     ]
    },
    {
     "name": "stdout",
     "output_type": "stream",
     "text": [
      "(0, 1, 3) 4039.5707121458754\n",
      "(0, 1, 4) 4036.392769504521\n",
      "(0, 2, 0) 4565.161235059068\n",
      "(0, 2, 1) 4348.930773726372\n"
     ]
    },
    {
     "name": "stderr",
     "output_type": "stream",
     "text": [
      "C:\\Users\\Sneha\\anaconda3\\lib\\site-packages\\statsmodels\\tsa\\base\\tsa_model.py:524: ValueWarning: No frequency information was provided, so inferred frequency D will be used.\n",
      "  warnings.warn('No frequency information was'\n",
      "C:\\Users\\Sneha\\anaconda3\\lib\\site-packages\\statsmodels\\tsa\\base\\tsa_model.py:524: ValueWarning: No frequency information was provided, so inferred frequency D will be used.\n",
      "  warnings.warn('No frequency information was'\n",
      "C:\\Users\\Sneha\\anaconda3\\lib\\site-packages\\statsmodels\\tsa\\base\\tsa_model.py:524: ValueWarning: No frequency information was provided, so inferred frequency D will be used.\n",
      "  warnings.warn('No frequency information was'\n",
      "C:\\Users\\Sneha\\anaconda3\\lib\\site-packages\\statsmodels\\tsa\\base\\tsa_model.py:524: ValueWarning: No frequency information was provided, so inferred frequency D will be used.\n",
      "  warnings.warn('No frequency information was'\n",
      "C:\\Users\\Sneha\\anaconda3\\lib\\site-packages\\statsmodels\\tsa\\base\\tsa_model.py:524: ValueWarning: No frequency information was provided, so inferred frequency D will be used.\n",
      "  warnings.warn('No frequency information was'\n",
      "C:\\Users\\Sneha\\anaconda3\\lib\\site-packages\\statsmodels\\tsa\\base\\tsa_model.py:524: ValueWarning: No frequency information was provided, so inferred frequency D will be used.\n",
      "  warnings.warn('No frequency information was'\n",
      "C:\\Users\\Sneha\\anaconda3\\lib\\site-packages\\statsmodels\\tsa\\base\\tsa_model.py:524: ValueWarning: No frequency information was provided, so inferred frequency D will be used.\n",
      "  warnings.warn('No frequency information was'\n",
      "C:\\Users\\Sneha\\anaconda3\\lib\\site-packages\\statsmodels\\tsa\\base\\tsa_model.py:524: ValueWarning: No frequency information was provided, so inferred frequency D will be used.\n",
      "  warnings.warn('No frequency information was'\n",
      "C:\\Users\\Sneha\\anaconda3\\lib\\site-packages\\statsmodels\\tsa\\tsatools.py:726: RuntimeWarning: invalid value encountered in double_scalars\n",
      "  tmp[kiter] = (macoefs[kiter]-b *macoefs[j-kiter-1])/(1-b**2)\n",
      "C:\\Users\\Sneha\\anaconda3\\lib\\site-packages\\statsmodels\\tsa\\tsatools.py:728: RuntimeWarning: divide by zero encountered in log\n",
      "  invmacoefs = -np.log((1-macoefs)/(1+macoefs))\n",
      "C:\\Users\\Sneha\\anaconda3\\lib\\site-packages\\scipy\\optimize\\_numdiff.py:470: RuntimeWarning: invalid value encountered in subtract\n",
      "  dx = ((x0 + h) - x0)\n",
      "C:\\Users\\Sneha\\anaconda3\\lib\\site-packages\\scipy\\optimize\\_numdiff.py:556: RuntimeWarning: invalid value encountered in double_scalars\n",
      "  dx = x[i] - x0[i]  # Recompute dx as exactly representable number.\n",
      "C:\\Users\\Sneha\\anaconda3\\lib\\site-packages\\statsmodels\\tsa\\tsatools.py:701: RuntimeWarning: invalid value encountered in true_divide\n",
      "  newparams = ((1-np.exp(-params))/(1+np.exp(-params))).copy()\n",
      "C:\\Users\\Sneha\\anaconda3\\lib\\site-packages\\statsmodels\\tsa\\tsatools.py:702: RuntimeWarning: invalid value encountered in true_divide\n",
      "  tmp = ((1-np.exp(-params))/(1+np.exp(-params))).copy()\n",
      "C:\\Users\\Sneha\\anaconda3\\lib\\site-packages\\statsmodels\\tsa\\kalmanf\\kalmanfilter.py:222: RuntimeWarning: invalid value encountered in log\n",
      "  loglike, sigma2 = kalman_loglike.kalman_loglike_complex(\n",
      "C:\\Users\\Sneha\\anaconda3\\lib\\site-packages\\statsmodels\\tsa\\kalmanf\\kalmanfilter.py:222: RuntimeWarning: invalid value encountered in true_divide\n",
      "  loglike, sigma2 = kalman_loglike.kalman_loglike_complex(\n",
      "C:\\Users\\Sneha\\anaconda3\\lib\\site-packages\\statsmodels\\tools\\numdiff.py:242: RuntimeWarning: invalid value encountered in subtract\n",
      "  - f(*((x + 1j*ee[i, :] - ee[j, :],)+args),\n",
      "C:\\Users\\Sneha\\anaconda3\\lib\\site-packages\\statsmodels\\tools\\numdiff.py:241: RuntimeWarning: invalid value encountered in multiply\n",
      "  hess[i, j] = (f(*((x + 1j*ee[i, :] + ee[j, :],) + args), **kwargs)\n",
      "C:\\Users\\Sneha\\anaconda3\\lib\\site-packages\\statsmodels\\tools\\numdiff.py:242: RuntimeWarning: invalid value encountered in multiply\n",
      "  - f(*((x + 1j*ee[i, :] - ee[j, :],)+args),\n",
      "C:\\Users\\Sneha\\anaconda3\\lib\\site-packages\\statsmodels\\base\\model.py:547: HessianInversionWarning: Inverting hessian failed, no bse or cov_params available\n",
      "  warnings.warn('Inverting hessian failed, no bse or cov_params '\n",
      "C:\\Users\\Sneha\\anaconda3\\lib\\site-packages\\statsmodels\\base\\model.py:566: ConvergenceWarning: Maximum Likelihood optimization failed to converge. Check mle_retvals\n",
      "  warnings.warn(\"Maximum Likelihood optimization failed to \"\n",
      "C:\\Users\\Sneha\\anaconda3\\lib\\site-packages\\statsmodels\\tsa\\base\\tsa_model.py:524: ValueWarning: No frequency information was provided, so inferred frequency D will be used.\n",
      "  warnings.warn('No frequency information was'\n",
      "C:\\Users\\Sneha\\anaconda3\\lib\\site-packages\\statsmodels\\tsa\\base\\tsa_model.py:524: ValueWarning: No frequency information was provided, so inferred frequency D will be used.\n",
      "  warnings.warn('No frequency information was'\n",
      "C:\\Users\\Sneha\\anaconda3\\lib\\site-packages\\statsmodels\\tsa\\tsatools.py:701: RuntimeWarning: overflow encountered in exp\n",
      "  newparams = ((1-np.exp(-params))/(1+np.exp(-params))).copy()\n",
      "C:\\Users\\Sneha\\anaconda3\\lib\\site-packages\\statsmodels\\tsa\\tsatools.py:702: RuntimeWarning: overflow encountered in exp\n",
      "  tmp = ((1-np.exp(-params))/(1+np.exp(-params))).copy()\n"
     ]
    },
    {
     "name": "stdout",
     "output_type": "stream",
     "text": [
      "(0, 2, 3) nan\n",
      "(0, 2, 4) 4080.2667607699927\n",
      "(1, 0, 0) 4099.182238550551\n"
     ]
    },
    {
     "name": "stderr",
     "output_type": "stream",
     "text": [
      "C:\\Users\\Sneha\\anaconda3\\lib\\site-packages\\statsmodels\\tsa\\base\\tsa_model.py:524: ValueWarning: No frequency information was provided, so inferred frequency D will be used.\n",
      "  warnings.warn('No frequency information was'\n",
      "C:\\Users\\Sneha\\anaconda3\\lib\\site-packages\\statsmodels\\tsa\\base\\tsa_model.py:524: ValueWarning: No frequency information was provided, so inferred frequency D will be used.\n",
      "  warnings.warn('No frequency information was'\n"
     ]
    },
    {
     "name": "stdout",
     "output_type": "stream",
     "text": [
      "(1, 0, 1) 4065.3627158626723\n",
      "(1, 0, 2) 4065.697889989064\n"
     ]
    },
    {
     "name": "stderr",
     "output_type": "stream",
     "text": [
      "C:\\Users\\Sneha\\anaconda3\\lib\\site-packages\\statsmodels\\tsa\\base\\tsa_model.py:524: ValueWarning: No frequency information was provided, so inferred frequency D will be used.\n",
      "  warnings.warn('No frequency information was'\n",
      "C:\\Users\\Sneha\\anaconda3\\lib\\site-packages\\statsmodels\\tsa\\base\\tsa_model.py:524: ValueWarning: No frequency information was provided, so inferred frequency D will be used.\n",
      "  warnings.warn('No frequency information was'\n"
     ]
    },
    {
     "name": "stdout",
     "output_type": "stream",
     "text": [
      "(1, 0, 3) 4066.3653731627446\n",
      "(1, 1, 0) 4213.054032158148\n"
     ]
    },
    {
     "name": "stderr",
     "output_type": "stream",
     "text": [
      "C:\\Users\\Sneha\\anaconda3\\lib\\site-packages\\statsmodels\\tsa\\base\\tsa_model.py:524: ValueWarning: No frequency information was provided, so inferred frequency D will be used.\n",
      "  warnings.warn('No frequency information was'\n",
      "C:\\Users\\Sneha\\anaconda3\\lib\\site-packages\\statsmodels\\tsa\\base\\tsa_model.py:524: ValueWarning: No frequency information was provided, so inferred frequency D will be used.\n",
      "  warnings.warn('No frequency information was'\n",
      "C:\\Users\\Sneha\\anaconda3\\lib\\site-packages\\statsmodels\\tsa\\base\\tsa_model.py:524: ValueWarning: No frequency information was provided, so inferred frequency D will be used.\n",
      "  warnings.warn('No frequency information was'\n",
      "C:\\Users\\Sneha\\anaconda3\\lib\\site-packages\\statsmodels\\tsa\\base\\tsa_model.py:524: ValueWarning: No frequency information was provided, so inferred frequency D will be used.\n",
      "  warnings.warn('No frequency information was'\n",
      "C:\\Users\\Sneha\\anaconda3\\lib\\site-packages\\statsmodels\\tsa\\base\\tsa_model.py:524: ValueWarning: No frequency information was provided, so inferred frequency D will be used.\n",
      "  warnings.warn('No frequency information was'\n",
      "C:\\Users\\Sneha\\anaconda3\\lib\\site-packages\\statsmodels\\tsa\\base\\tsa_model.py:524: ValueWarning: No frequency information was provided, so inferred frequency D will be used.\n",
      "  warnings.warn('No frequency information was'\n",
      "C:\\Users\\Sneha\\anaconda3\\lib\\site-packages\\statsmodels\\tsa\\base\\tsa_model.py:524: ValueWarning: No frequency information was provided, so inferred frequency D will be used.\n",
      "  warnings.warn('No frequency information was'\n",
      "C:\\Users\\Sneha\\anaconda3\\lib\\site-packages\\statsmodels\\tsa\\base\\tsa_model.py:524: ValueWarning: No frequency information was provided, so inferred frequency D will be used.\n",
      "  warnings.warn('No frequency information was'\n",
      "C:\\Users\\Sneha\\anaconda3\\lib\\site-packages\\statsmodels\\tsa\\base\\tsa_model.py:524: ValueWarning: No frequency information was provided, so inferred frequency D will be used.\n",
      "  warnings.warn('No frequency information was'\n",
      "C:\\Users\\Sneha\\anaconda3\\lib\\site-packages\\statsmodels\\tsa\\base\\tsa_model.py:524: ValueWarning: No frequency information was provided, so inferred frequency D will be used.\n",
      "  warnings.warn('No frequency information was'\n",
      "C:\\Users\\Sneha\\anaconda3\\lib\\site-packages\\statsmodels\\tsa\\base\\tsa_model.py:524: ValueWarning: No frequency information was provided, so inferred frequency D will be used.\n",
      "  warnings.warn('No frequency information was'\n",
      "C:\\Users\\Sneha\\anaconda3\\lib\\site-packages\\statsmodels\\tsa\\base\\tsa_model.py:524: ValueWarning: No frequency information was provided, so inferred frequency D will be used.\n",
      "  warnings.warn('No frequency information was'\n",
      "C:\\Users\\Sneha\\anaconda3\\lib\\site-packages\\statsmodels\\tsa\\base\\tsa_model.py:524: ValueWarning: No frequency information was provided, so inferred frequency D will be used.\n",
      "  warnings.warn('No frequency information was'\n",
      "C:\\Users\\Sneha\\anaconda3\\lib\\site-packages\\statsmodels\\tsa\\base\\tsa_model.py:524: ValueWarning: No frequency information was provided, so inferred frequency D will be used.\n",
      "  warnings.warn('No frequency information was'\n",
      "C:\\Users\\Sneha\\anaconda3\\lib\\site-packages\\statsmodels\\tsa\\base\\tsa_model.py:524: ValueWarning: No frequency information was provided, so inferred frequency D will be used.\n",
      "  warnings.warn('No frequency information was'\n",
      "C:\\Users\\Sneha\\anaconda3\\lib\\site-packages\\statsmodels\\tsa\\base\\tsa_model.py:524: ValueWarning: No frequency information was provided, so inferred frequency D will be used.\n",
      "  warnings.warn('No frequency information was'\n"
     ]
    },
    {
     "name": "stdout",
     "output_type": "stream",
     "text": [
      "(1, 2, 0) 4367.092657460386\n"
     ]
    },
    {
     "name": "stderr",
     "output_type": "stream",
     "text": [
      "C:\\Users\\Sneha\\anaconda3\\lib\\site-packages\\statsmodels\\tsa\\base\\tsa_model.py:524: ValueWarning: No frequency information was provided, so inferred frequency D will be used.\n",
      "  warnings.warn('No frequency information was'\n",
      "C:\\Users\\Sneha\\anaconda3\\lib\\site-packages\\statsmodels\\tsa\\tsatools.py:728: RuntimeWarning: divide by zero encountered in true_divide\n",
      "  invmacoefs = -np.log((1-macoefs)/(1+macoefs))\n",
      "C:\\Users\\Sneha\\anaconda3\\lib\\site-packages\\statsmodels\\tsa\\base\\tsa_model.py:524: ValueWarning: No frequency information was provided, so inferred frequency D will be used.\n",
      "  warnings.warn('No frequency information was'\n",
      "C:\\Users\\Sneha\\anaconda3\\lib\\site-packages\\statsmodels\\tsa\\base\\tsa_model.py:524: ValueWarning: No frequency information was provided, so inferred frequency D will be used.\n",
      "  warnings.warn('No frequency information was'\n",
      "C:\\Users\\Sneha\\anaconda3\\lib\\site-packages\\statsmodels\\tsa\\base\\tsa_model.py:524: ValueWarning: No frequency information was provided, so inferred frequency D will be used.\n",
      "  warnings.warn('No frequency information was'\n",
      "C:\\Users\\Sneha\\anaconda3\\lib\\site-packages\\statsmodels\\tsa\\base\\tsa_model.py:524: ValueWarning: No frequency information was provided, so inferred frequency D will be used.\n",
      "  warnings.warn('No frequency information was'\n",
      "C:\\Users\\Sneha\\anaconda3\\lib\\site-packages\\statsmodels\\tsa\\base\\tsa_model.py:524: ValueWarning: No frequency information was provided, so inferred frequency D will be used.\n",
      "  warnings.warn('No frequency information was'\n"
     ]
    },
    {
     "name": "stdout",
     "output_type": "stream",
     "text": [
      "(2, 0, 0) 4089.2068880011543\n",
      "(2, 0, 1) 4065.1927847348893\n"
     ]
    },
    {
     "name": "stderr",
     "output_type": "stream",
     "text": [
      "C:\\Users\\Sneha\\anaconda3\\lib\\site-packages\\statsmodels\\tsa\\base\\tsa_model.py:524: ValueWarning: No frequency information was provided, so inferred frequency D will be used.\n",
      "  warnings.warn('No frequency information was'\n",
      "C:\\Users\\Sneha\\anaconda3\\lib\\site-packages\\statsmodels\\tsa\\base\\tsa_model.py:524: ValueWarning: No frequency information was provided, so inferred frequency D will be used.\n",
      "  warnings.warn('No frequency information was'\n"
     ]
    },
    {
     "name": "stdout",
     "output_type": "stream",
     "text": [
      "(2, 0, 2) 4067.061779907379\n"
     ]
    },
    {
     "name": "stderr",
     "output_type": "stream",
     "text": [
      "C:\\Users\\Sneha\\anaconda3\\lib\\site-packages\\statsmodels\\tsa\\base\\tsa_model.py:524: ValueWarning: No frequency information was provided, so inferred frequency D will be used.\n",
      "  warnings.warn('No frequency information was'\n"
     ]
    },
    {
     "name": "stdout",
     "output_type": "stream",
     "text": [
      "(2, 0, 3) 4060.770841275578\n"
     ]
    },
    {
     "name": "stderr",
     "output_type": "stream",
     "text": [
      "C:\\Users\\Sneha\\anaconda3\\lib\\site-packages\\statsmodels\\tsa\\base\\tsa_model.py:524: ValueWarning: No frequency information was provided, so inferred frequency D will be used.\n",
      "  warnings.warn('No frequency information was'\n"
     ]
    },
    {
     "name": "stdout",
     "output_type": "stream",
     "text": [
      "(2, 0, 4) 4063.0612943117585\n",
      "(2, 1, 0) 4163.735755440105\n"
     ]
    },
    {
     "name": "stderr",
     "output_type": "stream",
     "text": [
      "C:\\Users\\Sneha\\anaconda3\\lib\\site-packages\\statsmodels\\tsa\\base\\tsa_model.py:524: ValueWarning: No frequency information was provided, so inferred frequency D will be used.\n",
      "  warnings.warn('No frequency information was'\n",
      "C:\\Users\\Sneha\\anaconda3\\lib\\site-packages\\statsmodels\\tsa\\base\\tsa_model.py:524: ValueWarning: No frequency information was provided, so inferred frequency D will be used.\n",
      "  warnings.warn('No frequency information was'\n",
      "C:\\Users\\Sneha\\anaconda3\\lib\\site-packages\\statsmodels\\tsa\\base\\tsa_model.py:524: ValueWarning: No frequency information was provided, so inferred frequency D will be used.\n",
      "  warnings.warn('No frequency information was'\n",
      "C:\\Users\\Sneha\\anaconda3\\lib\\site-packages\\statsmodels\\tsa\\base\\tsa_model.py:524: ValueWarning: No frequency information was provided, so inferred frequency D will be used.\n",
      "  warnings.warn('No frequency information was'\n",
      "C:\\Users\\Sneha\\anaconda3\\lib\\site-packages\\statsmodels\\tsa\\base\\tsa_model.py:524: ValueWarning: No frequency information was provided, so inferred frequency D will be used.\n",
      "  warnings.warn('No frequency information was'\n",
      "C:\\Users\\Sneha\\anaconda3\\lib\\site-packages\\statsmodels\\tsa\\base\\tsa_model.py:524: ValueWarning: No frequency information was provided, so inferred frequency D will be used.\n",
      "  warnings.warn('No frequency information was'\n",
      "C:\\Users\\Sneha\\anaconda3\\lib\\site-packages\\statsmodels\\tsa\\base\\tsa_model.py:524: ValueWarning: No frequency information was provided, so inferred frequency D will be used.\n",
      "  warnings.warn('No frequency information was'\n",
      "C:\\Users\\Sneha\\anaconda3\\lib\\site-packages\\statsmodels\\tsa\\base\\tsa_model.py:524: ValueWarning: No frequency information was provided, so inferred frequency D will be used.\n",
      "  warnings.warn('No frequency information was'\n",
      "C:\\Users\\Sneha\\anaconda3\\lib\\site-packages\\statsmodels\\tsa\\base\\tsa_model.py:524: ValueWarning: No frequency information was provided, so inferred frequency D will be used.\n",
      "  warnings.warn('No frequency information was'\n",
      "C:\\Users\\Sneha\\anaconda3\\lib\\site-packages\\statsmodels\\tsa\\base\\tsa_model.py:524: ValueWarning: No frequency information was provided, so inferred frequency D will be used.\n",
      "  warnings.warn('No frequency information was'\n",
      "C:\\Users\\Sneha\\anaconda3\\lib\\site-packages\\statsmodels\\tsa\\base\\tsa_model.py:524: ValueWarning: No frequency information was provided, so inferred frequency D will be used.\n",
      "  warnings.warn('No frequency information was'\n",
      "C:\\Users\\Sneha\\anaconda3\\lib\\site-packages\\statsmodels\\tsa\\base\\tsa_model.py:524: ValueWarning: No frequency information was provided, so inferred frequency D will be used.\n",
      "  warnings.warn('No frequency information was'\n",
      "C:\\Users\\Sneha\\anaconda3\\lib\\site-packages\\statsmodels\\tsa\\base\\tsa_model.py:524: ValueWarning: No frequency information was provided, so inferred frequency D will be used.\n",
      "  warnings.warn('No frequency information was'\n",
      "C:\\Users\\Sneha\\anaconda3\\lib\\site-packages\\statsmodels\\tsa\\base\\tsa_model.py:524: ValueWarning: No frequency information was provided, so inferred frequency D will be used.\n",
      "  warnings.warn('No frequency information was'\n",
      "C:\\Users\\Sneha\\anaconda3\\lib\\site-packages\\statsmodels\\tsa\\base\\tsa_model.py:524: ValueWarning: No frequency information was provided, so inferred frequency D will be used.\n",
      "  warnings.warn('No frequency information was'\n",
      "C:\\Users\\Sneha\\anaconda3\\lib\\site-packages\\statsmodels\\tsa\\base\\tsa_model.py:524: ValueWarning: No frequency information was provided, so inferred frequency D will be used.\n",
      "  warnings.warn('No frequency information was'\n"
     ]
    },
    {
     "name": "stdout",
     "output_type": "stream",
     "text": [
      "(2, 2, 0) 4270.46771930944\n"
     ]
    },
    {
     "name": "stderr",
     "output_type": "stream",
     "text": [
      "C:\\Users\\Sneha\\anaconda3\\lib\\site-packages\\statsmodels\\tsa\\base\\tsa_model.py:524: ValueWarning: No frequency information was provided, so inferred frequency D will be used.\n",
      "  warnings.warn('No frequency information was'\n",
      "C:\\Users\\Sneha\\anaconda3\\lib\\site-packages\\statsmodels\\tsa\\base\\tsa_model.py:524: ValueWarning: No frequency information was provided, so inferred frequency D will be used.\n",
      "  warnings.warn('No frequency information was'\n",
      "C:\\Users\\Sneha\\anaconda3\\lib\\site-packages\\statsmodels\\tsa\\base\\tsa_model.py:524: ValueWarning: No frequency information was provided, so inferred frequency D will be used.\n",
      "  warnings.warn('No frequency information was'\n",
      "C:\\Users\\Sneha\\anaconda3\\lib\\site-packages\\statsmodels\\tsa\\base\\tsa_model.py:524: ValueWarning: No frequency information was provided, so inferred frequency D will be used.\n",
      "  warnings.warn('No frequency information was'\n",
      "C:\\Users\\Sneha\\anaconda3\\lib\\site-packages\\statsmodels\\base\\model.py:547: HessianInversionWarning: Inverting hessian failed, no bse or cov_params available\n",
      "  warnings.warn('Inverting hessian failed, no bse or cov_params '\n",
      "C:\\Users\\Sneha\\anaconda3\\lib\\site-packages\\statsmodels\\base\\model.py:566: ConvergenceWarning: Maximum Likelihood optimization failed to converge. Check mle_retvals\n",
      "  warnings.warn(\"Maximum Likelihood optimization failed to \"\n",
      "C:\\Users\\Sneha\\anaconda3\\lib\\site-packages\\statsmodels\\tsa\\base\\tsa_model.py:524: ValueWarning: No frequency information was provided, so inferred frequency D will be used.\n",
      "  warnings.warn('No frequency information was'\n",
      "C:\\Users\\Sneha\\anaconda3\\lib\\site-packages\\statsmodels\\tsa\\base\\tsa_model.py:524: ValueWarning: No frequency information was provided, so inferred frequency D will be used.\n",
      "  warnings.warn('No frequency information was'\n"
     ]
    },
    {
     "name": "stdout",
     "output_type": "stream",
     "text": [
      "(2, 2, 4) 4062.688751157823\n",
      "(3, 0, 0) 4087.2458676587225\n",
      "(3, 0, 1) 4066.7690265682595\n"
     ]
    },
    {
     "name": "stderr",
     "output_type": "stream",
     "text": [
      "C:\\Users\\Sneha\\anaconda3\\lib\\site-packages\\statsmodels\\tsa\\base\\tsa_model.py:524: ValueWarning: No frequency information was provided, so inferred frequency D will be used.\n",
      "  warnings.warn('No frequency information was'\n",
      "C:\\Users\\Sneha\\anaconda3\\lib\\site-packages\\statsmodels\\base\\model.py:547: HessianInversionWarning: Inverting hessian failed, no bse or cov_params available\n",
      "  warnings.warn('Inverting hessian failed, no bse or cov_params '\n",
      "C:\\Users\\Sneha\\anaconda3\\lib\\site-packages\\statsmodels\\tsa\\base\\tsa_model.py:524: ValueWarning: No frequency information was provided, so inferred frequency D will be used.\n",
      "  warnings.warn('No frequency information was'\n",
      "C:\\Users\\Sneha\\anaconda3\\lib\\site-packages\\statsmodels\\tsa\\tsatools.py:684: RuntimeWarning: invalid value encountered in arctanh\n",
      "  invarcoefs = 2*np.arctanh(params)\n",
      "C:\\Users\\Sneha\\anaconda3\\lib\\site-packages\\statsmodels\\tsa\\base\\tsa_model.py:524: ValueWarning: No frequency information was provided, so inferred frequency D will be used.\n",
      "  warnings.warn('No frequency information was'\n"
     ]
    },
    {
     "name": "stdout",
     "output_type": "stream",
     "text": [
      "(3, 0, 2) 4069.772174434835\n"
     ]
    },
    {
     "name": "stderr",
     "output_type": "stream",
     "text": [
      "C:\\Users\\Sneha\\anaconda3\\lib\\site-packages\\statsmodels\\base\\model.py:547: HessianInversionWarning: Inverting hessian failed, no bse or cov_params available\n",
      "  warnings.warn('Inverting hessian failed, no bse or cov_params '\n",
      "C:\\Users\\Sneha\\anaconda3\\lib\\site-packages\\statsmodels\\base\\model.py:566: ConvergenceWarning: Maximum Likelihood optimization failed to converge. Check mle_retvals\n",
      "  warnings.warn(\"Maximum Likelihood optimization failed to \"\n",
      "C:\\Users\\Sneha\\anaconda3\\lib\\site-packages\\statsmodels\\tsa\\base\\tsa_model.py:524: ValueWarning: No frequency information was provided, so inferred frequency D will be used.\n",
      "  warnings.warn('No frequency information was'\n",
      "C:\\Users\\Sneha\\anaconda3\\lib\\site-packages\\statsmodels\\tsa\\base\\tsa_model.py:524: ValueWarning: No frequency information was provided, so inferred frequency D will be used.\n",
      "  warnings.warn('No frequency information was'\n"
     ]
    },
    {
     "name": "stdout",
     "output_type": "stream",
     "text": [
      "(3, 0, 4) 4192.550314581678\n",
      "(3, 1, 0) 4147.831315694366\n"
     ]
    },
    {
     "name": "stderr",
     "output_type": "stream",
     "text": [
      "C:\\Users\\Sneha\\anaconda3\\lib\\site-packages\\statsmodels\\tsa\\base\\tsa_model.py:524: ValueWarning: No frequency information was provided, so inferred frequency D will be used.\n",
      "  warnings.warn('No frequency information was'\n",
      "C:\\Users\\Sneha\\anaconda3\\lib\\site-packages\\statsmodels\\tsa\\base\\tsa_model.py:524: ValueWarning: No frequency information was provided, so inferred frequency D will be used.\n",
      "  warnings.warn('No frequency information was'\n",
      "C:\\Users\\Sneha\\anaconda3\\lib\\site-packages\\statsmodels\\tsa\\base\\tsa_model.py:524: ValueWarning: No frequency information was provided, so inferred frequency D will be used.\n",
      "  warnings.warn('No frequency information was'\n",
      "C:\\Users\\Sneha\\anaconda3\\lib\\site-packages\\statsmodels\\tsa\\base\\tsa_model.py:524: ValueWarning: No frequency information was provided, so inferred frequency D will be used.\n",
      "  warnings.warn('No frequency information was'\n",
      "C:\\Users\\Sneha\\anaconda3\\lib\\site-packages\\statsmodels\\tsa\\base\\tsa_model.py:524: ValueWarning: No frequency information was provided, so inferred frequency D will be used.\n",
      "  warnings.warn('No frequency information was'\n",
      "C:\\Users\\Sneha\\anaconda3\\lib\\site-packages\\statsmodels\\tsa\\base\\tsa_model.py:524: ValueWarning: No frequency information was provided, so inferred frequency D will be used.\n",
      "  warnings.warn('No frequency information was'\n",
      "C:\\Users\\Sneha\\anaconda3\\lib\\site-packages\\statsmodels\\tsa\\base\\tsa_model.py:524: ValueWarning: No frequency information was provided, so inferred frequency D will be used.\n",
      "  warnings.warn('No frequency information was'\n",
      "C:\\Users\\Sneha\\anaconda3\\lib\\site-packages\\statsmodels\\tsa\\base\\tsa_model.py:524: ValueWarning: No frequency information was provided, so inferred frequency D will be used.\n",
      "  warnings.warn('No frequency information was'\n",
      "C:\\Users\\Sneha\\anaconda3\\lib\\site-packages\\statsmodels\\tsa\\base\\tsa_model.py:524: ValueWarning: No frequency information was provided, so inferred frequency D will be used.\n",
      "  warnings.warn('No frequency information was'\n",
      "C:\\Users\\Sneha\\anaconda3\\lib\\site-packages\\statsmodels\\tsa\\base\\tsa_model.py:524: ValueWarning: No frequency information was provided, so inferred frequency D will be used.\n",
      "  warnings.warn('No frequency information was'\n"
     ]
    },
    {
     "name": "stdout",
     "output_type": "stream",
     "text": [
      "(3, 2, 0) 4226.1850724500255\n"
     ]
    },
    {
     "name": "stderr",
     "output_type": "stream",
     "text": [
      "C:\\Users\\Sneha\\anaconda3\\lib\\site-packages\\statsmodels\\tsa\\base\\tsa_model.py:524: ValueWarning: No frequency information was provided, so inferred frequency D will be used.\n",
      "  warnings.warn('No frequency information was'\n",
      "C:\\Users\\Sneha\\anaconda3\\lib\\site-packages\\statsmodels\\tsa\\base\\tsa_model.py:524: ValueWarning: No frequency information was provided, so inferred frequency D will be used.\n",
      "  warnings.warn('No frequency information was'\n",
      "C:\\Users\\Sneha\\anaconda3\\lib\\site-packages\\statsmodels\\tsa\\base\\tsa_model.py:524: ValueWarning: No frequency information was provided, so inferred frequency D will be used.\n",
      "  warnings.warn('No frequency information was'\n",
      "C:\\Users\\Sneha\\anaconda3\\lib\\site-packages\\statsmodels\\tsa\\base\\tsa_model.py:524: ValueWarning: No frequency information was provided, so inferred frequency D will be used.\n",
      "  warnings.warn('No frequency information was'\n",
      "C:\\Users\\Sneha\\anaconda3\\lib\\site-packages\\statsmodels\\tsa\\base\\tsa_model.py:524: ValueWarning: No frequency information was provided, so inferred frequency D will be used.\n",
      "  warnings.warn('No frequency information was'\n",
      "C:\\Users\\Sneha\\anaconda3\\lib\\site-packages\\statsmodels\\tsa\\base\\tsa_model.py:524: ValueWarning: No frequency information was provided, so inferred frequency D will be used.\n",
      "  warnings.warn('No frequency information was'\n",
      "C:\\Users\\Sneha\\anaconda3\\lib\\site-packages\\statsmodels\\tsa\\base\\tsa_model.py:524: ValueWarning: No frequency information was provided, so inferred frequency D will be used.\n",
      "  warnings.warn('No frequency information was'\n",
      "C:\\Users\\Sneha\\anaconda3\\lib\\site-packages\\statsmodels\\tsa\\base\\tsa_model.py:524: ValueWarning: No frequency information was provided, so inferred frequency D will be used.\n",
      "  warnings.warn('No frequency information was'\n",
      "C:\\Users\\Sneha\\anaconda3\\lib\\site-packages\\statsmodels\\tsa\\base\\tsa_model.py:524: ValueWarning: No frequency information was provided, so inferred frequency D will be used.\n",
      "  warnings.warn('No frequency information was'\n",
      "C:\\Users\\Sneha\\anaconda3\\lib\\site-packages\\statsmodels\\tsa\\base\\tsa_model.py:524: ValueWarning: No frequency information was provided, so inferred frequency D will be used.\n",
      "  warnings.warn('No frequency information was'\n"
     ]
    },
    {
     "name": "stdout",
     "output_type": "stream",
     "text": [
      "(4, 0, 0) 4082.0426914291343\n",
      "(4, 0, 1) 4065.0877688616515\n"
     ]
    },
    {
     "name": "stderr",
     "output_type": "stream",
     "text": [
      "C:\\Users\\Sneha\\anaconda3\\lib\\site-packages\\statsmodels\\tsa\\base\\tsa_model.py:524: ValueWarning: No frequency information was provided, so inferred frequency D will be used.\n",
      "  warnings.warn('No frequency information was'\n"
     ]
    },
    {
     "name": "stdout",
     "output_type": "stream",
     "text": [
      "(4, 0, 2) 4066.079385904359\n"
     ]
    },
    {
     "name": "stderr",
     "output_type": "stream",
     "text": [
      "C:\\Users\\Sneha\\anaconda3\\lib\\site-packages\\statsmodels\\tsa\\base\\tsa_model.py:524: ValueWarning: No frequency information was provided, so inferred frequency D will be used.\n",
      "  warnings.warn('No frequency information was'\n",
      "C:\\Users\\Sneha\\anaconda3\\lib\\site-packages\\statsmodels\\tsa\\base\\tsa_model.py:524: ValueWarning: No frequency information was provided, so inferred frequency D will be used.\n",
      "  warnings.warn('No frequency information was'\n",
      "C:\\Users\\Sneha\\anaconda3\\lib\\site-packages\\statsmodels\\tsa\\tsatools.py:728: RuntimeWarning: invalid value encountered in log\n",
      "  invmacoefs = -np.log((1-macoefs)/(1+macoefs))\n",
      "C:\\Users\\Sneha\\anaconda3\\lib\\site-packages\\statsmodels\\tsa\\base\\tsa_model.py:524: ValueWarning: No frequency information was provided, so inferred frequency D will be used.\n",
      "  warnings.warn('No frequency information was'\n",
      "C:\\Users\\Sneha\\anaconda3\\lib\\site-packages\\statsmodels\\tsa\\base\\tsa_model.py:524: ValueWarning: No frequency information was provided, so inferred frequency D will be used.\n",
      "  warnings.warn('No frequency information was'\n",
      "C:\\Users\\Sneha\\anaconda3\\lib\\site-packages\\statsmodels\\tsa\\base\\tsa_model.py:524: ValueWarning: No frequency information was provided, so inferred frequency D will be used.\n",
      "  warnings.warn('No frequency information was'\n",
      "C:\\Users\\Sneha\\anaconda3\\lib\\site-packages\\statsmodels\\tsa\\base\\tsa_model.py:524: ValueWarning: No frequency information was provided, so inferred frequency D will be used.\n",
      "  warnings.warn('No frequency information was'\n",
      "C:\\Users\\Sneha\\anaconda3\\lib\\site-packages\\statsmodels\\tsa\\base\\tsa_model.py:524: ValueWarning: No frequency information was provided, so inferred frequency D will be used.\n",
      "  warnings.warn('No frequency information was'\n"
     ]
    },
    {
     "name": "stdout",
     "output_type": "stream",
     "text": [
      "(4, 1, 0) 4142.614200688403\n"
     ]
    },
    {
     "name": "stderr",
     "output_type": "stream",
     "text": [
      "C:\\Users\\Sneha\\anaconda3\\lib\\site-packages\\statsmodels\\tsa\\base\\tsa_model.py:524: ValueWarning: No frequency information was provided, so inferred frequency D will be used.\n",
      "  warnings.warn('No frequency information was'\n",
      "C:\\Users\\Sneha\\anaconda3\\lib\\site-packages\\statsmodels\\tsa\\base\\tsa_model.py:524: ValueWarning: No frequency information was provided, so inferred frequency D will be used.\n",
      "  warnings.warn('No frequency information was'\n",
      "C:\\Users\\Sneha\\anaconda3\\lib\\site-packages\\statsmodels\\tsa\\base\\tsa_model.py:524: ValueWarning: No frequency information was provided, so inferred frequency D will be used.\n",
      "  warnings.warn('No frequency information was'\n",
      "C:\\Users\\Sneha\\anaconda3\\lib\\site-packages\\statsmodels\\tsa\\base\\tsa_model.py:524: ValueWarning: No frequency information was provided, so inferred frequency D will be used.\n",
      "  warnings.warn('No frequency information was'\n",
      "C:\\Users\\Sneha\\anaconda3\\lib\\site-packages\\statsmodels\\tsa\\base\\tsa_model.py:524: ValueWarning: No frequency information was provided, so inferred frequency D will be used.\n",
      "  warnings.warn('No frequency information was'\n",
      "C:\\Users\\Sneha\\anaconda3\\lib\\site-packages\\statsmodels\\tsa\\base\\tsa_model.py:524: ValueWarning: No frequency information was provided, so inferred frequency D will be used.\n",
      "  warnings.warn('No frequency information was'\n",
      "C:\\Users\\Sneha\\anaconda3\\lib\\site-packages\\statsmodels\\tsa\\base\\tsa_model.py:524: ValueWarning: No frequency information was provided, so inferred frequency D will be used.\n",
      "  warnings.warn('No frequency information was'\n"
     ]
    },
    {
     "name": "stdout",
     "output_type": "stream",
     "text": [
      "(4, 2, 0) 4215.586060014042\n"
     ]
    },
    {
     "name": "stderr",
     "output_type": "stream",
     "text": [
      "C:\\Users\\Sneha\\anaconda3\\lib\\site-packages\\statsmodels\\tsa\\base\\tsa_model.py:524: ValueWarning: No frequency information was provided, so inferred frequency D will be used.\n",
      "  warnings.warn('No frequency information was'\n",
      "C:\\Users\\Sneha\\anaconda3\\lib\\site-packages\\statsmodels\\tsa\\base\\tsa_model.py:524: ValueWarning: No frequency information was provided, so inferred frequency D will be used.\n",
      "  warnings.warn('No frequency information was'\n",
      "C:\\Users\\Sneha\\anaconda3\\lib\\site-packages\\statsmodels\\tsa\\base\\tsa_model.py:524: ValueWarning: No frequency information was provided, so inferred frequency D will be used.\n",
      "  warnings.warn('No frequency information was'\n",
      "C:\\Users\\Sneha\\anaconda3\\lib\\site-packages\\statsmodels\\tsa\\base\\tsa_model.py:524: ValueWarning: No frequency information was provided, so inferred frequency D will be used.\n",
      "  warnings.warn('No frequency information was'\n",
      "C:\\Users\\Sneha\\anaconda3\\lib\\site-packages\\statsmodels\\tsa\\base\\tsa_model.py:524: ValueWarning: No frequency information was provided, so inferred frequency D will be used.\n",
      "  warnings.warn('No frequency information was'\n",
      "C:\\Users\\Sneha\\anaconda3\\lib\\site-packages\\statsmodels\\tsa\\base\\tsa_model.py:524: ValueWarning: No frequency information was provided, so inferred frequency D will be used.\n",
      "  warnings.warn('No frequency information was'\n",
      "C:\\Users\\Sneha\\anaconda3\\lib\\site-packages\\statsmodels\\tsa\\base\\tsa_model.py:524: ValueWarning: No frequency information was provided, so inferred frequency D will be used.\n",
      "  warnings.warn('No frequency information was'\n",
      "C:\\Users\\Sneha\\anaconda3\\lib\\site-packages\\statsmodels\\tsa\\base\\tsa_model.py:524: ValueWarning: No frequency information was provided, so inferred frequency D will be used.\n",
      "  warnings.warn('No frequency information was'\n"
     ]
    }
   ],
   "source": [
    "for params in pdq:#iterating params over pdq\n",
    "    try:\n",
    "        model_arima_12= ARIMA(train2, order=params)#training model on various pdq values\n",
    "        model_arima_fit_12 = model_arima_12.fit()#training\n",
    "        print(params, model_arima_fit_12.aic)#printing parameter and aic values\n",
    "    except:\n",
    "        continue"
   ]
  },
  {
   "cell_type": "code",
   "execution_count": 108,
   "id": "965f972d",
   "metadata": {},
   "outputs": [
    {
     "name": "stderr",
     "output_type": "stream",
     "text": [
      "C:\\Users\\Sneha\\anaconda3\\lib\\site-packages\\statsmodels\\tsa\\base\\tsa_model.py:524: ValueWarning: No frequency information was provided, so inferred frequency D will be used.\n",
      "  warnings.warn('No frequency information was'\n",
      "C:\\Users\\Sneha\\anaconda3\\lib\\site-packages\\statsmodels\\tsa\\base\\tsa_model.py:524: ValueWarning: No frequency information was provided, so inferred frequency D will be used.\n",
      "  warnings.warn('No frequency information was'\n"
     ]
    }
   ],
   "source": [
    "## create the final model with lowest aic score parameter\n",
    "model_arima2 = ARIMA(train2, order=(0, 1, 4))\n",
    "\n",
    "model_arima_fit2 = model_arima2.fit()#training"
   ]
  },
  {
   "cell_type": "code",
   "execution_count": 109,
   "id": "0cc0f526",
   "metadata": {},
   "outputs": [
    {
     "name": "stdout",
     "output_type": "stream",
     "text": [
      "4036.392769504521\n"
     ]
    }
   ],
   "source": [
    "print(model_arima_fit2.aic)#aic score"
   ]
  },
  {
   "cell_type": "code",
   "execution_count": 110,
   "id": "a1067aed",
   "metadata": {},
   "outputs": [
    {
     "data": {
      "text/plain": [
       "array([-14472.90291491,   9537.42144216,  -3961.87180357,   2097.21944351,\n",
       "         2110.19459019])"
      ]
     },
     "execution_count": 110,
     "metadata": {},
     "output_type": "execute_result"
    }
   ],
   "source": [
    "forecast_recovered = model_arima_fit2.forecast(steps=5)[0]\n",
    "forecast_recovered"
   ]
  },
  {
   "cell_type": "code",
   "execution_count": 111,
   "id": "547d3731",
   "metadata": {},
   "outputs": [
    {
     "data": {
      "text/plain": [
       "[<matplotlib.lines.Line2D at 0x19c906bebb0>]"
      ]
     },
     "execution_count": 111,
     "metadata": {},
     "output_type": "execute_result"
    },
    {
     "data": {
      "image/png": "[encoded data removed]",
      "text/plain": [
       "<Figure size 432x288 with 1 Axes>"
      ]
     },
     "metadata": {
      "needs_background": "light"
     },
     "output_type": "display_data"
    }
   ],
   "source": [
    "## plotting the forecasted values\n",
    "plt.plot(forecast_recovered,color='blue')"
   ]
  },
  {
   "cell_type": "code",
   "execution_count": null,
   "id": "720f01b7",
   "metadata": {},
   "outputs": [],
   "source": []
  },
  {
   "cell_type": "code",
   "execution_count": null,
   "id": "b7478f4d",
   "metadata": {},
   "outputs": [],
   "source": []
  },
  {
   "cell_type": "code",
   "execution_count": null,
   "id": "8046ba15",
   "metadata": {},
   "outputs": [],
   "source": []
  }
 ],
 "metadata": {
  "kernelspec": {
   "display_name": "Python 3 (ipykernel)",
   "language": "python",
   "name": "python3"
  },
  "language_info": {
   "codemirror_mode": {
    "name": "ipython",
    "version": 3
   },
   "file_extension": ".py",
   "mimetype": "text/x-python",
   "name": "python",
   "nbconvert_exporter": "python",
   "pygments_lexer": "ipython3",
   "version": "3.9.7"
  }
 },
 "nbformat": 4,
 "nbformat_minor": 5
}
